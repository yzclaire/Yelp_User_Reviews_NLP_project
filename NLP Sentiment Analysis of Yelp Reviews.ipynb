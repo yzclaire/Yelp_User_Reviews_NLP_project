{
 "cells": [
  {
   "cell_type": "markdown",
   "metadata": {},
   "source": [
    "##  Problem Statement\n",
    "\n",
    "### Backgroud: \n",
    "With so many unstructured data online, in the form as text, video and sounds, how can we turn them into structured data?  Nowadays we have access to thousands of reviews/comments on different social medias, while some reviews come with numeric ratings (like those on app Yelp), some don't (like those on Twitter).  Business owners can certainly trace reviews/comments from customers' posts on all sorts of popular social media platfloms, however the process could become tedious especially when the number of reviews is large and the conclusion is more towards qualitative. For those reviews/comments that don't come with numeric ratings,  if we are able to label these reviews as positive or negative (or on a scale of 1 to 5) by training models with labeled data(yelp data), we can help business owners to keep track of the feedback from customers in a faster and more interpretable way, so that they can adjust their services and offerings in response to customers' most-recent feedback.\n",
    "\n",
    "### Problem Statement\n",
    "The purpose of the project is to gain an understanding of yelp users' reviews and to predict sentimental feedback based on text from individual yelp reviews.\n"
   ]
  },
  {
   "cell_type": "markdown",
   "metadata": {},
   "source": [
    "### Outline of the project :\n",
    "\n",
    "#### - Problem Statement\n",
    "#### - Data Properties & EDA\n",
    "#### - Text Cleaning \n",
    "#### - Word Embedding\n",
    "#### - Model Selections and Evaluations\n",
    "#### - Results and Insights\n",
    "#### - Future Work\n"
   ]
  },
  {
   "cell_type": "code",
   "execution_count": 1,
   "metadata": {},
   "outputs": [],
   "source": [
    "# New pacakges installment\n",
    "# import nltk\n",
    "# nltk.download('wordnet')\n",
    "# !pip install gensim\n",
    "# import nltk\n",
    "# nltk.download('stopwords')\n",
    "# ! pip install regex\n",
    "#! pip install langdetect\n",
    "#! pip install langid\n",
    "#! pip install pydot\n",
    "#! pip install wordcloud"
   ]
  },
  {
   "cell_type": "code",
   "execution_count": 30,
   "metadata": {},
   "outputs": [],
   "source": [
    "# load necessary packages\n",
    "from __future__ import division, print_function\n",
    "import pandas as pd\n",
    "import os\n",
    "import json\n",
    "from sklearn.decomposition import PCA\n",
    "from sklearn.cluster import KMeans\n",
    "import re\n",
    "import regex\n",
    "import matplotlib as mpl\n",
    "import matplotlib.pyplot as plt\n",
    "import seaborn as sns\n",
    "%matplotlib inline\n",
    "import matplotlib\n",
    "mpl.rcParams['figure.figsize'] = (8, 8)\n",
    "#inline_rc = dict(mpl.rcParams)\n",
    "import re\n",
    "import string\n",
    "from nltk import word_tokenize\n",
    "from nltk.corpus import stopwords\n",
    "from sklearn.decomposition import PCA\n",
    "from sklearn.cluster import KMeans\n",
    "import autocorrect\n",
    "from nltk.stem import PorterStemmer\n",
    "from nltk.stem.snowball import SnowballStemmer\n",
    "from nltk.tokenize import sent_tokenize, word_tokenize\n",
    "from nltk.tokenize import WhitespaceTokenizer\n",
    "from nltk.stem import WordNetLemmatizer\n",
    "from sklearn.model_selection import train_test_split\n",
    "import gensim\n",
    "from keras.preprocessing.text import Tokenizer\n",
    "from keras.preprocessing.sequence import pad_sequences \n",
    "import numpy as np\n",
    "from keras.callbacks import ModelCheckpoint\n",
    "from keras.layers import Dense,Input, Dropout, Reshape, Activation,Flatten, concatenate, Input\n",
    "from keras.layers import Bidirectional,GlobalMaxPooling1D,Conv1D, MaxPooling1D, Conv2D,MaxPool2D, MaxPooling2D\n",
    "from keras.layers import Activation, Embedding, GRU\n",
    "from keras.layers.recurrent import LSTM\n",
    "from keras.models import Sequential\n",
    "from keras.models import Model\n",
    "import collections\n",
    "from keras.models import load_model\n",
    "from nltk.classify import textcat\n",
    "from langdetect import detect\n",
    "import langid\n",
    "from keras.models import Model\n",
    "from keras.layers.normalization import BatchNormalization\n",
    "from keras.callbacks import EarlyStopping, ModelCheckpoint\n",
    "from numpy import savetxt\n",
    "from keras.callbacks import EarlyStopping\n",
    "from keras.callbacks import ModelCheckpoint\n",
    "from keras.models import load_model\n",
    "from keras.callbacks import History\n",
    "import pydotplus\n",
    "import keras\n",
    "import pydot as pyd\n",
    "from IPython.display import SVG\n",
    "from keras.utils.vis_utils import model_to_dot\n",
    "import graphviz\n",
    "from keras import regularizers\n",
    "from numpy import asarray\n",
    "from numpy import savetxt\n",
    "from numpy import loadtxt\n",
    "from os import path\n",
    "from PIL import Image\n",
    "from wordcloud import WordCloud, STOPWORDS, ImageColorGenerator\n",
    "import matplotlib.pyplot as plt\n",
    "import warnings\n",
    "warnings.filterwarnings(\"ignore\")\n",
    "from keras.models import load_model\n",
    "from sklearn.metrics import classification_report"
   ]
  },
  {
   "cell_type": "markdown",
   "metadata": {},
   "source": [
    "## Data Properties and EDA\n",
    "\n",
    "#### 1. Load data\n",
    "#### 2. Basic understanding of data \n",
    "#### 3. Split data into train,test, and validation set\n",
    "#### 4. WordCloud on training set"
   ]
  },
  {
   "cell_type": "markdown",
   "metadata": {},
   "source": [
    "### Load Data\n",
    "\n",
    "Specific Steps:\n",
    "- loading data from yelp review and business dataset\n",
    "- Filter for Charlotte city only \n",
    "- Merge review and buisness dataset\n",
    "- Filter for \"restaurant\" category only"
   ]
  },
  {
   "cell_type": "markdown",
   "metadata": {},
   "source": [
    "#### load data from yelp review and business dataset"
   ]
  },
  {
   "cell_type": "code",
   "execution_count": 2,
   "metadata": {},
   "outputs": [
    {
     "data": {
      "text/html": [
       "<div>\n",
       "<style scoped>\n",
       "    .dataframe tbody tr th:only-of-type {\n",
       "        vertical-align: middle;\n",
       "    }\n",
       "\n",
       "    .dataframe tbody tr th {\n",
       "        vertical-align: top;\n",
       "    }\n",
       "\n",
       "    .dataframe thead th {\n",
       "        text-align: right;\n",
       "    }\n",
       "</style>\n",
       "<table border=\"1\" class=\"dataframe\">\n",
       "  <thead>\n",
       "    <tr style=\"text-align: right;\">\n",
       "      <th></th>\n",
       "      <th>review_id</th>\n",
       "      <th>user_id</th>\n",
       "      <th>business_id</th>\n",
       "      <th>stars</th>\n",
       "      <th>useful</th>\n",
       "      <th>funny</th>\n",
       "      <th>cool</th>\n",
       "      <th>text</th>\n",
       "      <th>date</th>\n",
       "    </tr>\n",
       "  </thead>\n",
       "  <tbody>\n",
       "    <tr>\n",
       "      <td>0</td>\n",
       "      <td>Q1sbwvVQXV2734tPgoKj4Q</td>\n",
       "      <td>hG7b0MtEbXx5QzbzE6C_VA</td>\n",
       "      <td>ujmEBvifdJM6h6RLv4wQIg</td>\n",
       "      <td>1.0</td>\n",
       "      <td>6</td>\n",
       "      <td>1</td>\n",
       "      <td>0</td>\n",
       "      <td>Total bill for this horrible service? Over $8G...</td>\n",
       "      <td>2013-05-07 04:34:36</td>\n",
       "    </tr>\n",
       "    <tr>\n",
       "      <td>1</td>\n",
       "      <td>GJXCdrto3ASJOqKeVWPi6Q</td>\n",
       "      <td>yXQM5uF2jS6es16SJzNHfg</td>\n",
       "      <td>NZnhc2sEQy3RmzKTZnqtwQ</td>\n",
       "      <td>5.0</td>\n",
       "      <td>0</td>\n",
       "      <td>0</td>\n",
       "      <td>0</td>\n",
       "      <td>I *adore* Travis at the Hard Rock's new Kelly ...</td>\n",
       "      <td>2017-01-14 21:30:33</td>\n",
       "    </tr>\n",
       "    <tr>\n",
       "      <td>2</td>\n",
       "      <td>2TzJjDVDEuAW6MR5Vuc1ug</td>\n",
       "      <td>n6-Gk65cPZL6Uz8qRm3NYw</td>\n",
       "      <td>WTqjgwHlXbSFevF32_DJVw</td>\n",
       "      <td>5.0</td>\n",
       "      <td>3</td>\n",
       "      <td>0</td>\n",
       "      <td>0</td>\n",
       "      <td>I have to say that this office really has it t...</td>\n",
       "      <td>2016-11-09 20:09:03</td>\n",
       "    </tr>\n",
       "    <tr>\n",
       "      <td>3</td>\n",
       "      <td>yi0R0Ugj_xUx_Nek0-_Qig</td>\n",
       "      <td>dacAIZ6fTM6mqwW5uxkskg</td>\n",
       "      <td>ikCg8xy5JIg_NGPx-MSIDA</td>\n",
       "      <td>5.0</td>\n",
       "      <td>0</td>\n",
       "      <td>0</td>\n",
       "      <td>0</td>\n",
       "      <td>Went in for a lunch. Steak sandwich was delici...</td>\n",
       "      <td>2018-01-09 20:56:38</td>\n",
       "    </tr>\n",
       "    <tr>\n",
       "      <td>4</td>\n",
       "      <td>11a8sVPMUFtaC7_ABRkmtw</td>\n",
       "      <td>ssoyf2_x0EQMed6fgHeMyQ</td>\n",
       "      <td>b1b1eb3uo-w561D0ZfCEiQ</td>\n",
       "      <td>1.0</td>\n",
       "      <td>7</td>\n",
       "      <td>0</td>\n",
       "      <td>0</td>\n",
       "      <td>Today was my second out of three sessions I ha...</td>\n",
       "      <td>2018-01-30 23:07:38</td>\n",
       "    </tr>\n",
       "  </tbody>\n",
       "</table>\n",
       "</div>"
      ],
      "text/plain": [
       "                review_id                 user_id             business_id  \\\n",
       "0  Q1sbwvVQXV2734tPgoKj4Q  hG7b0MtEbXx5QzbzE6C_VA  ujmEBvifdJM6h6RLv4wQIg   \n",
       "1  GJXCdrto3ASJOqKeVWPi6Q  yXQM5uF2jS6es16SJzNHfg  NZnhc2sEQy3RmzKTZnqtwQ   \n",
       "2  2TzJjDVDEuAW6MR5Vuc1ug  n6-Gk65cPZL6Uz8qRm3NYw  WTqjgwHlXbSFevF32_DJVw   \n",
       "3  yi0R0Ugj_xUx_Nek0-_Qig  dacAIZ6fTM6mqwW5uxkskg  ikCg8xy5JIg_NGPx-MSIDA   \n",
       "4  11a8sVPMUFtaC7_ABRkmtw  ssoyf2_x0EQMed6fgHeMyQ  b1b1eb3uo-w561D0ZfCEiQ   \n",
       "\n",
       "   stars  useful  funny  cool  \\\n",
       "0    1.0       6      1     0   \n",
       "1    5.0       0      0     0   \n",
       "2    5.0       3      0     0   \n",
       "3    5.0       0      0     0   \n",
       "4    1.0       7      0     0   \n",
       "\n",
       "                                                text                 date  \n",
       "0  Total bill for this horrible service? Over $8G...  2013-05-07 04:34:36  \n",
       "1  I *adore* Travis at the Hard Rock's new Kelly ...  2017-01-14 21:30:33  \n",
       "2  I have to say that this office really has it t...  2016-11-09 20:09:03  \n",
       "3  Went in for a lunch. Steak sandwich was delici...  2018-01-09 20:56:38  \n",
       "4  Today was my second out of three sessions I ha...  2018-01-30 23:07:38  "
      ]
     },
     "execution_count": 2,
     "metadata": {},
     "output_type": "execute_result"
    }
   ],
   "source": [
    "# Load Yelp review dataset\n",
    "reviews = []\n",
    "with open('yelp_academic_dataset_review.json') as fl:\n",
    "    for i, line in enumerate(fl):\n",
    "        reviews.append(json.loads(line))\n",
    "        #if i+1 >= 100000:\n",
    "            #break\n",
    "df = pd.DataFrame(reviews)\n",
    "df.head()"
   ]
  },
  {
   "cell_type": "code",
   "execution_count": 3,
   "metadata": {},
   "outputs": [
    {
     "data": {
      "text/html": [
       "<div>\n",
       "<style scoped>\n",
       "    .dataframe tbody tr th:only-of-type {\n",
       "        vertical-align: middle;\n",
       "    }\n",
       "\n",
       "    .dataframe tbody tr th {\n",
       "        vertical-align: top;\n",
       "    }\n",
       "\n",
       "    .dataframe thead th {\n",
       "        text-align: right;\n",
       "    }\n",
       "</style>\n",
       "<table border=\"1\" class=\"dataframe\">\n",
       "  <thead>\n",
       "    <tr style=\"text-align: right;\">\n",
       "      <th></th>\n",
       "      <th>business_id</th>\n",
       "      <th>name</th>\n",
       "      <th>address</th>\n",
       "      <th>city</th>\n",
       "      <th>state</th>\n",
       "      <th>postal_code</th>\n",
       "      <th>latitude</th>\n",
       "      <th>longitude</th>\n",
       "      <th>stars</th>\n",
       "      <th>review_count</th>\n",
       "      <th>is_open</th>\n",
       "      <th>attributes</th>\n",
       "      <th>categories</th>\n",
       "      <th>hours</th>\n",
       "    </tr>\n",
       "  </thead>\n",
       "  <tbody>\n",
       "    <tr>\n",
       "      <td>0</td>\n",
       "      <td>1SWheh84yJXfytovILXOAQ</td>\n",
       "      <td>Arizona Biltmore Golf Club</td>\n",
       "      <td>2818 E Camino Acequia Drive</td>\n",
       "      <td>Phoenix</td>\n",
       "      <td>AZ</td>\n",
       "      <td>85016</td>\n",
       "      <td>33.522143</td>\n",
       "      <td>-112.018481</td>\n",
       "      <td>3.0</td>\n",
       "      <td>5</td>\n",
       "      <td>0</td>\n",
       "      <td>{'GoodForKids': 'False'}</td>\n",
       "      <td>Golf, Active Life</td>\n",
       "      <td>None</td>\n",
       "    </tr>\n",
       "    <tr>\n",
       "      <td>1</td>\n",
       "      <td>QXAEGFB4oINsVuTFxEYKFQ</td>\n",
       "      <td>Emerald Chinese Restaurant</td>\n",
       "      <td>30 Eglinton Avenue W</td>\n",
       "      <td>Mississauga</td>\n",
       "      <td>ON</td>\n",
       "      <td>L5R 3E7</td>\n",
       "      <td>43.605499</td>\n",
       "      <td>-79.652289</td>\n",
       "      <td>2.5</td>\n",
       "      <td>128</td>\n",
       "      <td>1</td>\n",
       "      <td>{'RestaurantsReservations': 'True', 'GoodForMe...</td>\n",
       "      <td>Specialty Food, Restaurants, Dim Sum, Imported...</td>\n",
       "      <td>{'Monday': '9:0-0:0', 'Tuesday': '9:0-0:0', 'W...</td>\n",
       "    </tr>\n",
       "    <tr>\n",
       "      <td>2</td>\n",
       "      <td>gnKjwL_1w79qoiV3IC_xQQ</td>\n",
       "      <td>Musashi Japanese Restaurant</td>\n",
       "      <td>10110 Johnston Rd, Ste 15</td>\n",
       "      <td>Charlotte</td>\n",
       "      <td>NC</td>\n",
       "      <td>28210</td>\n",
       "      <td>35.092564</td>\n",
       "      <td>-80.859132</td>\n",
       "      <td>4.0</td>\n",
       "      <td>170</td>\n",
       "      <td>1</td>\n",
       "      <td>{'GoodForKids': 'True', 'NoiseLevel': 'u'avera...</td>\n",
       "      <td>Sushi Bars, Restaurants, Japanese</td>\n",
       "      <td>{'Monday': '17:30-21:30', 'Wednesday': '17:30-...</td>\n",
       "    </tr>\n",
       "    <tr>\n",
       "      <td>3</td>\n",
       "      <td>xvX2CttrVhyG2z1dFg_0xw</td>\n",
       "      <td>Farmers Insurance - Paul Lorenz</td>\n",
       "      <td>15655 W Roosevelt St, Ste 237</td>\n",
       "      <td>Goodyear</td>\n",
       "      <td>AZ</td>\n",
       "      <td>85338</td>\n",
       "      <td>33.455613</td>\n",
       "      <td>-112.395596</td>\n",
       "      <td>5.0</td>\n",
       "      <td>3</td>\n",
       "      <td>1</td>\n",
       "      <td>None</td>\n",
       "      <td>Insurance, Financial Services</td>\n",
       "      <td>{'Monday': '8:0-17:0', 'Tuesday': '8:0-17:0', ...</td>\n",
       "    </tr>\n",
       "    <tr>\n",
       "      <td>4</td>\n",
       "      <td>HhyxOkGAM07SRYtlQ4wMFQ</td>\n",
       "      <td>Queen City Plumbing</td>\n",
       "      <td>4209 Stuart Andrew Blvd, Ste F</td>\n",
       "      <td>Charlotte</td>\n",
       "      <td>NC</td>\n",
       "      <td>28217</td>\n",
       "      <td>35.190012</td>\n",
       "      <td>-80.887223</td>\n",
       "      <td>4.0</td>\n",
       "      <td>4</td>\n",
       "      <td>1</td>\n",
       "      <td>{'BusinessAcceptsBitcoin': 'False', 'ByAppoint...</td>\n",
       "      <td>Plumbing, Shopping, Local Services, Home Servi...</td>\n",
       "      <td>{'Monday': '7:0-23:0', 'Tuesday': '7:0-23:0', ...</td>\n",
       "    </tr>\n",
       "  </tbody>\n",
       "</table>\n",
       "</div>"
      ],
      "text/plain": [
       "              business_id                             name  \\\n",
       "0  1SWheh84yJXfytovILXOAQ       Arizona Biltmore Golf Club   \n",
       "1  QXAEGFB4oINsVuTFxEYKFQ       Emerald Chinese Restaurant   \n",
       "2  gnKjwL_1w79qoiV3IC_xQQ      Musashi Japanese Restaurant   \n",
       "3  xvX2CttrVhyG2z1dFg_0xw  Farmers Insurance - Paul Lorenz   \n",
       "4  HhyxOkGAM07SRYtlQ4wMFQ              Queen City Plumbing   \n",
       "\n",
       "                          address         city state postal_code   latitude  \\\n",
       "0     2818 E Camino Acequia Drive      Phoenix    AZ       85016  33.522143   \n",
       "1            30 Eglinton Avenue W  Mississauga    ON     L5R 3E7  43.605499   \n",
       "2       10110 Johnston Rd, Ste 15    Charlotte    NC       28210  35.092564   \n",
       "3   15655 W Roosevelt St, Ste 237     Goodyear    AZ       85338  33.455613   \n",
       "4  4209 Stuart Andrew Blvd, Ste F    Charlotte    NC       28217  35.190012   \n",
       "\n",
       "    longitude  stars  review_count  is_open  \\\n",
       "0 -112.018481    3.0             5        0   \n",
       "1  -79.652289    2.5           128        1   \n",
       "2  -80.859132    4.0           170        1   \n",
       "3 -112.395596    5.0             3        1   \n",
       "4  -80.887223    4.0             4        1   \n",
       "\n",
       "                                          attributes  \\\n",
       "0                           {'GoodForKids': 'False'}   \n",
       "1  {'RestaurantsReservations': 'True', 'GoodForMe...   \n",
       "2  {'GoodForKids': 'True', 'NoiseLevel': 'u'avera...   \n",
       "3                                               None   \n",
       "4  {'BusinessAcceptsBitcoin': 'False', 'ByAppoint...   \n",
       "\n",
       "                                          categories  \\\n",
       "0                                  Golf, Active Life   \n",
       "1  Specialty Food, Restaurants, Dim Sum, Imported...   \n",
       "2                  Sushi Bars, Restaurants, Japanese   \n",
       "3                      Insurance, Financial Services   \n",
       "4  Plumbing, Shopping, Local Services, Home Servi...   \n",
       "\n",
       "                                               hours  \n",
       "0                                               None  \n",
       "1  {'Monday': '9:0-0:0', 'Tuesday': '9:0-0:0', 'W...  \n",
       "2  {'Monday': '17:30-21:30', 'Wednesday': '17:30-...  \n",
       "3  {'Monday': '8:0-17:0', 'Tuesday': '8:0-17:0', ...  \n",
       "4  {'Monday': '7:0-23:0', 'Tuesday': '7:0-23:0', ...  "
      ]
     },
     "execution_count": 3,
     "metadata": {},
     "output_type": "execute_result"
    }
   ],
   "source": [
    "# Load Yelp business dataset\n",
    "business = []\n",
    "with open('yelp_academic_dataset_business.json') as fl:\n",
    "    for i, line in enumerate(fl):\n",
    "        business.append(json.loads(line))\n",
    "df_busi = pd.DataFrame(business)\n",
    "df_busi.head()\n",
    "\n"
   ]
  },
  {
   "cell_type": "code",
   "execution_count": 4,
   "metadata": {},
   "outputs": [],
   "source": [
    "df.rename(columns={'stars': 'stars_review'}, inplace=True)"
   ]
  },
  {
   "cell_type": "code",
   "execution_count": 5,
   "metadata": {},
   "outputs": [],
   "source": [
    "df_busi.rename(columns={'stars': 'stars_business'}, inplace=True)"
   ]
  },
  {
   "cell_type": "code",
   "execution_count": 6,
   "metadata": {},
   "outputs": [
    {
     "data": {
      "text/plain": [
       "(6685900, 9)"
      ]
     },
     "execution_count": 6,
     "metadata": {},
     "output_type": "execute_result"
    }
   ],
   "source": [
    "df.shape"
   ]
  },
  {
   "cell_type": "code",
   "execution_count": 7,
   "metadata": {},
   "outputs": [
    {
     "data": {
      "text/plain": [
       "(192609, 14)"
      ]
     },
     "execution_count": 7,
     "metadata": {},
     "output_type": "execute_result"
    }
   ],
   "source": [
    "df_busi.shape"
   ]
  },
  {
   "cell_type": "code",
   "execution_count": 18,
   "metadata": {},
   "outputs": [
    {
     "data": {
      "text/html": [
       "<div>\n",
       "<style scoped>\n",
       "    .dataframe tbody tr th:only-of-type {\n",
       "        vertical-align: middle;\n",
       "    }\n",
       "\n",
       "    .dataframe tbody tr th {\n",
       "        vertical-align: top;\n",
       "    }\n",
       "\n",
       "    .dataframe thead th {\n",
       "        text-align: right;\n",
       "    }\n",
       "</style>\n",
       "<table border=\"1\" class=\"dataframe\">\n",
       "  <thead>\n",
       "    <tr style=\"text-align: right;\">\n",
       "      <th></th>\n",
       "      <th>city</th>\n",
       "    </tr>\n",
       "  </thead>\n",
       "  <tbody>\n",
       "    <tr>\n",
       "      <td>Las Vegas</td>\n",
       "      <td>29370</td>\n",
       "    </tr>\n",
       "    <tr>\n",
       "      <td>Toronto</td>\n",
       "      <td>18906</td>\n",
       "    </tr>\n",
       "    <tr>\n",
       "      <td>Phoenix</td>\n",
       "      <td>18766</td>\n",
       "    </tr>\n",
       "    <tr>\n",
       "      <td>Charlotte</td>\n",
       "      <td>9509</td>\n",
       "    </tr>\n",
       "    <tr>\n",
       "      <td>Scottsdale</td>\n",
       "      <td>8837</td>\n",
       "    </tr>\n",
       "    <tr>\n",
       "      <td>Calgary</td>\n",
       "      <td>7736</td>\n",
       "    </tr>\n",
       "    <tr>\n",
       "      <td>Pittsburgh</td>\n",
       "      <td>7017</td>\n",
       "    </tr>\n",
       "    <tr>\n",
       "      <td>Montréal</td>\n",
       "      <td>6449</td>\n",
       "    </tr>\n",
       "    <tr>\n",
       "      <td>Mesa</td>\n",
       "      <td>6080</td>\n",
       "    </tr>\n",
       "    <tr>\n",
       "      <td>Henderson</td>\n",
       "      <td>4892</td>\n",
       "    </tr>\n",
       "  </tbody>\n",
       "</table>\n",
       "</div>"
      ],
      "text/plain": [
       "             city\n",
       "Las Vegas   29370\n",
       "Toronto     18906\n",
       "Phoenix     18766\n",
       "Charlotte    9509\n",
       "Scottsdale   8837\n",
       "Calgary      7736\n",
       "Pittsburgh   7017\n",
       "Montréal     6449\n",
       "Mesa         6080\n",
       "Henderson    4892"
      ]
     },
     "execution_count": 18,
     "metadata": {},
     "output_type": "execute_result"
    }
   ],
   "source": [
    "# Number of Restaurants in each city\n",
    "pd.DataFrame(df_busi.city.value_counts(dropna=False)).head(10)"
   ]
  },
  {
   "cell_type": "code",
   "execution_count": 19,
   "metadata": {},
   "outputs": [],
   "source": [
    "# filter for businesses in Phoenix city only\n",
    "phoenix_busi_df = df_busi.loc[df_busi.city  == \"Phoenix\", :]"
   ]
  },
  {
   "cell_type": "code",
   "execution_count": 20,
   "metadata": {},
   "outputs": [],
   "source": [
    "# filter for reviews for Phoenix city only\n",
    "phoenix_busi_id = df_busi.loc[df_busi.city  == \"Phoenix\", \"business_id\"].tolist()\n",
    "\n",
    "\n",
    "# Create a Dataframe containing reviews for restaurants in Phoenix only\n",
    "phoenix_rev = df[df[\"business_id\"].isin(phoenix_busi_id)]"
   ]
  },
  {
   "cell_type": "code",
   "execution_count": 21,
   "metadata": {},
   "outputs": [],
   "source": [
    "# Merge business and review dataset for Phoenix city only\n",
    "df_phoenix = pd.merge(phoenix_rev, phoenix_busi_df, on=\"business_id\")\n",
    "\n",
    "df_phoenix.to_csv(\"df_phoenix_reviews.csv\")"
   ]
  },
  {
   "cell_type": "code",
   "execution_count": 22,
   "metadata": {},
   "outputs": [],
   "source": [
    "df = pd.read_csv(\"df_phoenix_reviews.csv\")"
   ]
  },
  {
   "cell_type": "code",
   "execution_count": 23,
   "metadata": {},
   "outputs": [
    {
     "data": {
      "text/html": [
       "<div>\n",
       "<style scoped>\n",
       "    .dataframe tbody tr th:only-of-type {\n",
       "        vertical-align: middle;\n",
       "    }\n",
       "\n",
       "    .dataframe tbody tr th {\n",
       "        vertical-align: top;\n",
       "    }\n",
       "\n",
       "    .dataframe thead th {\n",
       "        text-align: right;\n",
       "    }\n",
       "</style>\n",
       "<table border=\"1\" class=\"dataframe\">\n",
       "  <thead>\n",
       "    <tr style=\"text-align: right;\">\n",
       "      <th></th>\n",
       "      <th>Unnamed: 0</th>\n",
       "      <th>review_id</th>\n",
       "      <th>user_id</th>\n",
       "      <th>business_id</th>\n",
       "      <th>stars_review</th>\n",
       "      <th>useful</th>\n",
       "      <th>funny</th>\n",
       "      <th>cool</th>\n",
       "      <th>text</th>\n",
       "      <th>date</th>\n",
       "      <th>...</th>\n",
       "      <th>state</th>\n",
       "      <th>postal_code</th>\n",
       "      <th>latitude</th>\n",
       "      <th>longitude</th>\n",
       "      <th>stars_business</th>\n",
       "      <th>review_count</th>\n",
       "      <th>is_open</th>\n",
       "      <th>attributes</th>\n",
       "      <th>categories</th>\n",
       "      <th>hours</th>\n",
       "    </tr>\n",
       "  </thead>\n",
       "  <tbody>\n",
       "    <tr>\n",
       "      <td>0</td>\n",
       "      <td>0</td>\n",
       "      <td>6BnQwlxRn7ZuWdzninM9sQ</td>\n",
       "      <td>JSrP-dUmLlwZiI7Dp3PQ2A</td>\n",
       "      <td>cHdJXLlKNWixBXpDwEGb_A</td>\n",
       "      <td>3.0</td>\n",
       "      <td>1</td>\n",
       "      <td>7</td>\n",
       "      <td>1</td>\n",
       "      <td>I love chinese food and I love mexican food. W...</td>\n",
       "      <td>2015-04-01 16:30:00</td>\n",
       "      <td>...</td>\n",
       "      <td>AZ</td>\n",
       "      <td>85023.0</td>\n",
       "      <td>33.626831</td>\n",
       "      <td>-112.1003</td>\n",
       "      <td>4.0</td>\n",
       "      <td>1600</td>\n",
       "      <td>1</td>\n",
       "      <td>{'RestaurantsDelivery': 'False', 'RestaurantsT...</td>\n",
       "      <td>Caribbean, Szechuan, Mexican, Restaurants, Chi...</td>\n",
       "      <td>{'Monday': '11:0-21:0', 'Tuesday': '11:0-21:0'...</td>\n",
       "    </tr>\n",
       "    <tr>\n",
       "      <td>1</td>\n",
       "      <td>1</td>\n",
       "      <td>ljyWWUY5WHa5iOweyvYsPA</td>\n",
       "      <td>Olo_x4fV1sFBtlj6COf9Wg</td>\n",
       "      <td>cHdJXLlKNWixBXpDwEGb_A</td>\n",
       "      <td>5.0</td>\n",
       "      <td>2</td>\n",
       "      <td>2</td>\n",
       "      <td>2</td>\n",
       "      <td>A must go destination in Phoenix.\\nChinese - M...</td>\n",
       "      <td>2015-07-16 07:50:21</td>\n",
       "      <td>...</td>\n",
       "      <td>AZ</td>\n",
       "      <td>85023.0</td>\n",
       "      <td>33.626831</td>\n",
       "      <td>-112.1003</td>\n",
       "      <td>4.0</td>\n",
       "      <td>1600</td>\n",
       "      <td>1</td>\n",
       "      <td>{'RestaurantsDelivery': 'False', 'RestaurantsT...</td>\n",
       "      <td>Caribbean, Szechuan, Mexican, Restaurants, Chi...</td>\n",
       "      <td>{'Monday': '11:0-21:0', 'Tuesday': '11:0-21:0'...</td>\n",
       "    </tr>\n",
       "    <tr>\n",
       "      <td>2</td>\n",
       "      <td>2</td>\n",
       "      <td>cZdwD4dbYoSu0aokf3LLCA</td>\n",
       "      <td>X_LSo5sB4vVucNalQ723eg</td>\n",
       "      <td>cHdJXLlKNWixBXpDwEGb_A</td>\n",
       "      <td>4.0</td>\n",
       "      <td>0</td>\n",
       "      <td>0</td>\n",
       "      <td>0</td>\n",
       "      <td>Second time I have been here,  and the only re...</td>\n",
       "      <td>2015-07-03 21:45:17</td>\n",
       "      <td>...</td>\n",
       "      <td>AZ</td>\n",
       "      <td>85023.0</td>\n",
       "      <td>33.626831</td>\n",
       "      <td>-112.1003</td>\n",
       "      <td>4.0</td>\n",
       "      <td>1600</td>\n",
       "      <td>1</td>\n",
       "      <td>{'RestaurantsDelivery': 'False', 'RestaurantsT...</td>\n",
       "      <td>Caribbean, Szechuan, Mexican, Restaurants, Chi...</td>\n",
       "      <td>{'Monday': '11:0-21:0', 'Tuesday': '11:0-21:0'...</td>\n",
       "    </tr>\n",
       "    <tr>\n",
       "      <td>3</td>\n",
       "      <td>3</td>\n",
       "      <td>BfcgnuRnHkURybTMII5HVQ</td>\n",
       "      <td>cMUo-e1If4hP_GivbjQntQ</td>\n",
       "      <td>cHdJXLlKNWixBXpDwEGb_A</td>\n",
       "      <td>4.0</td>\n",
       "      <td>2</td>\n",
       "      <td>2</td>\n",
       "      <td>3</td>\n",
       "      <td>I was brought here by my coworkers. It's becom...</td>\n",
       "      <td>2008-12-03 22:42:57</td>\n",
       "      <td>...</td>\n",
       "      <td>AZ</td>\n",
       "      <td>85023.0</td>\n",
       "      <td>33.626831</td>\n",
       "      <td>-112.1003</td>\n",
       "      <td>4.0</td>\n",
       "      <td>1600</td>\n",
       "      <td>1</td>\n",
       "      <td>{'RestaurantsDelivery': 'False', 'RestaurantsT...</td>\n",
       "      <td>Caribbean, Szechuan, Mexican, Restaurants, Chi...</td>\n",
       "      <td>{'Monday': '11:0-21:0', 'Tuesday': '11:0-21:0'...</td>\n",
       "    </tr>\n",
       "    <tr>\n",
       "      <td>4</td>\n",
       "      <td>4</td>\n",
       "      <td>Y7s6NijX8CBihH6NF8xEBw</td>\n",
       "      <td>nZpSxSHct3faGgonk0nmdw</td>\n",
       "      <td>cHdJXLlKNWixBXpDwEGb_A</td>\n",
       "      <td>4.0</td>\n",
       "      <td>1</td>\n",
       "      <td>0</td>\n",
       "      <td>0</td>\n",
       "      <td>Very interesting! I've tried korean/mexican fu...</td>\n",
       "      <td>2011-08-25 01:12:05</td>\n",
       "      <td>...</td>\n",
       "      <td>AZ</td>\n",
       "      <td>85023.0</td>\n",
       "      <td>33.626831</td>\n",
       "      <td>-112.1003</td>\n",
       "      <td>4.0</td>\n",
       "      <td>1600</td>\n",
       "      <td>1</td>\n",
       "      <td>{'RestaurantsDelivery': 'False', 'RestaurantsT...</td>\n",
       "      <td>Caribbean, Szechuan, Mexican, Restaurants, Chi...</td>\n",
       "      <td>{'Monday': '11:0-21:0', 'Tuesday': '11:0-21:0'...</td>\n",
       "    </tr>\n",
       "  </tbody>\n",
       "</table>\n",
       "<p>5 rows × 23 columns</p>\n",
       "</div>"
      ],
      "text/plain": [
       "   Unnamed: 0               review_id                 user_id  \\\n",
       "0           0  6BnQwlxRn7ZuWdzninM9sQ  JSrP-dUmLlwZiI7Dp3PQ2A   \n",
       "1           1  ljyWWUY5WHa5iOweyvYsPA  Olo_x4fV1sFBtlj6COf9Wg   \n",
       "2           2  cZdwD4dbYoSu0aokf3LLCA  X_LSo5sB4vVucNalQ723eg   \n",
       "3           3  BfcgnuRnHkURybTMII5HVQ  cMUo-e1If4hP_GivbjQntQ   \n",
       "4           4  Y7s6NijX8CBihH6NF8xEBw  nZpSxSHct3faGgonk0nmdw   \n",
       "\n",
       "              business_id  stars_review  useful  funny  cool  \\\n",
       "0  cHdJXLlKNWixBXpDwEGb_A           3.0       1      7     1   \n",
       "1  cHdJXLlKNWixBXpDwEGb_A           5.0       2      2     2   \n",
       "2  cHdJXLlKNWixBXpDwEGb_A           4.0       0      0     0   \n",
       "3  cHdJXLlKNWixBXpDwEGb_A           4.0       2      2     3   \n",
       "4  cHdJXLlKNWixBXpDwEGb_A           4.0       1      0     0   \n",
       "\n",
       "                                                text                 date  \\\n",
       "0  I love chinese food and I love mexican food. W...  2015-04-01 16:30:00   \n",
       "1  A must go destination in Phoenix.\\nChinese - M...  2015-07-16 07:50:21   \n",
       "2  Second time I have been here,  and the only re...  2015-07-03 21:45:17   \n",
       "3  I was brought here by my coworkers. It's becom...  2008-12-03 22:42:57   \n",
       "4  Very interesting! I've tried korean/mexican fu...  2011-08-25 01:12:05   \n",
       "\n",
       "   ... state postal_code   latitude longitude  stars_business  review_count  \\\n",
       "0  ...    AZ     85023.0  33.626831 -112.1003             4.0          1600   \n",
       "1  ...    AZ     85023.0  33.626831 -112.1003             4.0          1600   \n",
       "2  ...    AZ     85023.0  33.626831 -112.1003             4.0          1600   \n",
       "3  ...    AZ     85023.0  33.626831 -112.1003             4.0          1600   \n",
       "4  ...    AZ     85023.0  33.626831 -112.1003             4.0          1600   \n",
       "\n",
       "   is_open                                         attributes  \\\n",
       "0        1  {'RestaurantsDelivery': 'False', 'RestaurantsT...   \n",
       "1        1  {'RestaurantsDelivery': 'False', 'RestaurantsT...   \n",
       "2        1  {'RestaurantsDelivery': 'False', 'RestaurantsT...   \n",
       "3        1  {'RestaurantsDelivery': 'False', 'RestaurantsT...   \n",
       "4        1  {'RestaurantsDelivery': 'False', 'RestaurantsT...   \n",
       "\n",
       "                                          categories  \\\n",
       "0  Caribbean, Szechuan, Mexican, Restaurants, Chi...   \n",
       "1  Caribbean, Szechuan, Mexican, Restaurants, Chi...   \n",
       "2  Caribbean, Szechuan, Mexican, Restaurants, Chi...   \n",
       "3  Caribbean, Szechuan, Mexican, Restaurants, Chi...   \n",
       "4  Caribbean, Szechuan, Mexican, Restaurants, Chi...   \n",
       "\n",
       "                                               hours  \n",
       "0  {'Monday': '11:0-21:0', 'Tuesday': '11:0-21:0'...  \n",
       "1  {'Monday': '11:0-21:0', 'Tuesday': '11:0-21:0'...  \n",
       "2  {'Monday': '11:0-21:0', 'Tuesday': '11:0-21:0'...  \n",
       "3  {'Monday': '11:0-21:0', 'Tuesday': '11:0-21:0'...  \n",
       "4  {'Monday': '11:0-21:0', 'Tuesday': '11:0-21:0'...  \n",
       "\n",
       "[5 rows x 23 columns]"
      ]
     },
     "execution_count": 23,
     "metadata": {},
     "output_type": "execute_result"
    }
   ],
   "source": [
    "df.head()"
   ]
  },
  {
   "cell_type": "code",
   "execution_count": 24,
   "metadata": {},
   "outputs": [
    {
     "data": {
      "text/plain": [
       "Index(['Unnamed: 0', 'review_id', 'user_id', 'business_id', 'stars_review',\n",
       "       'useful', 'funny', 'cool', 'text', 'date', 'name', 'address', 'city',\n",
       "       'state', 'postal_code', 'latitude', 'longitude', 'stars_business',\n",
       "       'review_count', 'is_open', 'attributes', 'categories', 'hours'],\n",
       "      dtype='object')"
      ]
     },
     "execution_count": 24,
     "metadata": {},
     "output_type": "execute_result"
    }
   ],
   "source": [
    "df.columns"
   ]
  },
  {
   "cell_type": "code",
   "execution_count": 25,
   "metadata": {},
   "outputs": [
    {
     "data": {
      "text/plain": [
       "(734136, 23)"
      ]
     },
     "execution_count": 25,
     "metadata": {},
     "output_type": "execute_result"
    }
   ],
   "source": [
    "df.shape"
   ]
  },
  {
   "cell_type": "code",
   "execution_count": 27,
   "metadata": {},
   "outputs": [
    {
     "data": {
      "text/plain": [
       "EBE_Ly3QO-trSOHz-2vGKw    1\n",
       "cplLCkOHx9ywf6WawYBGkQ    1\n",
       "Olq7haxQ7jaeacWRsr4iBg    1\n",
       "V80qi5ECEjsll26lZVE6Sg    1\n",
       "U8czR0S0BHaoBNSRzUbqMQ    1\n",
       "                         ..\n",
       "GWYjmqbdJvZcYG8sMMedCw    1\n",
       "Uo7a7dOoEKuEGf_S5gcKXQ    1\n",
       "bdO8LhseKbADhADTx63Klw    1\n",
       "PBSfrGuJbEt_NoM1aH5NSQ    1\n",
       "AsLdPFcoe_0nfyDM3xYCiA    1\n",
       "Name: review_id, Length: 734136, dtype: int64"
      ]
     },
     "execution_count": 27,
     "metadata": {},
     "output_type": "execute_result"
    }
   ],
   "source": [
    "# make sure there is no duplicate reviews\n",
    "df.review_id.value_counts()"
   ]
  },
  {
   "cell_type": "code",
   "execution_count": 28,
   "metadata": {},
   "outputs": [
    {
     "data": {
      "text/html": [
       "<div>\n",
       "<style scoped>\n",
       "    .dataframe tbody tr th:only-of-type {\n",
       "        vertical-align: middle;\n",
       "    }\n",
       "\n",
       "    .dataframe tbody tr th {\n",
       "        vertical-align: top;\n",
       "    }\n",
       "\n",
       "    .dataframe thead th {\n",
       "        text-align: right;\n",
       "    }\n",
       "</style>\n",
       "<table border=\"1\" class=\"dataframe\">\n",
       "  <thead>\n",
       "    <tr style=\"text-align: right;\">\n",
       "      <th></th>\n",
       "      <th>Unnamed: 0</th>\n",
       "      <th>review_id</th>\n",
       "      <th>user_id</th>\n",
       "      <th>business_id</th>\n",
       "      <th>stars_review</th>\n",
       "      <th>useful</th>\n",
       "      <th>funny</th>\n",
       "      <th>cool</th>\n",
       "      <th>text</th>\n",
       "      <th>date</th>\n",
       "      <th>...</th>\n",
       "      <th>state</th>\n",
       "      <th>postal_code</th>\n",
       "      <th>latitude</th>\n",
       "      <th>longitude</th>\n",
       "      <th>stars_business</th>\n",
       "      <th>review_count</th>\n",
       "      <th>is_open</th>\n",
       "      <th>attributes</th>\n",
       "      <th>categories</th>\n",
       "      <th>hours</th>\n",
       "    </tr>\n",
       "  </thead>\n",
       "  <tbody>\n",
       "    <tr>\n",
       "      <td>count</td>\n",
       "      <td>734136.000000</td>\n",
       "      <td>734136</td>\n",
       "      <td>734136</td>\n",
       "      <td>734136</td>\n",
       "      <td>734136.000000</td>\n",
       "      <td>734136.000000</td>\n",
       "      <td>734136.000000</td>\n",
       "      <td>734136.000000</td>\n",
       "      <td>734136</td>\n",
       "      <td>734136</td>\n",
       "      <td>...</td>\n",
       "      <td>734136</td>\n",
       "      <td>733247.000000</td>\n",
       "      <td>734136.000000</td>\n",
       "      <td>734136.000000</td>\n",
       "      <td>734136.000000</td>\n",
       "      <td>734136.000000</td>\n",
       "      <td>734136.000000</td>\n",
       "      <td>698854</td>\n",
       "      <td>733842</td>\n",
       "      <td>673848</td>\n",
       "    </tr>\n",
       "    <tr>\n",
       "      <td>unique</td>\n",
       "      <td>NaN</td>\n",
       "      <td>734136</td>\n",
       "      <td>253152</td>\n",
       "      <td>18766</td>\n",
       "      <td>NaN</td>\n",
       "      <td>NaN</td>\n",
       "      <td>NaN</td>\n",
       "      <td>NaN</td>\n",
       "      <td>732377</td>\n",
       "      <td>732179</td>\n",
       "      <td>...</td>\n",
       "      <td>2</td>\n",
       "      <td>NaN</td>\n",
       "      <td>NaN</td>\n",
       "      <td>NaN</td>\n",
       "      <td>NaN</td>\n",
       "      <td>NaN</td>\n",
       "      <td>NaN</td>\n",
       "      <td>8358</td>\n",
       "      <td>12168</td>\n",
       "      <td>6632</td>\n",
       "    </tr>\n",
       "    <tr>\n",
       "      <td>top</td>\n",
       "      <td>NaN</td>\n",
       "      <td>EBE_Ly3QO-trSOHz-2vGKw</td>\n",
       "      <td>d_TBs6J3twMy9GChqUEXkg</td>\n",
       "      <td>VyVIneSU7XAWgMBllI6LnQ</td>\n",
       "      <td>NaN</td>\n",
       "      <td>NaN</td>\n",
       "      <td>NaN</td>\n",
       "      <td>NaN</td>\n",
       "      <td>Had the worst experience with Safeway this wee...</td>\n",
       "      <td>2014-04-14 18:03:24</td>\n",
       "      <td>...</td>\n",
       "      <td>AZ</td>\n",
       "      <td>NaN</td>\n",
       "      <td>NaN</td>\n",
       "      <td>NaN</td>\n",
       "      <td>NaN</td>\n",
       "      <td>NaN</td>\n",
       "      <td>NaN</td>\n",
       "      <td>{'BusinessAcceptsCreditCards': 'True'}</td>\n",
       "      <td>Mexican, Restaurants</td>\n",
       "      <td>{'Monday': '0:0-0:0', 'Tuesday': '0:0-0:0', 'W...</td>\n",
       "    </tr>\n",
       "    <tr>\n",
       "      <td>freq</td>\n",
       "      <td>NaN</td>\n",
       "      <td>1</td>\n",
       "      <td>721</td>\n",
       "      <td>2662</td>\n",
       "      <td>NaN</td>\n",
       "      <td>NaN</td>\n",
       "      <td>NaN</td>\n",
       "      <td>NaN</td>\n",
       "      <td>8</td>\n",
       "      <td>5</td>\n",
       "      <td>...</td>\n",
       "      <td>734105</td>\n",
       "      <td>NaN</td>\n",
       "      <td>NaN</td>\n",
       "      <td>NaN</td>\n",
       "      <td>NaN</td>\n",
       "      <td>NaN</td>\n",
       "      <td>NaN</td>\n",
       "      <td>43279</td>\n",
       "      <td>10732</td>\n",
       "      <td>37792</td>\n",
       "    </tr>\n",
       "    <tr>\n",
       "      <td>mean</td>\n",
       "      <td>367067.500000</td>\n",
       "      <td>NaN</td>\n",
       "      <td>NaN</td>\n",
       "      <td>NaN</td>\n",
       "      <td>3.764229</td>\n",
       "      <td>1.440333</td>\n",
       "      <td>0.501520</td>\n",
       "      <td>0.587966</td>\n",
       "      <td>NaN</td>\n",
       "      <td>NaN</td>\n",
       "      <td>...</td>\n",
       "      <td>NaN</td>\n",
       "      <td>85026.517512</td>\n",
       "      <td>33.520374</td>\n",
       "      <td>-112.050366</td>\n",
       "      <td>3.772355</td>\n",
       "      <td>310.130510</td>\n",
       "      <td>0.879559</td>\n",
       "      <td>NaN</td>\n",
       "      <td>NaN</td>\n",
       "      <td>NaN</td>\n",
       "    </tr>\n",
       "    <tr>\n",
       "      <td>std</td>\n",
       "      <td>211926.952948</td>\n",
       "      <td>NaN</td>\n",
       "      <td>NaN</td>\n",
       "      <td>NaN</td>\n",
       "      <td>1.505596</td>\n",
       "      <td>3.457371</td>\n",
       "      <td>1.976142</td>\n",
       "      <td>2.293659</td>\n",
       "      <td>NaN</td>\n",
       "      <td>NaN</td>\n",
       "      <td>...</td>\n",
       "      <td>NaN</td>\n",
       "      <td>151.834923</td>\n",
       "      <td>0.093962</td>\n",
       "      <td>0.055830</td>\n",
       "      <td>0.809203</td>\n",
       "      <td>437.155122</td>\n",
       "      <td>0.325477</td>\n",
       "      <td>NaN</td>\n",
       "      <td>NaN</td>\n",
       "      <td>NaN</td>\n",
       "    </tr>\n",
       "    <tr>\n",
       "      <td>min</td>\n",
       "      <td>0.000000</td>\n",
       "      <td>NaN</td>\n",
       "      <td>NaN</td>\n",
       "      <td>NaN</td>\n",
       "      <td>1.000000</td>\n",
       "      <td>0.000000</td>\n",
       "      <td>0.000000</td>\n",
       "      <td>0.000000</td>\n",
       "      <td>NaN</td>\n",
       "      <td>NaN</td>\n",
       "      <td>...</td>\n",
       "      <td>NaN</td>\n",
       "      <td>36867.000000</td>\n",
       "      <td>33.256202</td>\n",
       "      <td>-112.441067</td>\n",
       "      <td>1.000000</td>\n",
       "      <td>3.000000</td>\n",
       "      <td>0.000000</td>\n",
       "      <td>NaN</td>\n",
       "      <td>NaN</td>\n",
       "      <td>NaN</td>\n",
       "    </tr>\n",
       "    <tr>\n",
       "      <td>25%</td>\n",
       "      <td>183533.750000</td>\n",
       "      <td>NaN</td>\n",
       "      <td>NaN</td>\n",
       "      <td>NaN</td>\n",
       "      <td>3.000000</td>\n",
       "      <td>0.000000</td>\n",
       "      <td>0.000000</td>\n",
       "      <td>0.000000</td>\n",
       "      <td>NaN</td>\n",
       "      <td>NaN</td>\n",
       "      <td>...</td>\n",
       "      <td>NaN</td>\n",
       "      <td>85013.000000</td>\n",
       "      <td>33.459004</td>\n",
       "      <td>-112.077585</td>\n",
       "      <td>3.500000</td>\n",
       "      <td>43.000000</td>\n",
       "      <td>1.000000</td>\n",
       "      <td>NaN</td>\n",
       "      <td>NaN</td>\n",
       "      <td>NaN</td>\n",
       "    </tr>\n",
       "    <tr>\n",
       "      <td>50%</td>\n",
       "      <td>367067.500000</td>\n",
       "      <td>NaN</td>\n",
       "      <td>NaN</td>\n",
       "      <td>NaN</td>\n",
       "      <td>4.000000</td>\n",
       "      <td>0.000000</td>\n",
       "      <td>0.000000</td>\n",
       "      <td>0.000000</td>\n",
       "      <td>NaN</td>\n",
       "      <td>NaN</td>\n",
       "      <td>...</td>\n",
       "      <td>NaN</td>\n",
       "      <td>85018.000000</td>\n",
       "      <td>33.508065</td>\n",
       "      <td>-112.057969</td>\n",
       "      <td>4.000000</td>\n",
       "      <td>145.000000</td>\n",
       "      <td>1.000000</td>\n",
       "      <td>NaN</td>\n",
       "      <td>NaN</td>\n",
       "      <td>NaN</td>\n",
       "    </tr>\n",
       "    <tr>\n",
       "      <td>75%</td>\n",
       "      <td>550601.250000</td>\n",
       "      <td>NaN</td>\n",
       "      <td>NaN</td>\n",
       "      <td>NaN</td>\n",
       "      <td>5.000000</td>\n",
       "      <td>2.000000</td>\n",
       "      <td>0.000000</td>\n",
       "      <td>0.000000</td>\n",
       "      <td>NaN</td>\n",
       "      <td>NaN</td>\n",
       "      <td>...</td>\n",
       "      <td>NaN</td>\n",
       "      <td>85034.000000</td>\n",
       "      <td>33.585729</td>\n",
       "      <td>-112.004239</td>\n",
       "      <td>4.500000</td>\n",
       "      <td>388.000000</td>\n",
       "      <td>1.000000</td>\n",
       "      <td>NaN</td>\n",
       "      <td>NaN</td>\n",
       "      <td>NaN</td>\n",
       "    </tr>\n",
       "    <tr>\n",
       "      <td>max</td>\n",
       "      <td>734135.000000</td>\n",
       "      <td>NaN</td>\n",
       "      <td>NaN</td>\n",
       "      <td>NaN</td>\n",
       "      <td>5.000000</td>\n",
       "      <td>333.000000</td>\n",
       "      <td>169.000000</td>\n",
       "      <td>203.000000</td>\n",
       "      <td>NaN</td>\n",
       "      <td>NaN</td>\n",
       "      <td>...</td>\n",
       "      <td>NaN</td>\n",
       "      <td>94523.000000</td>\n",
       "      <td>33.848416</td>\n",
       "      <td>-111.709554</td>\n",
       "      <td>5.000000</td>\n",
       "      <td>2556.000000</td>\n",
       "      <td>1.000000</td>\n",
       "      <td>NaN</td>\n",
       "      <td>NaN</td>\n",
       "      <td>NaN</td>\n",
       "    </tr>\n",
       "  </tbody>\n",
       "</table>\n",
       "<p>11 rows × 23 columns</p>\n",
       "</div>"
      ],
      "text/plain": [
       "           Unnamed: 0               review_id                 user_id  \\\n",
       "count   734136.000000                  734136                  734136   \n",
       "unique            NaN                  734136                  253152   \n",
       "top               NaN  EBE_Ly3QO-trSOHz-2vGKw  d_TBs6J3twMy9GChqUEXkg   \n",
       "freq              NaN                       1                     721   \n",
       "mean    367067.500000                     NaN                     NaN   \n",
       "std     211926.952948                     NaN                     NaN   \n",
       "min          0.000000                     NaN                     NaN   \n",
       "25%     183533.750000                     NaN                     NaN   \n",
       "50%     367067.500000                     NaN                     NaN   \n",
       "75%     550601.250000                     NaN                     NaN   \n",
       "max     734135.000000                     NaN                     NaN   \n",
       "\n",
       "                   business_id   stars_review         useful          funny  \\\n",
       "count                   734136  734136.000000  734136.000000  734136.000000   \n",
       "unique                   18766            NaN            NaN            NaN   \n",
       "top     VyVIneSU7XAWgMBllI6LnQ            NaN            NaN            NaN   \n",
       "freq                      2662            NaN            NaN            NaN   \n",
       "mean                       NaN       3.764229       1.440333       0.501520   \n",
       "std                        NaN       1.505596       3.457371       1.976142   \n",
       "min                        NaN       1.000000       0.000000       0.000000   \n",
       "25%                        NaN       3.000000       0.000000       0.000000   \n",
       "50%                        NaN       4.000000       0.000000       0.000000   \n",
       "75%                        NaN       5.000000       2.000000       0.000000   \n",
       "max                        NaN       5.000000     333.000000     169.000000   \n",
       "\n",
       "                 cool                                               text  \\\n",
       "count   734136.000000                                             734136   \n",
       "unique            NaN                                             732377   \n",
       "top               NaN  Had the worst experience with Safeway this wee...   \n",
       "freq              NaN                                                  8   \n",
       "mean         0.587966                                                NaN   \n",
       "std          2.293659                                                NaN   \n",
       "min          0.000000                                                NaN   \n",
       "25%          0.000000                                                NaN   \n",
       "50%          0.000000                                                NaN   \n",
       "75%          0.000000                                                NaN   \n",
       "max        203.000000                                                NaN   \n",
       "\n",
       "                       date  ...   state    postal_code       latitude  \\\n",
       "count                734136  ...  734136  733247.000000  734136.000000   \n",
       "unique               732179  ...       2            NaN            NaN   \n",
       "top     2014-04-14 18:03:24  ...      AZ            NaN            NaN   \n",
       "freq                      5  ...  734105            NaN            NaN   \n",
       "mean                    NaN  ...     NaN   85026.517512      33.520374   \n",
       "std                     NaN  ...     NaN     151.834923       0.093962   \n",
       "min                     NaN  ...     NaN   36867.000000      33.256202   \n",
       "25%                     NaN  ...     NaN   85013.000000      33.459004   \n",
       "50%                     NaN  ...     NaN   85018.000000      33.508065   \n",
       "75%                     NaN  ...     NaN   85034.000000      33.585729   \n",
       "max                     NaN  ...     NaN   94523.000000      33.848416   \n",
       "\n",
       "            longitude  stars_business   review_count        is_open  \\\n",
       "count   734136.000000   734136.000000  734136.000000  734136.000000   \n",
       "unique            NaN             NaN            NaN            NaN   \n",
       "top               NaN             NaN            NaN            NaN   \n",
       "freq              NaN             NaN            NaN            NaN   \n",
       "mean      -112.050366        3.772355     310.130510       0.879559   \n",
       "std          0.055830        0.809203     437.155122       0.325477   \n",
       "min       -112.441067        1.000000       3.000000       0.000000   \n",
       "25%       -112.077585        3.500000      43.000000       1.000000   \n",
       "50%       -112.057969        4.000000     145.000000       1.000000   \n",
       "75%       -112.004239        4.500000     388.000000       1.000000   \n",
       "max       -111.709554        5.000000    2556.000000       1.000000   \n",
       "\n",
       "                                    attributes            categories  \\\n",
       "count                                   698854                733842   \n",
       "unique                                    8358                 12168   \n",
       "top     {'BusinessAcceptsCreditCards': 'True'}  Mexican, Restaurants   \n",
       "freq                                     43279                 10732   \n",
       "mean                                       NaN                   NaN   \n",
       "std                                        NaN                   NaN   \n",
       "min                                        NaN                   NaN   \n",
       "25%                                        NaN                   NaN   \n",
       "50%                                        NaN                   NaN   \n",
       "75%                                        NaN                   NaN   \n",
       "max                                        NaN                   NaN   \n",
       "\n",
       "                                                    hours  \n",
       "count                                              673848  \n",
       "unique                                               6632  \n",
       "top     {'Monday': '0:0-0:0', 'Tuesday': '0:0-0:0', 'W...  \n",
       "freq                                                37792  \n",
       "mean                                                  NaN  \n",
       "std                                                   NaN  \n",
       "min                                                   NaN  \n",
       "25%                                                   NaN  \n",
       "50%                                                   NaN  \n",
       "75%                                                   NaN  \n",
       "max                                                   NaN  \n",
       "\n",
       "[11 rows x 23 columns]"
      ]
     },
     "execution_count": 28,
     "metadata": {},
     "output_type": "execute_result"
    }
   ],
   "source": [
    "df.describe(include=\"all\")"
   ]
  },
  {
   "cell_type": "markdown",
   "metadata": {},
   "source": [
    "#### Filter for reviews on restaurants only"
   ]
  },
  {
   "cell_type": "code",
   "execution_count": 29,
   "metadata": {},
   "outputs": [],
   "source": [
    "# Filter for only restaurants\n",
    "is_restaurants = [re.search(\"restaurants\",str(df.categories[i]).lower()) is not None for i in range(len(df))]\n",
    "df = df.loc[is_restaurants,:]"
   ]
  },
  {
   "cell_type": "code",
   "execution_count": 30,
   "metadata": {},
   "outputs": [
    {
     "data": {
      "text/plain": [
       "(427491, 23)"
      ]
     },
     "execution_count": 30,
     "metadata": {},
     "output_type": "execute_result"
    }
   ],
   "source": [
    "# check shape of dataframe\n",
    "df.shape"
   ]
  },
  {
   "cell_type": "markdown",
   "metadata": {},
   "source": [
    "#### Distribution of target variable - \"stars_reviews\""
   ]
  },
  {
   "cell_type": "code",
   "execution_count": 31,
   "metadata": {},
   "outputs": [
    {
     "data": {
      "text/plain": [
       "5.0    188664\n",
       "4.0    105415\n",
       "3.0     48555\n",
       "1.0     48075\n",
       "2.0     36782\n",
       "Name: stars_review, dtype: int64"
      ]
     },
     "execution_count": 31,
     "metadata": {},
     "output_type": "execute_result"
    }
   ],
   "source": [
    "# looks like there is data type inconsistency\n",
    "df.stars_review.value_counts()"
   ]
  },
  {
   "cell_type": "code",
   "execution_count": 33,
   "metadata": {},
   "outputs": [
    {
     "data": {
      "text/plain": [
       "5.0    0.441329\n",
       "4.0    0.246590\n",
       "3.0    0.113581\n",
       "1.0    0.112459\n",
       "2.0    0.086042\n",
       "Name: stars_review, dtype: float64"
      ]
     },
     "execution_count": 33,
     "metadata": {},
     "output_type": "execute_result"
    }
   ],
   "source": [
    "# Check the distribution of target variable - dataset imbalanced\n",
    "df.stars_review.value_counts(normalize = True)"
   ]
  },
  {
   "cell_type": "code",
   "execution_count": 34,
   "metadata": {},
   "outputs": [
    {
     "data": {
      "text/plain": [
       "[5.0, 4.0, 3.0, 1.0, 2.0]"
      ]
     },
     "execution_count": 34,
     "metadata": {},
     "output_type": "execute_result"
    }
   ],
   "source": [
    "labels = df.stars_review.value_counts().index.tolist()\n",
    "labels"
   ]
  },
  {
   "cell_type": "code",
   "execution_count": 35,
   "metadata": {},
   "outputs": [
    {
     "data": {
      "text/plain": [
       "Text(0.5, 0, 'Star Ratings ')"
      ]
     },
     "execution_count": 35,
     "metadata": {},
     "output_type": "execute_result"
    },
    {
     "data": {
      "image/png": "[encoded data removed]",
      "text/plain": [
       "<Figure size 576x288 with 1 Axes>"
      ]
     },
     "metadata": {
      "needs_background": "light"
     },
     "output_type": "display_data"
    }
   ],
   "source": [
    "x=df['stars_review'].value_counts()\n",
    "x=x.sort_index()\n",
    "#plot\n",
    "plt.figure(figsize=(8,4))\n",
    "ax= sns.barplot(x.index, x.values, alpha=0.8)\n",
    "plt.title(\"Yelp Star Rating Distribution\")\n",
    "plt.ylabel('# of Reviews', fontsize=12)\n",
    "plt.xlabel('Star Ratings ', fontsize=12)"
   ]
  },
  {
   "cell_type": "markdown",
   "metadata": {},
   "source": [
    "Noted that 5-star accounts for 44.1% of the total ratings, followed by 4-star representing 24.6% of all the ratings. The distribution on 5 different stars is not balanced but I don't think the mild imbalanced would be a big issue impacting the accaracy of the model predictions."
   ]
  },
  {
   "cell_type": "code",
   "execution_count": 36,
   "metadata": {},
   "outputs": [],
   "source": [
    "# one-hot-encoding the target variables, stars_review\n",
    "df = pd.concat([df,pd.get_dummies(df['stars_review'], prefix='review_stars_')],axis=1)"
   ]
  },
  {
   "cell_type": "markdown",
   "metadata": {},
   "source": [
    "#### Split data set into training and test sets"
   ]
  },
  {
   "cell_type": "code",
   "execution_count": 37,
   "metadata": {},
   "outputs": [],
   "source": [
    "# Create y \n",
    "y = df[\"stars_review\"]"
   ]
  },
  {
   "cell_type": "code",
   "execution_count": 38,
   "metadata": {},
   "outputs": [],
   "source": [
    "# Split into train test\n",
    "train, test = train_test_split(df, test_size=0.1, random_state=42, stratify = y)"
   ]
  },
  {
   "cell_type": "code",
   "execution_count": 39,
   "metadata": {},
   "outputs": [],
   "source": [
    "# Creat ytrain\n",
    "ytrain = train[\"stars_review\"]"
   ]
  },
  {
   "cell_type": "code",
   "execution_count": 40,
   "metadata": {},
   "outputs": [],
   "source": [
    "# Further splitting train into train and validation set\n",
    "train, valid = train_test_split(train, test_size=0.2, random_state=42, stratify = ytrain)"
   ]
  },
  {
   "cell_type": "code",
   "execution_count": 41,
   "metadata": {},
   "outputs": [
    {
     "data": {
      "text/plain": [
       "5.0    0.441327\n",
       "4.0    0.246589\n",
       "3.0    0.113580\n",
       "1.0    0.112462\n",
       "2.0    0.086042\n",
       "Name: stars_review, dtype: float64"
      ]
     },
     "execution_count": 41,
     "metadata": {},
     "output_type": "execute_result"
    }
   ],
   "source": [
    "train.stars_review.value_counts(normalize = True)"
   ]
  },
  {
   "cell_type": "code",
   "execution_count": 42,
   "metadata": {},
   "outputs": [
    {
     "data": {
      "text/plain": [
       "5.0    0.441331\n",
       "4.0    0.246592\n",
       "3.0    0.113582\n",
       "1.0    0.112451\n",
       "2.0    0.086044\n",
       "Name: stars_review, dtype: float64"
      ]
     },
     "execution_count": 42,
     "metadata": {},
     "output_type": "execute_result"
    }
   ],
   "source": [
    "valid.stars_review.value_counts(normalize = True)"
   ]
  },
  {
   "cell_type": "code",
   "execution_count": 43,
   "metadata": {},
   "outputs": [
    {
     "data": {
      "text/plain": [
       "5.0    0.441333\n",
       "4.0    0.246596\n",
       "3.0    0.113591\n",
       "1.0    0.112444\n",
       "2.0    0.086035\n",
       "Name: stars_review, dtype: float64"
      ]
     },
     "execution_count": 43,
     "metadata": {},
     "output_type": "execute_result"
    }
   ],
   "source": [
    "test.stars_review.value_counts(normalize = True)"
   ]
  },
  {
   "cell_type": "code",
   "execution_count": 44,
   "metadata": {},
   "outputs": [],
   "source": [
    "train.to_csv(\"yelp_train.csv\")"
   ]
  },
  {
   "cell_type": "code",
   "execution_count": 45,
   "metadata": {},
   "outputs": [],
   "source": [
    "test.to_csv(\"yelp_test.csv\")"
   ]
  },
  {
   "cell_type": "code",
   "execution_count": 46,
   "metadata": {},
   "outputs": [],
   "source": [
    "valid.to_csv(\"yelp_valid.csv\")"
   ]
  },
  {
   "cell_type": "markdown",
   "metadata": {},
   "source": [
    "#### Create word clouds training set data\n"
   ]
  },
  {
   "cell_type": "code",
   "execution_count": 2,
   "metadata": {},
   "outputs": [],
   "source": [
    "# Load back datasets if needed\n",
    "train= pd.read_csv(\"yelp_train.csv\")\n",
    "valid= pd.read_csv(\"yelp_valid.csv\")\n",
    "test= pd.read_csv(\"yelp_test.csv\")"
   ]
  },
  {
   "cell_type": "code",
   "execution_count": 3,
   "metadata": {},
   "outputs": [
    {
     "data": {
      "text/plain": [
       "Index(['Unnamed: 0', 'Unnamed: 0.1', 'review_id', 'user_id', 'business_id',\n",
       "       'stars_review', 'useful', 'funny', 'cool', 'text', 'date', 'name',\n",
       "       'address', 'city', 'state', 'postal_code', 'latitude', 'longitude',\n",
       "       'stars_business', 'review_count', 'is_open', 'attributes', 'categories',\n",
       "       'hours', 'review_stars__1.0', 'review_stars__2.0', 'review_stars__3.0',\n",
       "       'review_stars__4.0', 'review_stars__5.0'],\n",
       "      dtype='object')"
      ]
     },
     "execution_count": 3,
     "metadata": {},
     "output_type": "execute_result"
    }
   ],
   "source": [
    "train.columns"
   ]
  },
  {
   "cell_type": "code",
   "execution_count": 48,
   "metadata": {},
   "outputs": [],
   "source": [
    "train_sentence = [sen for sen in train[\"text\"]]"
   ]
  },
  {
   "cell_type": "code",
   "execution_count": 49,
   "metadata": {},
   "outputs": [],
   "source": [
    "training_all_sens = ' '.join(train_sentence)"
   ]
  },
  {
   "cell_type": "code",
   "execution_count": 50,
   "metadata": {},
   "outputs": [
    {
     "data": {
      "image/png": "[encoded data removed]",
      "text/plain": [
       "<Figure size 432x288 with 1 Axes>"
      ]
     },
     "metadata": {
      "needs_background": "light"
     },
     "output_type": "display_data"
    }
   ],
   "source": [
    "# Create and generate a word cloud image:\n",
    "wordcloud = WordCloud(max_font_size=50, max_words=100, background_color=\"white\").generate(training_all_sens)\n",
    "\n",
    "# Display the generated image:\n",
    "plt.figure()\n",
    "plt.imshow(wordcloud, interpolation=\"bilinear\")\n",
    "plt.axis(\"off\")\n",
    "plt.show()"
   ]
  },
  {
   "cell_type": "code",
   "execution_count": 51,
   "metadata": {},
   "outputs": [
    {
     "data": {
      "text/plain": [
       "<wordcloud.wordcloud.WordCloud at 0x4176b7510>"
      ]
     },
     "execution_count": 51,
     "metadata": {},
     "output_type": "execute_result"
    }
   ],
   "source": [
    "wordcloud.to_file(\"yelp_phoenix_wordcloud.png\")"
   ]
  },
  {
   "cell_type": "code",
   "execution_count": 52,
   "metadata": {},
   "outputs": [],
   "source": [
    "# Try removing some sentiment-neutral words\n",
    "stopwords = set(STOPWORDS)\n",
    "stopwords.update([\"think\", \"one\", \"restaurant\", \"know\", \"meal\", \"say\",\n",
    "                 \"eat\"])\n"
   ]
  },
  {
   "cell_type": "code",
   "execution_count": 53,
   "metadata": {},
   "outputs": [
    {
     "data": {
      "image/png": "[encoded data removed]",
      "text/plain": [
       "<Figure size 432x288 with 1 Axes>"
      ]
     },
     "metadata": {
      "needs_background": "light"
     },
     "output_type": "display_data"
    }
   ],
   "source": [
    "# Create and generate a word cloud image:\n",
    "wordcloud_1 = WordCloud(max_font_size=50, max_words=100,stopwords=stopwords,\n",
    "                        background_color=\"white\").generate(training_all_sens)\n",
    "\n",
    "# Display the generated image:\n",
    "plt.figure()\n",
    "plt.imshow(wordcloud_1, interpolation=\"bilinear\")\n",
    "plt.axis(\"off\")\n",
    "plt.show()"
   ]
  },
  {
   "cell_type": "markdown",
   "metadata": {},
   "source": [
    "Create separate word clouds for low-ratings and high-rating revies\n",
    "    "
   ]
  },
  {
   "cell_type": "code",
   "execution_count": 54,
   "metadata": {},
   "outputs": [],
   "source": [
    "negative_ind = train.loc[(train.stars_review == 1) | (train.stars_review == 2) | (train.stars_review == 3), \"text\"]"
   ]
  },
  {
   "cell_type": "code",
   "execution_count": 55,
   "metadata": {},
   "outputs": [],
   "source": [
    "positive_ind = train.loc[(train.stars_review == 4) | (train.stars_review == 5) , \"text\"]"
   ]
  },
  {
   "cell_type": "code",
   "execution_count": 56,
   "metadata": {},
   "outputs": [],
   "source": [
    "training_all_neg = ' '.join(negative_ind)\n",
    "training_all_pos = ' '.join(positive_ind)\n"
   ]
  },
  {
   "cell_type": "code",
   "execution_count": 57,
   "metadata": {},
   "outputs": [
    {
     "data": {
      "image/png": "[encoded data removed]",
      "text/plain": [
       "<Figure size 432x288 with 1 Axes>"
      ]
     },
     "metadata": {
      "needs_background": "light"
     },
     "output_type": "display_data"
    }
   ],
   "source": [
    "# Create and generate a word cloud image:\n",
    "wordcloud_neg = WordCloud(max_font_size=50, max_words=100,stopwords=stopwords,\n",
    "                          background_color=\"white\").generate(training_all_neg)\n",
    "\n",
    "# Display the generated image:\n",
    "plt.figure()\n",
    "plt.imshow(wordcloud_neg, interpolation=\"bilinear\")\n",
    "plt.axis(\"off\")\n",
    "plt.show()"
   ]
  },
  {
   "cell_type": "code",
   "execution_count": 58,
   "metadata": {
    "scrolled": true
   },
   "outputs": [
    {
     "data": {
      "image/png": "[encoded data removed]",
      "text/plain": [
       "<Figure size 432x288 with 1 Axes>"
      ]
     },
     "metadata": {
      "needs_background": "light"
     },
     "output_type": "display_data"
    }
   ],
   "source": [
    "# Create and generate a word cloud image:\n",
    "wordcloud_pos = WordCloud(max_font_size=50, max_words=100, stopwords=stopwords,\n",
    "                          background_color=\"white\").generate(training_all_pos)\n",
    "\n",
    "# Display the generated image:\n",
    "plt.figure()\n",
    "plt.imshow(wordcloud_pos, interpolation=\"bilinear\")\n",
    "plt.axis(\"off\")\n",
    "plt.show()"
   ]
  },
  {
   "cell_type": "markdown",
   "metadata": {},
   "source": [
    "## Text Cleaning"
   ]
  },
  {
   "cell_type": "markdown",
   "metadata": {},
   "source": [
    "1. Removing any leading and trailing whitespaces\n",
    "2. Remove comments not in English\n",
    "3. Convert to lowercase\n",
    "4. Apostrophes removed\n",
    "5. Splitting sentences into words\n",
    "6. Remove punctuations\n",
    "7. Filter out remaining tokens that are not alphabetic\n",
    "8. Remove stop words\n",
    "8. Word Normalization : lemmatization\n",
    "\n",
    "\n",
    "*Stop words are a list of words that do not contribute to the deeper meaning of a sentence or phrase such as \"a\", \"the\", \"is\". Removing stop words can help us to reduce the vocabular size and therefore faster processing. While there are many stop words lists available online, it's important to consider if they are appropriate to the specific task of your project. For example, removing stop words such as \"don't\", \"not\", \"aren't\" would change a sentence from negative sentiment to a positive sentiment. Therefore I decided to customize a stop word list for this project. <br>\n",
    "See link for more details: https://medium.com/@limavallantin/why-is-removing-stop-words-not-always-a-good-idea-c8d35bd77214\n",
    "\n",
    "A short list of additional considerations when cleaning text:\n",
    "\n",
    "- Locating and correcting common typos and misspellings.\n",
    "- Word Normalization : stemming \n",
    "- Handling large documents and large collections of text documents that do not fit into memory.\n",
    "- Extracting text from markup like HTML, PDF, or other structured document formats.\n",
    "- Transliteration of characters from other languages into English.\n",
    "- Decoding Unicode characters into a normalized form, such as UTF8.\n",
    "- Handling of domain specific words, phrases, and acronyms.\n",
    "- Handling or removing numbers, such as dates and amounts.\n",
    "\n",
    "Source : https://machinelearningmastery.com/clean-text-machine-learning-python/"
   ]
  },
  {
   "cell_type": "code",
   "execution_count": 4,
   "metadata": {},
   "outputs": [],
   "source": [
    "# Load back datasets if needed\n",
    "train= pd.read_csv(\"yelp_train.csv\")\n",
    "valid= pd.read_csv(\"yelp_valid.csv\")\n",
    "test= pd.read_csv(\"yelp_test.csv\")"
   ]
  },
  {
   "cell_type": "markdown",
   "metadata": {},
   "source": [
    "#### 1. Removing any leading and trailing whitespaces\n"
   ]
  },
  {
   "cell_type": "code",
   "execution_count": 5,
   "metadata": {},
   "outputs": [],
   "source": [
    "striped_sen = [sen.strip() for sen in train['text']]"
   ]
  },
  {
   "cell_type": "markdown",
   "metadata": {},
   "source": [
    "#### 2.Remove non-english reviews"
   ]
  },
  {
   "cell_type": "code",
   "execution_count": 6,
   "metadata": {},
   "outputs": [],
   "source": [
    "\n",
    "english_text_train = []\n",
    "notlangs_train =[]\n",
    "\n",
    "for i in range(len(train)):\n",
    "    try:\n",
    "        detected_lang = detect(striped_sen[i])\n",
    "        if detected_lang == \"en\":\n",
    "            english_text_train.append(i)\n",
    "        \n",
    "    except:\n",
    "        notlangs_train.append(i)\n",
    "        \n",
    "    "
   ]
  },
  {
   "cell_type": "code",
   "execution_count": 7,
   "metadata": {},
   "outputs": [
    {
     "data": {
      "text/plain": [
       "[241255]"
      ]
     },
     "execution_count": 7,
     "metadata": {},
     "output_type": "execute_result"
    }
   ],
   "source": [
    "notlangs_train"
   ]
  },
  {
   "cell_type": "code",
   "execution_count": 8,
   "metadata": {},
   "outputs": [
    {
     "data": {
      "text/plain": [
       "241255    !\n",
       "Name: text, dtype: object"
      ]
     },
     "execution_count": 8,
     "metadata": {},
     "output_type": "execute_result"
    }
   ],
   "source": [
    "train[\"text\"][notlangs_train]"
   ]
  },
  {
   "cell_type": "code",
   "execution_count": 9,
   "metadata": {},
   "outputs": [],
   "source": [
    "# get index of all rows in train\n",
    "full_ind = [i for i in range(len(train))]"
   ]
  },
  {
   "cell_type": "code",
   "execution_count": 10,
   "metadata": {},
   "outputs": [],
   "source": [
    "# get index of non-english reviews\n",
    "english_train_set = set(english_text_train) # this reduces the lookup time from O(n) to O(1)\n",
    "\n",
    "noteng = [ind for ind in full_ind if ind not in english_train_set]"
   ]
  },
  {
   "cell_type": "code",
   "execution_count": 11,
   "metadata": {},
   "outputs": [
    {
     "data": {
      "text/plain": [
       "370               I like it. Chimi & Margaritas.  Winner!\n",
       "745                                           Unique food\n",
       "4389                        meh. i've experienced better.\n",
       "4860    Este lugar es mi favorito para comprar popusas...\n",
       "4881    Las mejores salsas que e probado ...todo muy r...\n",
       "5366    Siempre que agarro comida de aquí y le doy una...\n",
       "5442    David is a dickhead he's very rude and I need ...\n",
       "7782    Un día pasando de pruebas y terminamos en El C...\n",
       "8434    Visite este lugar con unos amigos y el servici...\n",
       "9157    La comida es muy buena el servicio excelente e...\n",
       "Name: text, dtype: object"
      ]
     },
     "execution_count": 11,
     "metadata": {},
     "output_type": "execute_result"
    }
   ],
   "source": [
    "# Let's look what are identified as not in Englisht - not very accurate but decent\n",
    "train.loc[noteng,\"text\"].head(10)"
   ]
  },
  {
   "cell_type": "code",
   "execution_count": 12,
   "metadata": {},
   "outputs": [],
   "source": [
    "# Remove reviews that are not able to be identified as any languange\n",
    "train.drop(index =  noteng , axis=0, inplace= True )"
   ]
  },
  {
   "cell_type": "code",
   "execution_count": 13,
   "metadata": {},
   "outputs": [
    {
     "data": {
      "text/plain": [
       "(307472, 29)"
      ]
     },
     "execution_count": 13,
     "metadata": {},
     "output_type": "execute_result"
    }
   ],
   "source": [
    "train.shape\n"
   ]
  },
  {
   "cell_type": "code",
   "execution_count": 71,
   "metadata": {},
   "outputs": [
    {
     "data": {
      "text/plain": [
       "\"Loved this place! My boyfriend lives walking distance from here so we headed over to grab a quick bite before a party. Fast, amazingly good pizza (we got the one with prosciutto and arugula) that rivals any other pizza I've had in Phoenix and fantastic service. Everyone who works is SO nice and friendly. Like- really, really nice. You'll see! I'd love to go back for drinks/dessert too!\""
      ]
     },
     "execution_count": 71,
     "metadata": {},
     "output_type": "execute_result"
    }
   ],
   "source": [
    "train['text'][8]"
   ]
  },
  {
   "cell_type": "markdown",
   "metadata": {},
   "source": [
    "#### 3.Convert to lowercase"
   ]
  },
  {
   "cell_type": "code",
   "execution_count": 14,
   "metadata": {},
   "outputs": [],
   "source": [
    "#Lowercasing before negation\n",
    "lower_case = [[sen.lower()] for sen in train['text']]"
   ]
  },
  {
   "cell_type": "code",
   "execution_count": 72,
   "metadata": {},
   "outputs": [
    {
     "data": {
      "text/plain": [
       "[\"loved this place! my boyfriend lives walking distance from here so we headed over to grab a quick bite before a party. fast, amazingly good pizza (we got the one with prosciutto and arugula) that rivals any other pizza i've had in phoenix and fantastic service. everyone who works is so nice and friendly. like- really, really nice. you'll see! i'd love to go back for drinks/dessert too!\"]"
      ]
     },
     "execution_count": 72,
     "metadata": {},
     "output_type": "execute_result"
    }
   ],
   "source": [
    "# let's see an example below\n",
    "lower_case[8] "
   ]
  },
  {
   "cell_type": "markdown",
   "metadata": {},
   "source": [
    "#### 4.Split words by whitespace"
   ]
  },
  {
   "cell_type": "code",
   "execution_count": 17,
   "metadata": {},
   "outputs": [],
   "source": [
    "#split sentence into words\n",
    "words = [sen[0].split() for sen in lower_case]"
   ]
  },
  {
   "cell_type": "code",
   "execution_count": 73,
   "metadata": {},
   "outputs": [
    {
     "data": {
      "text/plain": [
       "['loved',\n",
       " 'this',\n",
       " 'place!',\n",
       " 'my',\n",
       " 'boyfriend',\n",
       " 'lives',\n",
       " 'walking',\n",
       " 'distance',\n",
       " 'from',\n",
       " 'here',\n",
       " 'so',\n",
       " 'we',\n",
       " 'headed',\n",
       " 'over',\n",
       " 'to',\n",
       " 'grab',\n",
       " 'a',\n",
       " 'quick',\n",
       " 'bite',\n",
       " 'before',\n",
       " 'a',\n",
       " 'party.',\n",
       " 'fast,',\n",
       " 'amazingly',\n",
       " 'good',\n",
       " 'pizza',\n",
       " '(we',\n",
       " 'got',\n",
       " 'the',\n",
       " 'one',\n",
       " 'with',\n",
       " 'prosciutto',\n",
       " 'and',\n",
       " 'arugula)',\n",
       " 'that',\n",
       " 'rivals',\n",
       " 'any',\n",
       " 'other',\n",
       " 'pizza',\n",
       " \"i've\",\n",
       " 'had',\n",
       " 'in',\n",
       " 'phoenix',\n",
       " 'and',\n",
       " 'fantastic',\n",
       " 'service.',\n",
       " 'everyone',\n",
       " 'who',\n",
       " 'works',\n",
       " 'is',\n",
       " 'so',\n",
       " 'nice',\n",
       " 'and',\n",
       " 'friendly.',\n",
       " 'like-',\n",
       " 'really,',\n",
       " 'really',\n",
       " 'nice.',\n",
       " \"you'll\",\n",
       " 'see!',\n",
       " \"i'd\",\n",
       " 'love',\n",
       " 'to',\n",
       " 'go',\n",
       " 'back',\n",
       " 'for',\n",
       " 'drinks/dessert',\n",
       " 'too!']"
      ]
     },
     "execution_count": 73,
     "metadata": {},
     "output_type": "execute_result"
    }
   ],
   "source": [
    "# Check an example here\n",
    "words[8]"
   ]
  },
  {
   "cell_type": "markdown",
   "metadata": {},
   "source": [
    "#### 5. Apostrophes  removed"
   ]
  },
  {
   "cell_type": "code",
   "execution_count": 19,
   "metadata": {},
   "outputs": [],
   "source": [
    "# %load appos.py\n",
    "appos = {\n",
    "\"aren't\" : \"are not\",\n",
    "\"can't\" : \"cannot\",\n",
    "\"couldn't\" : \"could not\",\n",
    "\"didn't\" : \"did not\",\n",
    "\"doesn't\" : \"does not\",\n",
    "\"don't\" : \"do not\",\n",
    "\"hadn't\" : \"had not\",\n",
    "\"hasn't\" : \"has not\",\n",
    "\"haven't\" : \"have not\",\n",
    "\"he'd\" : \"he would\",\n",
    "\"he'll\" : \"he will\",\n",
    "\"he's\" : \"he is\",\n",
    "\"i'd\" : \"I would\",\n",
    "\"i'd\" : \"I had\",\n",
    "\"i'll\" : \"I will\",\n",
    "\"i'm\" : \"I am\",\n",
    "\"isn't\" : \"is not\",\n",
    "\"it's\" : \"it is\",\n",
    "\"it'll\":\"it will\",\n",
    "\"i've\" : \"I have\",\n",
    "\"let's\" : \"let us\",\n",
    "\"mightn't\" : \"might not\",\n",
    "\"mustn't\" : \"must not\",\n",
    "\"shan't\" : \"shall not\",\n",
    "\"she'd\" : \"she would\",\n",
    "\"she'll\" : \"she will\",\n",
    "\"she's\" : \"she is\",\n",
    "\"shouldn't\" : \"should not\",\n",
    "\"that's\" : \"that is\",\n",
    "\"there's\" : \"there is\",\n",
    "\"they'd\" : \"they would\",\n",
    "\"they'll\" : \"they will\",\n",
    "\"they're\" : \"they are\",\n",
    "\"they've\" : \"they have\",\n",
    "\"we'd\" : \"we would\",\n",
    "\"we're\" : \"we are\",\n",
    "\"weren't\" : \"were not\",\n",
    "\"we've\" : \"we have\",\n",
    "\"what'll\" : \"what will\",\n",
    "\"what're\" : \"what are\",\n",
    "\"what's\" : \"what is\",\n",
    "\"what've\" : \"what have\",\n",
    "\"where's\" : \"where is\",\n",
    "\"who'd\" : \"who would\",\n",
    "\"who'll\" : \"who will\",\n",
    "\"who're\" : \"who are\",\n",
    "\"who's\" : \"who is\",\n",
    "\"who've\" : \"who have\",\n",
    "\"won't\" : \"will not\",\n",
    "\"wouldn't\" : \"would not\",\n",
    "\"you'd\" : \"you would\",\n",
    "\"you'll\" : \"you will\",\n",
    "\"you're\" : \"you are\",\n",
    "\"you've\" : \"you have\",\n",
    "\"'re\": \" are\",\n",
    "\"wasn't\": \"was not\",\n",
    "\"we'll\":\" will\",\n",
    "\"didn't\": \"did not\"\n",
    "}"
   ]
  },
  {
   "cell_type": "code",
   "execution_count": 20,
   "metadata": {},
   "outputs": [],
   "source": [
    "def appos_remove(sen):\n",
    "    return [appos[word] if word in appos else word for word in sen]"
   ]
  },
  {
   "cell_type": "code",
   "execution_count": 21,
   "metadata": {},
   "outputs": [],
   "source": [
    "# Apostrophes connecting words replaced with uniform structures\n",
    "appos_removed = [appos_remove(sen) for sen in words]"
   ]
  },
  {
   "cell_type": "code",
   "execution_count": 74,
   "metadata": {},
   "outputs": [
    {
     "data": {
      "text/plain": [
       "['loved',\n",
       " 'this',\n",
       " 'place!',\n",
       " 'my',\n",
       " 'boyfriend',\n",
       " 'lives',\n",
       " 'walking',\n",
       " 'distance',\n",
       " 'from',\n",
       " 'here',\n",
       " 'so',\n",
       " 'we',\n",
       " 'headed',\n",
       " 'over',\n",
       " 'to',\n",
       " 'grab',\n",
       " 'a',\n",
       " 'quick',\n",
       " 'bite',\n",
       " 'before',\n",
       " 'a',\n",
       " 'party.',\n",
       " 'fast,',\n",
       " 'amazingly',\n",
       " 'good',\n",
       " 'pizza',\n",
       " '(we',\n",
       " 'got',\n",
       " 'the',\n",
       " 'one',\n",
       " 'with',\n",
       " 'prosciutto',\n",
       " 'and',\n",
       " 'arugula)',\n",
       " 'that',\n",
       " 'rivals',\n",
       " 'any',\n",
       " 'other',\n",
       " 'pizza',\n",
       " 'I have',\n",
       " 'had',\n",
       " 'in',\n",
       " 'phoenix',\n",
       " 'and',\n",
       " 'fantastic',\n",
       " 'service.',\n",
       " 'everyone',\n",
       " 'who',\n",
       " 'works',\n",
       " 'is',\n",
       " 'so',\n",
       " 'nice',\n",
       " 'and',\n",
       " 'friendly.',\n",
       " 'like-',\n",
       " 'really,',\n",
       " 'really',\n",
       " 'nice.',\n",
       " 'you will',\n",
       " 'see!',\n",
       " 'I had',\n",
       " 'love',\n",
       " 'to',\n",
       " 'go',\n",
       " 'back',\n",
       " 'for',\n",
       " 'drinks/dessert',\n",
       " 'too!']"
      ]
     },
     "execution_count": 74,
     "metadata": {},
     "output_type": "execute_result"
    }
   ],
   "source": [
    "# confirm the function works: \"i've\" became 'I have', \"you'll\" became \"you will\"\n",
    "appos_removed[8]"
   ]
  },
  {
   "cell_type": "code",
   "execution_count": 23,
   "metadata": {},
   "outputs": [],
   "source": [
    "#rejoin again\n",
    "rejoined_sen = [' '.join(sen) for sen in appos_removed]"
   ]
  },
  {
   "cell_type": "code",
   "execution_count": 24,
   "metadata": {},
   "outputs": [],
   "source": [
    "#Lowercasing again\n",
    "lower_sen = [sen.lower() for sen in rejoined_sen]"
   ]
  },
  {
   "cell_type": "code",
   "execution_count": 75,
   "metadata": {},
   "outputs": [
    {
     "data": {
      "text/plain": [
       "'loved this place! my boyfriend lives walking distance from here so we headed over to grab a quick bite before a party. fast, amazingly good pizza (we got the one with prosciutto and arugula) that rivals any other pizza i have had in phoenix and fantastic service. everyone who works is so nice and friendly. like- really, really nice. you will see! i had love to go back for drinks/dessert too!'"
      ]
     },
     "execution_count": 75,
     "metadata": {},
     "output_type": "execute_result"
    }
   ],
   "source": [
    "lower_sen[8]"
   ]
  },
  {
   "cell_type": "markdown",
   "metadata": {},
   "source": [
    "#### 4.Punctuation: removing the punctuation marks from each tokens"
   ]
  },
  {
   "cell_type": "code",
   "execution_count": 27,
   "metadata": {},
   "outputs": [],
   "source": [
    "# define a function to replace punctuations with white space\n",
    "def remove_punct(text):\n",
    "    text_nopunct = ''\n",
    "    text_nopunct = re.sub('['+string.punctuation+']', ' ', text)\n",
    "    return text_nopunct"
   ]
  },
  {
   "cell_type": "code",
   "execution_count": 31,
   "metadata": {},
   "outputs": [],
   "source": [
    "# replace punctuations in the text with white space\n",
    "text_rem_punct = [remove_punct(sen) for sen in lower_sen]"
   ]
  },
  {
   "cell_type": "code",
   "execution_count": 76,
   "metadata": {},
   "outputs": [
    {
     "data": {
      "text/plain": [
       "'loved this place  my boyfriend lives walking distance from here so we headed over to grab a quick bite before a party  fast  amazingly good pizza  we got the one with prosciutto and arugula  that rivals any other pizza i have had in phoenix and fantastic service  everyone who works is so nice and friendly  like  really  really nice  you will see  i had love to go back for drinks dessert too '"
      ]
     },
     "execution_count": 76,
     "metadata": {},
     "output_type": "execute_result"
    }
   ],
   "source": [
    "# Now all punctuations are removed, e.g., forward slash in 'drinks/dessert' was removed\n",
    "text_rem_punct[8]"
   ]
  },
  {
   "cell_type": "markdown",
   "metadata": {},
   "source": [
    "#### 5. Tokenize words"
   ]
  },
  {
   "cell_type": "code",
   "execution_count": 35,
   "metadata": {},
   "outputs": [],
   "source": [
    "#Tokenize text on whitespace\n",
    "#token_word = [sen.split() for sen in lower_sen]\n",
    "\n",
    "token_word = [WhitespaceTokenizer().tokenize(sen) for sen in text_rem_punct]"
   ]
  },
  {
   "cell_type": "code",
   "execution_count": 77,
   "metadata": {
    "scrolled": true
   },
   "outputs": [
    {
     "data": {
      "text/plain": [
       "['loved',\n",
       " 'this',\n",
       " 'place',\n",
       " 'my',\n",
       " 'boyfriend',\n",
       " 'lives',\n",
       " 'walking',\n",
       " 'distance',\n",
       " 'from',\n",
       " 'here',\n",
       " 'so',\n",
       " 'we',\n",
       " 'headed',\n",
       " 'over',\n",
       " 'to',\n",
       " 'grab',\n",
       " 'a',\n",
       " 'quick',\n",
       " 'bite',\n",
       " 'before',\n",
       " 'a',\n",
       " 'party',\n",
       " 'fast',\n",
       " 'amazingly',\n",
       " 'good',\n",
       " 'pizza',\n",
       " 'we',\n",
       " 'got',\n",
       " 'the',\n",
       " 'one',\n",
       " 'with',\n",
       " 'prosciutto',\n",
       " 'and',\n",
       " 'arugula',\n",
       " 'that',\n",
       " 'rivals',\n",
       " 'any',\n",
       " 'other',\n",
       " 'pizza',\n",
       " 'i',\n",
       " 'have',\n",
       " 'had',\n",
       " 'in',\n",
       " 'phoenix',\n",
       " 'and',\n",
       " 'fantastic',\n",
       " 'service',\n",
       " 'everyone',\n",
       " 'who',\n",
       " 'works',\n",
       " 'is',\n",
       " 'so',\n",
       " 'nice',\n",
       " 'and',\n",
       " 'friendly',\n",
       " 'like',\n",
       " 'really',\n",
       " 'really',\n",
       " 'nice',\n",
       " 'you',\n",
       " 'will',\n",
       " 'see',\n",
       " 'i',\n",
       " 'had',\n",
       " 'love',\n",
       " 'to',\n",
       " 'go',\n",
       " 'back',\n",
       " 'for',\n",
       " 'drinks',\n",
       " 'dessert',\n",
       " 'too']"
      ]
     },
     "execution_count": 77,
     "metadata": {},
     "output_type": "execute_result"
    }
   ],
   "source": [
    "token_word[8]"
   ]
  },
  {
   "cell_type": "markdown",
   "metadata": {},
   "source": [
    "#### 6.Remove non-alphabetic tokens"
   ]
  },
  {
   "cell_type": "code",
   "execution_count": 44,
   "metadata": {},
   "outputs": [],
   "source": [
    "# Remove non-alphabetic tokens, such as numbers \n",
    "def remove_non_alpha(sen):\n",
    "    return [word for word in sen if word.isalpha()]"
   ]
  },
  {
   "cell_type": "code",
   "execution_count": 45,
   "metadata": {},
   "outputs": [],
   "source": [
    "non_alpha_removed = [remove_non_alpha(sen) for sen in token_word]"
   ]
  },
  {
   "cell_type": "code",
   "execution_count": 78,
   "metadata": {},
   "outputs": [
    {
     "data": {
      "text/plain": [
       "'They have some really delicious, creative rolls! They also have a great happy hour from 2-5 and 8-close with $5 sake bombs and several rolls!'"
      ]
     },
     "execution_count": 78,
     "metadata": {},
     "output_type": "execute_result"
    }
   ],
   "source": [
    "train['text'][120]"
   ]
  },
  {
   "cell_type": "code",
   "execution_count": 80,
   "metadata": {},
   "outputs": [
    {
     "data": {
      "text/plain": [
       "'they have some really delicious creative rolls they also have a great happy hour from and close with sake bombs and several rolls'"
      ]
     },
     "execution_count": 80,
     "metadata": {},
     "output_type": "execute_result"
    }
   ],
   "source": [
    "# confirm the function works \n",
    "\" \".join(non_alpha_removed[120])"
   ]
  },
  {
   "cell_type": "markdown",
   "metadata": {},
   "source": [
    "#### 7. Remove stop words\n",
    "\n",
    "Customize a stopword list \n",
    "1. first look at the most frequent words in the training set\n",
    "2. obtain the stopwords list provided by NLTK package as a foundation \n",
    "3. create a stopwords list \n",
    "\n",
    "see helpful link: https://programminghistorian.org/en/lessons/counting-frequencies"
   ]
  },
  {
   "cell_type": "code",
   "execution_count": 81,
   "metadata": {},
   "outputs": [],
   "source": [
    "# Combine all words in the train set\n",
    "all_train_words = [word for tokens in non_alpha_removed for word in tokens]\n",
    "train_vocab = list(set(all_train_words))"
   ]
  },
  {
   "cell_type": "code",
   "execution_count": 82,
   "metadata": {},
   "outputs": [
    {
     "name": "stdout",
     "output_type": "stream",
     "text": [
      "The training set has a total of 31774640 words with a vocab size of 95357 unique words\n"
     ]
    }
   ],
   "source": [
    "print(\"The training set has a total of \"+ str(len(all_train_words)) + \" words with a vocab size of \" + str(len(train_vocab))\n",
    "      + \" unique words\" )"
   ]
  },
  {
   "cell_type": "code",
   "execution_count": 46,
   "metadata": {},
   "outputs": [],
   "source": [
    "# def wordListToFreqDict(wordlist, vocab):\n",
    "#     wordfreq = [wordlist.count(w) for w in vocab]\n",
    "#     return dict(list(zip(vocab,wordfreq)))\n",
    "\n",
    "#train_dict = wordListToFreqDict(wordlist = all_train_words, vocab = train_vocab)\n",
    "# the function above is not recommended, not efficient"
   ]
  },
  {
   "cell_type": "code",
   "execution_count": 83,
   "metadata": {},
   "outputs": [],
   "source": [
    "# create a vocab dictionary to record frequence of each words\n",
    "train_dict = {}\n",
    "for word in all_train_words:\n",
    "    try:\n",
    "        train_dict[word] += 1\n",
    "    except KeyError:\n",
    "        train_dict[word] = 1"
   ]
  },
  {
   "cell_type": "code",
   "execution_count": 84,
   "metadata": {},
   "outputs": [],
   "source": [
    "# create function to sort the vocab dictionary from most frequent to least\n",
    "def sortFreqDict(freqdict):\n",
    "    freqword_list = [(freqdict[key], key) for key in freqdict]\n",
    "    freqword_list.sort()\n",
    "    freqword_list.reverse()\n",
    "    return freqword_list"
   ]
  },
  {
   "cell_type": "code",
   "execution_count": 85,
   "metadata": {},
   "outputs": [],
   "source": [
    "#sort the vocab dictionary from most frequent to least\n",
    "sorted_train_dict = sortFreqDict(train_dict)"
   ]
  },
  {
   "cell_type": "code",
   "execution_count": 86,
   "metadata": {},
   "outputs": [],
   "source": [
    "sorted_train_dict = dict(sorted_train_dict)"
   ]
  },
  {
   "cell_type": "code",
   "execution_count": 87,
   "metadata": {},
   "outputs": [
    {
     "data": {
      "text/plain": [
       "307472"
      ]
     },
     "execution_count": 87,
     "metadata": {},
     "output_type": "execute_result"
    }
   ],
   "source": [
    "train_len = len(non_alpha_removed)\n",
    "train_len"
   ]
  },
  {
   "cell_type": "code",
   "execution_count": 119,
   "metadata": {},
   "outputs": [],
   "source": [
    "# find most frequent words\n",
    "poplist=[]\n",
    "for num,word in sorted_train_dict.items():\n",
    "    if num/len(all_train_words)>0.002:\n",
    "        poplist.append(word)"
   ]
  },
  {
   "cell_type": "code",
   "execution_count": 120,
   "metadata": {},
   "outputs": [
    {
     "data": {
      "text/plain": [
       "['the',\n",
       " 'and',\n",
       " 'i',\n",
       " 'a',\n",
       " 'to',\n",
       " 'was',\n",
       " 'is',\n",
       " 'it',\n",
       " 'of',\n",
       " 'not',\n",
       " 'for',\n",
       " 'in',\n",
       " 'we',\n",
       " 'my',\n",
       " 'this',\n",
       " 'with',\n",
       " 'that',\n",
       " 'but',\n",
       " 'have',\n",
       " 'they',\n",
       " 'you',\n",
       " 'food',\n",
       " 'had',\n",
       " 'on',\n",
       " 'are',\n",
       " 'good',\n",
       " 'were',\n",
       " 'place',\n",
       " 'so',\n",
       " 'great',\n",
       " 'at',\n",
       " 'be',\n",
       " 'as',\n",
       " 'very',\n",
       " 'there',\n",
       " 'service',\n",
       " 'will',\n",
       " 'our',\n",
       " 'here',\n",
       " 'out',\n",
       " 'like',\n",
       " 'all',\n",
       " 'just',\n",
       " 'if',\n",
       " 'back',\n",
       " 'me',\n",
       " 'their',\n",
       " 'time',\n",
       " 'one',\n",
       " 'would',\n",
       " 'do',\n",
       " 'get',\n",
       " 'go',\n",
       " 'or',\n",
       " 'from',\n",
       " 's',\n",
       " 'when',\n",
       " 'really',\n",
       " 'am',\n",
       " 'up',\n",
       " 'did',\n",
       " 'about',\n",
       " 'which',\n",
       " 'been',\n",
       " 'an',\n",
       " 'what',\n",
       " 'some',\n",
       " 'ordered',\n",
       " 'order']"
      ]
     },
     "execution_count": 120,
     "metadata": {},
     "output_type": "execute_result"
    }
   ],
   "source": [
    "poplist"
   ]
  },
  {
   "cell_type": "code",
   "execution_count": 90,
   "metadata": {
    "scrolled": true
   },
   "outputs": [
    {
     "data": {
      "text/plain": [
       "['the', 'and']"
      ]
     },
     "execution_count": 90,
     "metadata": {},
     "output_type": "execute_result"
    }
   ],
   "source": [
    "# identify any words that show up in more than 80% of the reviews in training set\n",
    "stop_word_cand=[]\n",
    "for word in poplist:\n",
    "    if sum([word in sen for sen in non_alpha_removed])/train_len >= 0.80:\n",
    "        stop_word_cand.append(word)\n",
    "        \n",
    "stop_word_cand   "
   ]
  },
  {
   "cell_type": "code",
   "execution_count": 92,
   "metadata": {},
   "outputs": [],
   "source": [
    "# Get stop words from NLTK\n",
    "stoplist = stopwords.words('english')"
   ]
  },
  {
   "cell_type": "code",
   "execution_count": 118,
   "metadata": {},
   "outputs": [
    {
     "data": {
      "text/plain": [
       "['i',\n",
       " 'me',\n",
       " 'my',\n",
       " 'myself',\n",
       " 'we',\n",
       " 'our',\n",
       " 'ours',\n",
       " 'ourselves',\n",
       " 'you',\n",
       " \"you're\",\n",
       " \"you've\",\n",
       " \"you'll\",\n",
       " \"you'd\",\n",
       " 'your',\n",
       " 'yours',\n",
       " 'yourself',\n",
       " 'yourselves',\n",
       " 'he',\n",
       " 'him',\n",
       " 'his',\n",
       " 'himself',\n",
       " 'she',\n",
       " \"she's\",\n",
       " 'her',\n",
       " 'hers',\n",
       " 'herself',\n",
       " 'it',\n",
       " \"it's\",\n",
       " 'its',\n",
       " 'itself',\n",
       " 'they',\n",
       " 'them',\n",
       " 'their',\n",
       " 'theirs',\n",
       " 'themselves',\n",
       " 'what',\n",
       " 'which',\n",
       " 'who',\n",
       " 'whom',\n",
       " 'this',\n",
       " 'that',\n",
       " \"that'll\",\n",
       " 'these',\n",
       " 'those',\n",
       " 'am',\n",
       " 'is',\n",
       " 'are',\n",
       " 'was',\n",
       " 'were',\n",
       " 'be',\n",
       " 'been',\n",
       " 'being',\n",
       " 'have',\n",
       " 'has',\n",
       " 'had',\n",
       " 'having',\n",
       " 'do',\n",
       " 'does',\n",
       " 'did',\n",
       " 'doing',\n",
       " 'a',\n",
       " 'an',\n",
       " 'the',\n",
       " 'and',\n",
       " 'but',\n",
       " 'if',\n",
       " 'or',\n",
       " 'because',\n",
       " 'as',\n",
       " 'until',\n",
       " 'while',\n",
       " 'of',\n",
       " 'at',\n",
       " 'by',\n",
       " 'for',\n",
       " 'with',\n",
       " 'about',\n",
       " 'against',\n",
       " 'between',\n",
       " 'into',\n",
       " 'through',\n",
       " 'during',\n",
       " 'before',\n",
       " 'after',\n",
       " 'above',\n",
       " 'below',\n",
       " 'to',\n",
       " 'from',\n",
       " 'up',\n",
       " 'down',\n",
       " 'in',\n",
       " 'out',\n",
       " 'on',\n",
       " 'off',\n",
       " 'over',\n",
       " 'under',\n",
       " 'again',\n",
       " 'further',\n",
       " 'then',\n",
       " 'once',\n",
       " 'here',\n",
       " 'there',\n",
       " 'when',\n",
       " 'where',\n",
       " 'why',\n",
       " 'how',\n",
       " 'all',\n",
       " 'any',\n",
       " 'both',\n",
       " 'each',\n",
       " 'few',\n",
       " 'more',\n",
       " 'most',\n",
       " 'other',\n",
       " 'some',\n",
       " 'such',\n",
       " 'no',\n",
       " 'nor',\n",
       " 'not',\n",
       " 'only',\n",
       " 'own',\n",
       " 'same',\n",
       " 'so',\n",
       " 'than',\n",
       " 'too',\n",
       " 'very',\n",
       " 's',\n",
       " 't',\n",
       " 'can',\n",
       " 'will',\n",
       " 'just',\n",
       " 'don',\n",
       " \"don't\",\n",
       " 'should',\n",
       " \"should've\",\n",
       " 'now',\n",
       " 'd',\n",
       " 'll',\n",
       " 'm',\n",
       " 'o',\n",
       " 're',\n",
       " 've',\n",
       " 'y',\n",
       " 'ain',\n",
       " 'aren',\n",
       " \"aren't\",\n",
       " 'couldn',\n",
       " \"couldn't\",\n",
       " 'didn',\n",
       " \"didn't\",\n",
       " 'doesn',\n",
       " \"doesn't\",\n",
       " 'hadn',\n",
       " \"hadn't\",\n",
       " 'hasn',\n",
       " \"hasn't\",\n",
       " 'haven',\n",
       " \"haven't\",\n",
       " 'isn',\n",
       " \"isn't\",\n",
       " 'ma',\n",
       " 'mightn',\n",
       " \"mightn't\",\n",
       " 'mustn',\n",
       " \"mustn't\",\n",
       " 'needn',\n",
       " \"needn't\",\n",
       " 'shan',\n",
       " \"shan't\",\n",
       " 'shouldn',\n",
       " \"shouldn't\",\n",
       " 'wasn',\n",
       " \"wasn't\",\n",
       " 'weren',\n",
       " \"weren't\",\n",
       " 'won',\n",
       " \"won't\",\n",
       " 'wouldn',\n",
       " \"wouldn't\"]"
      ]
     },
     "execution_count": 118,
     "metadata": {},
     "output_type": "execute_result"
    }
   ],
   "source": [
    "stoplist"
   ]
  },
  {
   "cell_type": "code",
   "execution_count": 121,
   "metadata": {},
   "outputs": [],
   "source": [
    "# create my own stopword list\n",
    "custom_stop_words = ['i','me','my','myself',\n",
    "                     'we','us','our','ours','ourselves',\n",
    "                     'you',\"you're\",\"you've\",\"you'll\",\"you'd\",'your','yours','yourself',\n",
    "                     'yourselves',\n",
    "                     'he','him','his','himself',\n",
    "                     'she',\"she's\",'her','hers','herself',\n",
    "                     'it',\"it's\", 'its','itself',\n",
    "                     'they', 'them', 'their', 'theirs','themselves',\n",
    "                     'what','which', 'who','whom', 'this','that',  \"that'll\",'these','those',\n",
    "                     'am', 'is','are', 'was','were','be', 'been', 'being','will','would',\n",
    "                     'here','there',\n",
    "                     'have','has','had', 'having',  'do','does','did','doing',\n",
    "                      'a','an',\"and\",'the', 'or',\n",
    "                      't','d','s', 'll','m','o','re','ve', 'ma',\n",
    "                     'to','of','for','in','out','with','on','up', 'at','as','from','about']   \n",
    "\n"
   ]
  },
  {
   "cell_type": "code",
   "execution_count": 122,
   "metadata": {},
   "outputs": [],
   "source": [
    "def removeStopWords(tokens): \n",
    "    return [word for word in tokens if word not in custom_stop_words]"
   ]
  },
  {
   "cell_type": "code",
   "execution_count": 123,
   "metadata": {},
   "outputs": [],
   "source": [
    "# remove stop words\n",
    "filtered_words = [removeStopWords(sen) for sen in non_alpha_removed]"
   ]
  },
  {
   "cell_type": "code",
   "execution_count": 124,
   "metadata": {},
   "outputs": [
    {
     "data": {
      "text/plain": [
       "['loved',\n",
       " 'place',\n",
       " 'boyfriend',\n",
       " 'lives',\n",
       " 'walking',\n",
       " 'distance',\n",
       " 'so',\n",
       " 'headed',\n",
       " 'over',\n",
       " 'grab',\n",
       " 'quick',\n",
       " 'bite',\n",
       " 'before',\n",
       " 'party',\n",
       " 'fast',\n",
       " 'amazingly',\n",
       " 'good',\n",
       " 'pizza',\n",
       " 'got',\n",
       " 'one',\n",
       " 'prosciutto',\n",
       " 'arugula',\n",
       " 'rivals',\n",
       " 'any',\n",
       " 'other',\n",
       " 'pizza',\n",
       " 'phoenix',\n",
       " 'fantastic',\n",
       " 'service',\n",
       " 'everyone',\n",
       " 'works',\n",
       " 'so',\n",
       " 'nice',\n",
       " 'friendly',\n",
       " 'like',\n",
       " 'really',\n",
       " 'really',\n",
       " 'nice',\n",
       " 'see',\n",
       " 'love',\n",
       " 'go',\n",
       " 'back',\n",
       " 'drinks',\n",
       " 'dessert',\n",
       " 'too']"
      ]
     },
     "execution_count": 124,
     "metadata": {},
     "output_type": "execute_result"
    }
   ],
   "source": [
    "# check if stop words removed or not\n",
    "filtered_words[8]"
   ]
  },
  {
   "cell_type": "markdown",
   "metadata": {},
   "source": [
    "####  Spelling Correction \n",
    "\n",
    "It would be nice if we can correct the spelling error in the text. However, we are skipping this step for now as the function takes too long.\n",
    "\n",
    "reference:https://www.quora.com/Are-there-any-NLP-auto-correct-auto-complete-libraries-for-Python"
   ]
  },
  {
   "cell_type": "code",
   "execution_count": 97,
   "metadata": {},
   "outputs": [],
   "source": [
    "# # create a function for auto correct spelling errors \n",
    "# def correctspelling(tokens): \n",
    "#     spell = autocorrect.Speller(lang='en')\n",
    "#     return [spell(word) for word in tokens]"
   ]
  },
  {
   "cell_type": "code",
   "execution_count": 98,
   "metadata": {},
   "outputs": [],
   "source": [
    "# # Check if function works\n",
    "# correctspelling(['caaaar','mussage','hte'])"
   ]
  },
  {
   "cell_type": "code",
   "execution_count": 99,
   "metadata": {},
   "outputs": [],
   "source": [
    "# # auto-correct spelling\n",
    "# corrected_words = [correctspelling(sen) for sen in filtered_words]"
   ]
  },
  {
   "cell_type": "code",
   "execution_count": 100,
   "metadata": {},
   "outputs": [],
   "source": [
    "# # check if stop words removed or not\n",
    "# corrected_words[0]"
   ]
  },
  {
   "cell_type": "markdown",
   "metadata": {},
   "source": [
    "#### 7.Word Normalization : stemming or lemmatization\n",
    "\n",
    "\n",
    "\"The goal of both stemming and lemmatization is to reduce inflected words to their word stem, base or root form—generally a written word form.\n",
    "For example, raining, rains, rained could be all stemmized to \"rain\".\n",
    "\n",
    "The difference between stemming and lemmatization is the way they change the words. Stemming usually directly chops off the ends of words in the hope of achieving this goal correctly most of the time, and often includes the removal of derivational affixes. Lemmatization usually refers to doing things properly with the use of a vocabulary and morphological analysis of words, normally aiming to remove inflectional endings only and to return the base or dictionary form of a word, which is known as the lemma.\"\n",
    "\n",
    "Comparing the text after lemmatized and snowball-stemmed, I prefer to use the text after only lemmatization since stemming actually changes some words to less interpretable, like 'happy' to 'happi'\n",
    "\n",
    "Source : https://stackoverflow.com/questions/1787110/what-is-the-difference-between-lemmatization-vs-stemming\n"
   ]
  },
  {
   "cell_type": "code",
   "execution_count": 126,
   "metadata": {},
   "outputs": [],
   "source": [
    "def lemmatization(tokens):\n",
    "    lemmatizer = WordNetLemmatizer()\n",
    "    return [lemmatizer.lemmatize(word) for word in tokens]"
   ]
  },
  {
   "cell_type": "code",
   "execution_count": 127,
   "metadata": {},
   "outputs": [],
   "source": [
    "def porterstemming(tokens):\n",
    "    ps = PorterStemmer() \n",
    "    return [ps.stem(word) for word in tokens]"
   ]
  },
  {
   "cell_type": "code",
   "execution_count": 128,
   "metadata": {},
   "outputs": [],
   "source": [
    "def snowballstemming(tokens):\n",
    "    ss = SnowballStemmer(\"english\")\n",
    "    return [ss.stem(word) for word in tokens]"
   ]
  },
  {
   "cell_type": "code",
   "execution_count": 129,
   "metadata": {},
   "outputs": [
    {
     "data": {
      "text/plain": [
       "['rocking', 'rain', 'rained', 'boy', 'ran', 'generously', 'happy']"
      ]
     },
     "execution_count": 129,
     "metadata": {},
     "output_type": "execute_result"
    }
   ],
   "source": [
    "# Check if the function works\n",
    "lemmatization([\"rocking\", \"rains\",\"rained\",\"boys\", \"ran\", \"generously\",\"happy\"])"
   ]
  },
  {
   "cell_type": "code",
   "execution_count": 130,
   "metadata": {},
   "outputs": [
    {
     "data": {
      "text/plain": [
       "['rock', 'rain', 'rain', 'boy', 'ran', 'gener', 'happi']"
      ]
     },
     "execution_count": 130,
     "metadata": {},
     "output_type": "execute_result"
    }
   ],
   "source": [
    "# Check if the function works\n",
    "porterstemming([\"rocking\", \"rains\",\"rained\",\"boys\", \"ran\", \"generously\",\"happy\"])"
   ]
  },
  {
   "cell_type": "code",
   "execution_count": 131,
   "metadata": {},
   "outputs": [
    {
     "data": {
      "text/plain": [
       "['rock', 'rain', 'rain', 'boy', 'ran', 'generous', 'happi']"
      ]
     },
     "execution_count": 131,
     "metadata": {},
     "output_type": "execute_result"
    }
   ],
   "source": [
    "# Check if the function works\n",
    "snowballstemming([\"rocking\", \"rains\",\"rained\",\"boys\", \"ran\", \"generously\",\"happy\"])"
   ]
  },
  {
   "cell_type": "code",
   "execution_count": 132,
   "metadata": {},
   "outputs": [],
   "source": [
    "#  Apply lemmatization to text \n",
    "lemmatized_words = [lemmatization(sen) for sen in filtered_words]"
   ]
  },
  {
   "cell_type": "code",
   "execution_count": 133,
   "metadata": {},
   "outputs": [],
   "source": [
    "# #  Apply stemming\n",
    "# stemmed_words = [snowballstemming(sen) for sen in lemmatized_words]\n",
    "\n",
    "# # Check reviews after lemmatized and stemmed\n",
    "# stemmed_words[8]"
   ]
  },
  {
   "cell_type": "code",
   "execution_count": 134,
   "metadata": {
    "scrolled": true
   },
   "outputs": [
    {
     "data": {
      "text/plain": [
       "['loved',\n",
       " 'place',\n",
       " 'boyfriend',\n",
       " 'life',\n",
       " 'walking',\n",
       " 'distance',\n",
       " 'so',\n",
       " 'headed',\n",
       " 'over',\n",
       " 'grab',\n",
       " 'quick',\n",
       " 'bite',\n",
       " 'before',\n",
       " 'party',\n",
       " 'fast',\n",
       " 'amazingly',\n",
       " 'good',\n",
       " 'pizza',\n",
       " 'got',\n",
       " 'one',\n",
       " 'prosciutto',\n",
       " 'arugula',\n",
       " 'rival',\n",
       " 'any',\n",
       " 'other',\n",
       " 'pizza',\n",
       " 'phoenix',\n",
       " 'fantastic',\n",
       " 'service',\n",
       " 'everyone',\n",
       " 'work',\n",
       " 'so',\n",
       " 'nice',\n",
       " 'friendly',\n",
       " 'like',\n",
       " 'really',\n",
       " 'really',\n",
       " 'nice',\n",
       " 'see',\n",
       " 'love',\n",
       " 'go',\n",
       " 'back',\n",
       " 'drink',\n",
       " 'dessert',\n",
       " 'too']"
      ]
     },
     "execution_count": 134,
     "metadata": {},
     "output_type": "execute_result"
    }
   ],
   "source": [
    "# Check reviews after lemmatized\n",
    "lemmatized_words[8]"
   ]
  },
  {
   "cell_type": "code",
   "execution_count": 135,
   "metadata": {},
   "outputs": [
    {
     "data": {
      "text/plain": [
       "True"
      ]
     },
     "execution_count": 135,
     "metadata": {},
     "output_type": "execute_result"
    }
   ],
   "source": [
    "# Make sure the cleaned text has the same length as the train dataframe\n",
    "len(lemmatized_words) == len(train)"
   ]
  },
  {
   "cell_type": "code",
   "execution_count": 139,
   "metadata": {},
   "outputs": [],
   "source": [
    "# Add cleaned(lemmatized) Text back to df\n",
    "train['text_clean'] = [' '.join(sen) for sen in lemmatized_words]"
   ]
  },
  {
   "cell_type": "code",
   "execution_count": 140,
   "metadata": {},
   "outputs": [],
   "source": [
    "# add tokenized  cleaned Text back to df\n",
    "train['tokens'] =lemmatized_words"
   ]
  },
  {
   "cell_type": "code",
   "execution_count": 141,
   "metadata": {},
   "outputs": [
    {
     "data": {
      "text/plain": [
       "\"Loved this place! My boyfriend lives walking distance from here so we headed over to grab a quick bite before a party. Fast, amazingly good pizza (we got the one with prosciutto and arugula) that rivals any other pizza I've had in Phoenix and fantastic service. Everyone who works is SO nice and friendly. Like- really, really nice. You'll see! I'd love to go back for drinks/dessert too!\""
      ]
     },
     "execution_count": 141,
     "metadata": {},
     "output_type": "execute_result"
    }
   ],
   "source": [
    "train[\"text\"][8]"
   ]
  },
  {
   "cell_type": "code",
   "execution_count": 142,
   "metadata": {},
   "outputs": [
    {
     "data": {
      "text/plain": [
       "'loved place boyfriend life walking distance so headed over grab quick bite before party fast amazingly good pizza got one prosciutto arugula rival any other pizza phoenix fantastic service everyone work so nice friendly like really really nice see love go back drink dessert too'"
      ]
     },
     "execution_count": 142,
     "metadata": {},
     "output_type": "execute_result"
    }
   ],
   "source": [
    "train[\"text_clean\"][8]"
   ]
  },
  {
   "cell_type": "markdown",
   "metadata": {},
   "source": [
    "### Define a function for text cleaning"
   ]
  },
  {
   "cell_type": "code",
   "execution_count": 83,
   "metadata": {},
   "outputs": [],
   "source": [
    "# Give a new name to appos_dict , in order to have the next function able to run\n",
    "appos_dict = {\n",
    "\"aren't\" : \"are not\",\n",
    "\"can't\" : \"cannot\",\n",
    "\"couldn't\" : \"could not\",\n",
    "\"didn't\" : \"did not\",\n",
    "\"doesn't\" : \"does not\",\n",
    "\"don't\" : \"do not\",\n",
    "\"hadn't\" : \"had not\",\n",
    "\"hasn't\" : \"has not\",\n",
    "\"haven't\" : \"have not\",\n",
    "\"he'd\" : \"he would\",\n",
    "\"he'll\" : \"he will\",\n",
    "\"he's\" : \"he is\",\n",
    "\"i'd\" : \"I would\",\n",
    "\"i'd\" : \"I had\",\n",
    "\"i'll\" : \"I will\",\n",
    "\"i'm\" : \"I am\",\n",
    "\"isn't\" : \"is not\",\n",
    "\"it's\" : \"it is\",\n",
    "\"it'll\":\"it will\",\n",
    "\"i've\" : \"I have\",\n",
    "\"let's\" : \"let us\",\n",
    "\"mightn't\" : \"might not\",\n",
    "\"mustn't\" : \"must not\",\n",
    "\"shan't\" : \"shall not\",\n",
    "\"she'd\" : \"she would\",\n",
    "\"she'll\" : \"she will\",\n",
    "\"she's\" : \"she is\",\n",
    "\"shouldn't\" : \"should not\",\n",
    "\"that's\" : \"that is\",\n",
    "\"there's\" : \"there is\",\n",
    "\"they'd\" : \"they would\",\n",
    "\"they'll\" : \"they will\",\n",
    "\"they're\" : \"they are\",\n",
    "\"they've\" : \"they have\",\n",
    "\"we'd\" : \"we would\",\n",
    "\"we're\" : \"we are\",\n",
    "\"weren't\" : \"were not\",\n",
    "\"we've\" : \"we have\",\n",
    "\"what'll\" : \"what will\",\n",
    "\"what're\" : \"what are\",\n",
    "\"what's\" : \"what is\",\n",
    "\"what've\" : \"what have\",\n",
    "\"where's\" : \"where is\",\n",
    "\"who'd\" : \"who would\",\n",
    "\"who'll\" : \"who will\",\n",
    "\"who're\" : \"who are\",\n",
    "\"who's\" : \"who is\",\n",
    "\"who've\" : \"who have\",\n",
    "\"won't\" : \"will not\",\n",
    "\"wouldn't\" : \"would not\",\n",
    "\"you'd\" : \"you would\",\n",
    "\"you'll\" : \"you will\",\n",
    "\"you're\" : \"you are\",\n",
    "\"you've\" : \"you have\",\n",
    "\"'re\": \" are\",\n",
    "\"wasn't\": \"was not\",\n",
    "\"we'll\":\" will\",\n",
    "\"didn't\": \"did not\"\n",
    "}"
   ]
  },
  {
   "cell_type": "code",
   "execution_count": 84,
   "metadata": {},
   "outputs": [],
   "source": [
    "# define a function to remove apotrophes\n",
    "def appos_remove(sen):\n",
    "    return [appos_dict[word] if word in appos_dict else word for word in sen]\n",
    "\n",
    "# define a function to replace punctuations with white space\n",
    "def remove_punct(text):\n",
    "    text_nopunct = ''\n",
    "    text_nopunct = re.sub('['+string.punctuation+']', ' ', text)\n",
    "    return text_nopunct\n",
    "\n",
    "# def remove_punct_sen(sen):\n",
    "#     return [remove_punct(word) for word in sen]\n",
    "\n",
    "# Remove non-alphabetic tokens, such as numbers \n",
    "def remove_non_alpha(sen):\n",
    "    return [word for word in sen if word.isalpha()]\n",
    "    \n",
    "def removeStopWords(tokens): \n",
    "    return [word for word in tokens if word not in custom_stop_words]\n",
    "\n",
    "\n",
    "# 7.Word Normalization : lemmatization\n",
    "def lemmatization(tokens):\n",
    "    lemmatizer = WordNetLemmatizer()\n",
    "    return [lemmatizer.lemmatize(word) for word in tokens]"
   ]
  },
  {
   "cell_type": "code",
   "execution_count": 85,
   "metadata": {},
   "outputs": [],
   "source": [
    "# create my own stopword list\n",
    "custom_stop_words = ['i','me','my','myself',\n",
    "                     'we','us','our','ours','ourselves',\n",
    "                     'you',\"you're\",\"you've\",\"you'll\",\"you'd\",'your','yours','yourself',\n",
    "                     'yourselves',\n",
    "                     'he','him','his','himself',\n",
    "                     'she',\"she's\",'her','hers','herself',\n",
    "                     'it',\"it's\", 'its','itself',\n",
    "                     'they', 'them', 'their', 'theirs','themselves',\n",
    "                     'what','which', 'who','whom', 'this','that',  \"that'll\",'these','those',\n",
    "                     'am', 'is','are', 'was','were','be', 'been', 'being','will','would',\n",
    "                     'here','there',\n",
    "                     'have','has','had', 'having',  'do','does','did','doing',\n",
    "                      'a','an',\"and\",'the', 'or',\n",
    "                      't','d','s', 'll','m','o','re','ve', 'ma',\n",
    "                     'to','of','for','in','out','with','on','up', 'at','as','from','about']   \n",
    "\n"
   ]
  },
  {
   "cell_type": "code",
   "execution_count": 86,
   "metadata": {},
   "outputs": [],
   "source": [
    "# define a function to clean data\n",
    "def text_cleaning(dataset):\n",
    "    \n",
    "    # 1. Remove non-english reviews\n",
    "    \n",
    "    # first Removing any leading and trailing whitespaces\n",
    "    striped_sen = [sen.strip() for sen in dataset[\"text\"]]\n",
    "    \n",
    "    \n",
    "    english_text = []\n",
    "    notlangs =[]\n",
    "\n",
    "    for i in range(len(dataset)):\n",
    "        try:\n",
    "            detected_lang = detect(striped_sen[i])\n",
    "            if detected_lang == \"en\":\n",
    "                english_text.append(i)\n",
    "        \n",
    "        except:\n",
    "            notlangs.append(i)\n",
    "        \n",
    "    \n",
    "    full_ind = [i for i in range(len(dataset))]\n",
    "    \n",
    "    english_set = set(english_text) # this reduces the lookup time from O(n) to O(1)\n",
    "\n",
    "    not_eng = [ind for ind in full_ind if ind not in english_set]\n",
    "    \n",
    "    dataset.drop(index =not_eng, axis=0, inplace= True )\n",
    "    \n",
    "    \n",
    "    # 2.Convert to lowercase\n",
    "    #first Lowercasing \n",
    "    lower_case = [[sen.lower()] for sen in dataset['text']]\n",
    "    \n",
    "    \n",
    "    \n",
    "    # 3. Split words by whitespace\n",
    "    #split sentence into words \n",
    "    words = [sen[0].split() for sen in lower_case]\n",
    "   \n",
    "    \n",
    "    \n",
    "    # 4. Remove Apostrophes \n",
    "    \n",
    "    # Apostrophes connecting words replaced with uniform structures\n",
    "    appos_removed = [appos_remove(sen) for sen in words]\n",
    "    \n",
    "    #rejoin again\n",
    "    rejoined_sen = [' '.join(sen) for sen in appos_removed]\n",
    "    \n",
    "    #Lowercasing again\n",
    "    lower_sen = [sen.lower() for sen in rejoined_sen]\n",
    "    \n",
    "    \n",
    "    \n",
    "    # 5.Punctuation\n",
    "    # replace punctuations in the text with white space\n",
    "    text_rem_punct = [remove_punct(sen) for sen in lower_sen]\n",
    "    \n",
    "    \n",
    "    \n",
    "    \n",
    "    # 6.split sentence into words\n",
    "    token_word = [WhitespaceTokenizer().tokenize(sen) for sen in text_rem_punct]\n",
    "    \n",
    "    \n",
    "\n",
    "    # 7.Remove non-alphabetic tokens\n",
    "    non_alpha_removed = [remove_non_alpha(sen) for sen in token_word]\n",
    "    \n",
    "    \n",
    "    \n",
    "    # 8. Remove stop words\n",
    "\n",
    "    filtered_words = [removeStopWords(sen) for sen in non_alpha_removed]\n",
    "    \n",
    "    \n",
    "   \n",
    "    # 8. Apply lemmatization \n",
    "    lemmatized_words = [lemmatization(sen) for sen in filtered_words]\n",
    "    \n",
    "\n",
    "    # Add cleaned(lemmatized) Text back to df\n",
    "    dataset.loc[:,'text_clean'] = [' '.join(sen) for sen in lemmatized_words]\n",
    "\n",
    "    # add tokenized  cleaned Text back to df\n",
    "    dataset.loc[:, 'tokens'] =lemmatized_words\n",
    "    \n",
    "\n",
    "    return dataset"
   ]
  },
  {
   "cell_type": "markdown",
   "metadata": {},
   "source": [
    "### Clean text in the training set"
   ]
  },
  {
   "cell_type": "code",
   "execution_count": 148,
   "metadata": {},
   "outputs": [],
   "source": [
    "#train= pd.read_csv(\"yelp_train.csv\")\n",
    "valid= pd.read_csv(\"yelp_valid.csv\")\n",
    "test= pd.read_csv(\"yelp_test.csv\")"
   ]
  },
  {
   "cell_type": "code",
   "execution_count": 14,
   "metadata": {},
   "outputs": [],
   "source": [
    "#train = text_cleaning(train)"
   ]
  },
  {
   "cell_type": "code",
   "execution_count": 149,
   "metadata": {},
   "outputs": [
    {
     "data": {
      "text/html": [
       "<div>\n",
       "<style scoped>\n",
       "    .dataframe tbody tr th:only-of-type {\n",
       "        vertical-align: middle;\n",
       "    }\n",
       "\n",
       "    .dataframe tbody tr th {\n",
       "        vertical-align: top;\n",
       "    }\n",
       "\n",
       "    .dataframe thead th {\n",
       "        text-align: right;\n",
       "    }\n",
       "</style>\n",
       "<table border=\"1\" class=\"dataframe\">\n",
       "  <thead>\n",
       "    <tr style=\"text-align: right;\">\n",
       "      <th></th>\n",
       "      <th>stars_review</th>\n",
       "      <th>tokens</th>\n",
       "      <th>text_clean</th>\n",
       "      <th>text</th>\n",
       "    </tr>\n",
       "  </thead>\n",
       "  <tbody>\n",
       "    <tr>\n",
       "      <td>0</td>\n",
       "      <td>5.0</td>\n",
       "      <td>[used, work, right, around, corner, all, offic...</td>\n",
       "      <td>used work right around corner all office girl ...</td>\n",
       "      <td>I used to work right around the corner from he...</td>\n",
       "    </tr>\n",
       "    <tr>\n",
       "      <td>1</td>\n",
       "      <td>4.0</td>\n",
       "      <td>[very, random, boxing, rink, mason, jar, mixol...</td>\n",
       "      <td>very random boxing rink mason jar mixologist t...</td>\n",
       "      <td>Very random. Boxing Rink, Mason Jars and Mixol...</td>\n",
       "    </tr>\n",
       "    <tr>\n",
       "      <td>2</td>\n",
       "      <td>5.0</td>\n",
       "      <td>[part, job, pick, different, incentive, busine...</td>\n",
       "      <td>part job pick different incentive business ari...</td>\n",
       "      <td>Part of my job is to pick up different incenti...</td>\n",
       "    </tr>\n",
       "    <tr>\n",
       "      <td>3</td>\n",
       "      <td>5.0</td>\n",
       "      <td>[great, drink, happy, hour, tasty, vegan, opti...</td>\n",
       "      <td>great drink happy hour tasty vegan option brea...</td>\n",
       "      <td>Great drinks at happy hour and tasty vegan opt...</td>\n",
       "    </tr>\n",
       "    <tr>\n",
       "      <td>4</td>\n",
       "      <td>1.0</td>\n",
       "      <td>[food, substandard, started, off, right, but, ...</td>\n",
       "      <td>food substandard started off right but then we...</td>\n",
       "      <td>The food is substandard. It started off right ...</td>\n",
       "    </tr>\n",
       "  </tbody>\n",
       "</table>\n",
       "</div>"
      ],
      "text/plain": [
       "   stars_review                                             tokens  \\\n",
       "0           5.0  [used, work, right, around, corner, all, offic...   \n",
       "1           4.0  [very, random, boxing, rink, mason, jar, mixol...   \n",
       "2           5.0  [part, job, pick, different, incentive, busine...   \n",
       "3           5.0  [great, drink, happy, hour, tasty, vegan, opti...   \n",
       "4           1.0  [food, substandard, started, off, right, but, ...   \n",
       "\n",
       "                                          text_clean  \\\n",
       "0  used work right around corner all office girl ...   \n",
       "1  very random boxing rink mason jar mixologist t...   \n",
       "2  part job pick different incentive business ari...   \n",
       "3  great drink happy hour tasty vegan option brea...   \n",
       "4  food substandard started off right but then we...   \n",
       "\n",
       "                                                text  \n",
       "0  I used to work right around the corner from he...  \n",
       "1  Very random. Boxing Rink, Mason Jars and Mixol...  \n",
       "2  Part of my job is to pick up different incenti...  \n",
       "3  Great drinks at happy hour and tasty vegan opt...  \n",
       "4  The food is substandard. It started off right ...  "
      ]
     },
     "execution_count": 149,
     "metadata": {},
     "output_type": "execute_result"
    }
   ],
   "source": [
    "train.loc[:,[\"stars_review\",\"tokens\",\"text_clean\",\"text\"]].head()"
   ]
  },
  {
   "cell_type": "markdown",
   "metadata": {},
   "source": [
    "### Clean text in the validation set"
   ]
  },
  {
   "cell_type": "code",
   "execution_count": 155,
   "metadata": {},
   "outputs": [],
   "source": [
    "valid= text_cleaning(valid)"
   ]
  },
  {
   "cell_type": "code",
   "execution_count": 158,
   "metadata": {},
   "outputs": [
    {
     "data": {
      "text/html": [
       "<div>\n",
       "<style scoped>\n",
       "    .dataframe tbody tr th:only-of-type {\n",
       "        vertical-align: middle;\n",
       "    }\n",
       "\n",
       "    .dataframe tbody tr th {\n",
       "        vertical-align: top;\n",
       "    }\n",
       "\n",
       "    .dataframe thead th {\n",
       "        text-align: right;\n",
       "    }\n",
       "</style>\n",
       "<table border=\"1\" class=\"dataframe\">\n",
       "  <thead>\n",
       "    <tr style=\"text-align: right;\">\n",
       "      <th></th>\n",
       "      <th>stars_review</th>\n",
       "      <th>tokens</th>\n",
       "      <th>text_clean</th>\n",
       "      <th>text</th>\n",
       "    </tr>\n",
       "  </thead>\n",
       "  <tbody>\n",
       "    <tr>\n",
       "      <td>0</td>\n",
       "      <td>2.0</td>\n",
       "      <td>[tried, sushi, roll, first, all, no, chopstick...</td>\n",
       "      <td>tried sushi roll first all no chopstick seriou...</td>\n",
       "      <td>I tried 3 of their sushi rolls....first of all...</td>\n",
       "    </tr>\n",
       "    <tr>\n",
       "      <td>1</td>\n",
       "      <td>5.0</td>\n",
       "      <td>[entire, staff, amazing, still, hard, rock, so...</td>\n",
       "      <td>entire staff amazing still hard rock so probab...</td>\n",
       "      <td>Entire staff was amazing. It's still a hard ro...</td>\n",
       "    </tr>\n",
       "    <tr>\n",
       "      <td>2</td>\n",
       "      <td>4.0</td>\n",
       "      <td>[came, late, lunch, other, word, brunch, broug...</td>\n",
       "      <td>came late lunch other word brunch brought fami...</td>\n",
       "      <td>Came here for a late lunch in other words brun...</td>\n",
       "    </tr>\n",
       "    <tr>\n",
       "      <td>3</td>\n",
       "      <td>4.0</td>\n",
       "      <td>[look, not, gourmet, mexican, however, fast, f...</td>\n",
       "      <td>look not gourmet mexican however fast food mex...</td>\n",
       "      <td>Look, this is not gourmet Mexican. However, fo...</td>\n",
       "    </tr>\n",
       "    <tr>\n",
       "      <td>4</td>\n",
       "      <td>1.0</td>\n",
       "      <td>[sadly, live, north, phoenix, wife, love, chin...</td>\n",
       "      <td>sadly live north phoenix wife love chinese foo...</td>\n",
       "      <td>Sadly, we live in north Phoenix, and my wife l...</td>\n",
       "    </tr>\n",
       "  </tbody>\n",
       "</table>\n",
       "</div>"
      ],
      "text/plain": [
       "   stars_review                                             tokens  \\\n",
       "0           2.0  [tried, sushi, roll, first, all, no, chopstick...   \n",
       "1           5.0  [entire, staff, amazing, still, hard, rock, so...   \n",
       "2           4.0  [came, late, lunch, other, word, brunch, broug...   \n",
       "3           4.0  [look, not, gourmet, mexican, however, fast, f...   \n",
       "4           1.0  [sadly, live, north, phoenix, wife, love, chin...   \n",
       "\n",
       "                                          text_clean  \\\n",
       "0  tried sushi roll first all no chopstick seriou...   \n",
       "1  entire staff amazing still hard rock so probab...   \n",
       "2  came late lunch other word brunch brought fami...   \n",
       "3  look not gourmet mexican however fast food mex...   \n",
       "4  sadly live north phoenix wife love chinese foo...   \n",
       "\n",
       "                                                text  \n",
       "0  I tried 3 of their sushi rolls....first of all...  \n",
       "1  Entire staff was amazing. It's still a hard ro...  \n",
       "2  Came here for a late lunch in other words brun...  \n",
       "3  Look, this is not gourmet Mexican. However, fo...  \n",
       "4  Sadly, we live in north Phoenix, and my wife l...  "
      ]
     },
     "execution_count": 158,
     "metadata": {},
     "output_type": "execute_result"
    }
   ],
   "source": [
    "valid.loc[:,[\"stars_review\",\"tokens\",\"text_clean\",\"text\"]].head()"
   ]
  },
  {
   "cell_type": "code",
   "execution_count": 157,
   "metadata": {},
   "outputs": [
    {
     "data": {
      "text/plain": [
       "(76857, 31)"
      ]
     },
     "execution_count": 157,
     "metadata": {},
     "output_type": "execute_result"
    }
   ],
   "source": [
    "valid.shape"
   ]
  },
  {
   "cell_type": "code",
   "execution_count": 159,
   "metadata": {},
   "outputs": [
    {
     "data": {
      "text/plain": [
       "\"This was our first stop in Phoenix and it was so great!\\n\\nThe indoor & outdoor decor is so quaint and cool--there's so much to see. The outdoor patio is super charming and even has misters.\\n\\nI had my first Chimichanga here and it was sooo good and sooo spicy. I chose the Shredded Beef one with Green Chili and it was just great. So much flavor in every bite, super savory.\\n\\nService was super friendly and the music was loud but good.\\n\\nI'll definitely be back next time I'm in town!\""
      ]
     },
     "execution_count": 159,
     "metadata": {},
     "output_type": "execute_result"
    }
   ],
   "source": [
    "valid['text'][6]"
   ]
  },
  {
   "cell_type": "code",
   "execution_count": 160,
   "metadata": {},
   "outputs": [
    {
     "data": {
      "text/plain": [
       "'first stop phoenix so great indoor outdoor decor so quaint cool so much see outdoor patio super charming even mister first chimichanga sooo good sooo spicy chose shredded beef one green chili just great so much flavor every bite super savory service super friendly music loud but good definitely back next time town'"
      ]
     },
     "execution_count": 160,
     "metadata": {},
     "output_type": "execute_result"
    }
   ],
   "source": [
    "valid['text_clean'][6]"
   ]
  },
  {
   "cell_type": "code",
   "execution_count": 161,
   "metadata": {},
   "outputs": [],
   "source": [
    "# save cleaned training dataset \n",
    "train.to_csv(\"yelp_train_cleaned_0325.csv\")"
   ]
  },
  {
   "cell_type": "code",
   "execution_count": 162,
   "metadata": {},
   "outputs": [],
   "source": [
    "# save cleaned validation dataset \n",
    "valid.to_csv(\"yelp_valid_cleaned_0325.csv\")"
   ]
  },
  {
   "cell_type": "code",
   "execution_count": 6,
   "metadata": {},
   "outputs": [],
   "source": [
    "train = pd.read_csv(\"yelp_train_cleaned_0325.csv\")\n",
    "valid = pd.read_csv(\"yelp_valid_cleaned_0325.csv\")"
   ]
  },
  {
   "cell_type": "code",
   "execution_count": 17,
   "metadata": {},
   "outputs": [
    {
     "data": {
      "text/plain": [
       "'loved place boyfriend life walking distance so headed over grab quick bite before party fast amazingly good pizza got one prosciutto arugula rival any other pizza phoenix fantastic service everyone work so nice friendly like really really nice see love go back drink dessert too'"
      ]
     },
     "execution_count": 17,
     "metadata": {},
     "output_type": "execute_result"
    }
   ],
   "source": [
    "train['text_clean'][8]"
   ]
  },
  {
   "cell_type": "markdown",
   "metadata": {},
   "source": [
    "### Data Transformation \n",
    "#### Determine Vocab size and maximum sequence length\n",
    "#### Word Tokenize and Pad sequences \n",
    "#### Word Embedding \n",
    "    1. Word embedding with Word2Vec\n",
    "    2. Word embedding with GloVe"
   ]
  },
  {
   "cell_type": "markdown",
   "metadata": {},
   "source": [
    "#### Determine Vocabulary size and maximum sequence length\n",
    "To find the most appropriate vocabulary size and maximum sequence length of each reviews for this dataset, I got inspiration from Paul Nation and Robert Waring in their paper *VOCABULARY SIZE, TEXT COVERAGE AND WORD LISTS*.\n",
    "The idea is a vocabulary of about 3000 words which provides coverage of at least 95% of a text allows new language learners (the models I will use) be able to efficiently learn from context with unknown words (Paul Nation and Robert Waring).\n",
    "http://www.fltr.ucl.ac.be/fltr/germ/etan/bibs/vocab/cup.html\n",
    "\n",
    "Based on the research result above, I decided to use a vocabulary that is large enough to cover at least 98% (greater than 95%) of the entire train text and vocabulary size is no smaller than 3000.\n",
    "The maximum sequence length is at least as long as 95% of all reviews in the train set.\n",
    "\n",
    "Let's take a look at the cleaned text to see how big the vocabulary size."
   ]
  },
  {
   "cell_type": "code",
   "execution_count": 191,
   "metadata": {},
   "outputs": [],
   "source": [
    "# perform the same tokenization on the test dataset\n",
    "def check_vocab(dataset):\n",
    "    dataset_info = {}\n",
    "    all_words = [word for tokens in dataset.tokens for word in tokens]\n",
    "    vocab = sorted(list(set(all_words)))\n",
    "    sentence_lengths = [len(tokens) for tokens in dataset.tokens]\n",
    "    \n",
    "    dataset_info[\"number_all_words\"] = len(all_words)\n",
    "    dataset_info[\"number_vocab\"] = len(vocab)\n",
    "    dataset_info[\"max_sentence_lengths\"] = max(sentence_lengths)\n",
    "    \n",
    "    print(\"%s words total, with a vocabulary size of %s\" % (len(all_words), len(vocab)))\n",
    "    print(\"Max sentence length is %s\" % max(sentence_lengths))\n",
    "    \n",
    "    return dataset_info"
   ]
  },
  {
   "cell_type": "code",
   "execution_count": 192,
   "metadata": {},
   "outputs": [
    {
     "name": "stdout",
     "output_type": "stream",
     "text": [
      "18096758 words total, with a vocabulary size of 87528\n",
      "Max sentence length is 572\n"
     ]
    },
    {
     "data": {
      "text/plain": [
       "{'number_all_words': 18096758,\n",
       " 'number_vocab': 87528,\n",
       " 'max_sentence_lengths': 572}"
      ]
     },
     "execution_count": 192,
     "metadata": {},
     "output_type": "execute_result"
    }
   ],
   "source": [
    "# All words in the training set\n",
    "train_info = check_vocab(train)\n",
    "\n",
    "train_info"
   ]
  },
  {
   "cell_type": "code",
   "execution_count": 203,
   "metadata": {},
   "outputs": [
    {
     "data": {
      "text/plain": [
       "58.8566048290576"
      ]
     },
     "execution_count": 203,
     "metadata": {},
     "output_type": "execute_result"
    }
   ],
   "source": [
    "# average sequence length of all train set reviews is 59\n",
    "np.mean([len(tokens) for tokens in train.tokens])"
   ]
  },
  {
   "cell_type": "code",
   "execution_count": 197,
   "metadata": {},
   "outputs": [
    {
     "data": {
      "text/plain": [
       "164.0"
      ]
     },
     "execution_count": 197,
     "metadata": {},
     "output_type": "execute_result"
    }
   ],
   "source": [
    "# 95% of the reviews with sequence shorter than 164\n",
    "np.quantile([len(tokens) for tokens in train.tokens],0.95)"
   ]
  },
  {
   "cell_type": "code",
   "execution_count": 296,
   "metadata": {},
   "outputs": [
    {
     "data": {
      "text/plain": [
       "225.0"
      ]
     },
     "execution_count": 296,
     "metadata": {},
     "output_type": "execute_result"
    }
   ],
   "source": [
    "# 98% of the reviews with sequence no longer than 225\n",
    "np.quantile([len(tokens) for tokens in train.tokens],0.98)"
   ]
  },
  {
   "cell_type": "code",
   "execution_count": null,
   "metadata": {},
   "outputs": [],
   "source": [
    "# Use 225 as max sequence length\n",
    "max_sequence_len = 225 "
   ]
  },
  {
   "cell_type": "code",
   "execution_count": 195,
   "metadata": {},
   "outputs": [],
   "source": [
    "all_cleaned_train_words = [word for tokens in train[\"tokens\"] for word in tokens]\n",
    "cleaned_train_vocab = sorted(list(set(all_cleaned_train_words)))\n"
   ]
  },
  {
   "cell_type": "code",
   "execution_count": 196,
   "metadata": {
    "scrolled": true
   },
   "outputs": [
    {
     "name": "stdout",
     "output_type": "stream",
     "text": [
      "The cleaned train set has a total of 18096758 words with a vocab size of 87528 unique words.\n",
      "0.48% of words in the train set are unique\n"
     ]
    }
   ],
   "source": [
    "print(\"The cleaned train set has a total of \"+ str(len(all_cleaned_train_words)) + \n",
    "      \" words with a vocab size of \" + str(len(cleaned_train_vocab))+\n",
    "      \" unique words.\" )\n",
    "\n",
    "print(\"{:.2%}\".format(len(cleaned_train_vocab)/len(all_cleaned_train_words)) + \" of words in the train set are unique\")"
   ]
  },
  {
   "cell_type": "code",
   "execution_count": 267,
   "metadata": {},
   "outputs": [],
   "source": [
    "# create a vocab dictionary to record frequence of each words\n",
    "cleaned_train_dict = {}\n",
    "for word in all_cleaned_train_words:\n",
    "    try:\n",
    "        cleaned_train_dict[word] += 1\n",
    "    except KeyError:\n",
    "        cleaned_train_dict[word] = 1"
   ]
  },
  {
   "cell_type": "code",
   "execution_count": 268,
   "metadata": {},
   "outputs": [],
   "source": [
    "# create function to sort the vocab dictionary from most frequent to least\n",
    "def sortFreqDict(freqdict):\n",
    "    freqword_list = [(freqdict[key], key) for key in freqdict]\n",
    "    freqword_list.sort()\n",
    "    freqword_list.reverse()\n",
    "    return freqword_list"
   ]
  },
  {
   "cell_type": "code",
   "execution_count": 269,
   "metadata": {},
   "outputs": [],
   "source": [
    "#sort the vocab dictionary from most frequent to least\n",
    "sorted_cleaned_train_list = sortFreqDict(cleaned_train_dict)"
   ]
  },
  {
   "cell_type": "code",
   "execution_count": 210,
   "metadata": {},
   "outputs": [],
   "source": [
    "# convert list to dict\n",
    "sorted_cleaned_train_dict = dict(sorted_cleaned_train_list)"
   ]
  },
  {
   "cell_type": "code",
   "execution_count": 228,
   "metadata": {},
   "outputs": [],
   "source": [
    "# total number of words in the combine train set\n",
    "all_train_words = len(all_cleaned_train_words)"
   ]
  },
  {
   "cell_type": "code",
   "execution_count": 304,
   "metadata": {},
   "outputs": [],
   "source": [
    "# sorted_cleaned_train_dict={}\n",
    "# for (num,w) in sorted_cleaned_train_list:\n",
    "#     sorted_cleaned_train_dict[w] = num\n",
    "\n",
    "# # calculate number of most frequent words that cover at least 95% of the all texts in train\n",
    "# count = 0\n",
    "# words_list=[]\n",
    "# words_num =0 \n",
    "# for num, word in sorted_cleaned_train_dict.items():\n",
    "#     if count/all_train_words <= 0.99:\n",
    "#         count += num\n",
    "#         words_list.append(word)\n",
    "#         words_num += 1  "
   ]
  },
  {
   "cell_type": "code",
   "execution_count": 399,
   "metadata": {},
   "outputs": [
    {
     "name": "stdout",
     "output_type": "stream",
     "text": [
      "The first 4911 most frequent words cover at least 95% of entire train text\n"
     ]
    }
   ],
   "source": [
    "count_1 = 0\n",
    "words_list_1 =[]\n",
    "words_num_1 =0 \n",
    "for (num,word) in sorted_cleaned_train_list:\n",
    "    if count_1/all_train_words <= 0.95:\n",
    "        count_1 += num\n",
    "        words_list_1.append(word)\n",
    "        words_num_1 += 1\n",
    "# seems like 4911 most frequent words is enough, we will use 5000 for vocab size\n",
    "print(\"The first \" + str(words_num_1) + \" most frequent words cover at least 95% of entire train text\")    "
   ]
  },
  {
   "cell_type": "code",
   "execution_count": 367,
   "metadata": {},
   "outputs": [],
   "source": [
    "\n",
    "count = 0\n",
    "words_list=[]\n",
    "words_num =0 \n",
    "for (num,word) in sorted_cleaned_train_list:\n",
    "    if count/all_train_words <= 0.98:\n",
    "        count += num\n",
    "        words_list.append(word)\n",
    "        words_num += 1\n",
    "    "
   ]
  },
  {
   "cell_type": "code",
   "execution_count": 369,
   "metadata": {},
   "outputs": [
    {
     "name": "stdout",
     "output_type": "stream",
     "text": [
      "The first 10534 most frequent words cover at least 98% of entire train text\n"
     ]
    }
   ],
   "source": [
    "# the first 10000 most frequent words will can have 98% coverage over the entire train set\n",
    "print(\"The first \" + str(words_num) + \" most frequent words cover at least 98% of entire train text\")"
   ]
  },
  {
   "cell_type": "markdown",
   "metadata": {},
   "source": [
    "\n",
    "Based on the information above, I will map each word onto a 300 length real valued vector (vector length determined by the pre-trained word2vec). I will also limit the total number of words that we are interested in modeling to the 10000 most frequent words in the train set, and zero out the rest. Finally, the sequence length (number of words) in each review varies, so we will constrain each review to be 225 words, truncating long reviews and pad the shorter reviews with zero values.\n"
   ]
  },
  {
   "cell_type": "code",
   "execution_count": 19,
   "metadata": {},
   "outputs": [],
   "source": [
    "# Based on the infomation above, I decided to use v\n",
    "vocab_size=10000\n",
    "max_sequence_len = 225\n",
    "oov_tok = '<OOV>'"
   ]
  },
  {
   "cell_type": "markdown",
   "metadata": {},
   "source": [
    "### Tokenize and Pad sequences"
   ]
  },
  {
   "cell_type": "code",
   "execution_count": 20,
   "metadata": {},
   "outputs": [],
   "source": [
    "tokenizer = Tokenizer(num_words=vocab_size, oov_token=oov_tok, lower=True, char_level=False)"
   ]
  },
  {
   "cell_type": "code",
   "execution_count": 21,
   "metadata": {},
   "outputs": [],
   "source": [
    "tokenizer.fit_on_texts(train[\"text_clean\"].tolist())"
   ]
  },
  {
   "cell_type": "code",
   "execution_count": 94,
   "metadata": {},
   "outputs": [
    {
     "data": {
      "text/plain": [
       "{'<OOV>': 1,\n",
       " 'not': 2,\n",
       " 'but': 3,\n",
       " 'food': 4,\n",
       " 'place': 5,\n",
       " 'good': 6,\n",
       " 'so': 7,\n",
       " 'great': 8,\n",
       " 'very': 9,\n",
       " 'time': 10,\n",
       " 'service': 11,\n",
       " 'like': 12,\n",
       " 'all': 13,\n",
       " 'just': 14,\n",
       " 'if': 15,\n",
       " 'back': 16,\n",
       " 'one': 17,\n",
       " 'get': 18,\n",
       " 'go': 19,\n",
       " 'when': 20,\n",
       " 'really': 21,\n",
       " 'restaurant': 22,\n",
       " 'order': 23,\n",
       " 'some': 24,\n",
       " 'ordered': 25,\n",
       " 'no': 26,\n",
       " 'love': 27,\n",
       " 'also': 28,\n",
       " 'chicken': 29,\n",
       " 'more': 30,\n",
       " 'best': 31,\n",
       " 'pizza': 32,\n",
       " 'only': 33,\n",
       " 'got': 34,\n",
       " 'can': 35,\n",
       " 'by': 36,\n",
       " 'menu': 37,\n",
       " 'delicious': 38,\n",
       " 'too': 39,\n",
       " 'try': 40,\n",
       " 'nice': 41,\n",
       " 'because': 42,\n",
       " 'well': 43,\n",
       " 'drink': 44,\n",
       " 'even': 45,\n",
       " 'come': 46,\n",
       " 'little': 47,\n",
       " 'always': 48,\n",
       " 'could': 49,\n",
       " 'friendly': 50,\n",
       " 'other': 51,\n",
       " 'came': 52,\n",
       " 'make': 53,\n",
       " 'staff': 54,\n",
       " 'amazing': 55,\n",
       " 'salad': 56,\n",
       " 'table': 57,\n",
       " 'first': 58,\n",
       " 'after': 59,\n",
       " 'cheese': 60,\n",
       " 'bar': 61,\n",
       " 'definitely': 62,\n",
       " 'sauce': 63,\n",
       " 'fresh': 64,\n",
       " 'lunch': 65,\n",
       " 'went': 66,\n",
       " 'than': 67,\n",
       " 'never': 68,\n",
       " 'over': 69,\n",
       " 'again': 70,\n",
       " 'price': 71,\n",
       " 'burger': 72,\n",
       " 'taco': 73,\n",
       " 'much': 74,\n",
       " 'made': 75,\n",
       " 'meal': 76,\n",
       " 'wait': 77,\n",
       " 'thing': 78,\n",
       " 'people': 79,\n",
       " 'server': 80,\n",
       " 'eat': 81,\n",
       " 'sandwich': 82,\n",
       " 'pretty': 83,\n",
       " 'know': 84,\n",
       " 'better': 85,\n",
       " 'then': 86,\n",
       " 'friend': 87,\n",
       " 'experience': 88,\n",
       " 'star': 89,\n",
       " 'say': 90,\n",
       " 'night': 91,\n",
       " 'hour': 92,\n",
       " 'way': 93,\n",
       " 'phoenix': 94,\n",
       " 'two': 95,\n",
       " 'how': 96,\n",
       " 'going': 97,\n",
       " 'flavor': 98,\n",
       " 'off': 99,\n",
       " 'day': 100,\n",
       " 'minute': 101,\n",
       " 'side': 102,\n",
       " 'ever': 103,\n",
       " 'right': 104,\n",
       " 'take': 105,\n",
       " 'happy': 106,\n",
       " 'favorite': 107,\n",
       " 'location': 108,\n",
       " 'want': 109,\n",
       " 'said': 110,\n",
       " 'everything': 111,\n",
       " 'dish': 112,\n",
       " 'think': 113,\n",
       " 'dinner': 114,\n",
       " 'lot': 115,\n",
       " 'down': 116,\n",
       " 'sure': 117,\n",
       " 'before': 118,\n",
       " 'fry': 119,\n",
       " 'give': 120,\n",
       " 'new': 121,\n",
       " 'cannot': 122,\n",
       " 'still': 123,\n",
       " 'any': 124,\n",
       " 'taste': 125,\n",
       " 'now': 126,\n",
       " 'area': 127,\n",
       " 'while': 128,\n",
       " 'beer': 129,\n",
       " 'customer': 130,\n",
       " 'awesome': 131,\n",
       " 'meat': 132,\n",
       " 'few': 133,\n",
       " 'review': 134,\n",
       " 'bit': 135,\n",
       " 'breakfast': 136,\n",
       " 'next': 137,\n",
       " 'small': 138,\n",
       " 'bad': 139,\n",
       " 'tried': 140,\n",
       " 'both': 141,\n",
       " 'atmosphere': 142,\n",
       " 'recommend': 143,\n",
       " 'hot': 144,\n",
       " 'around': 145,\n",
       " 'since': 146,\n",
       " 'something': 147,\n",
       " 'took': 148,\n",
       " 'every': 149,\n",
       " 'asked': 150,\n",
       " 'special': 151,\n",
       " 'tasty': 152,\n",
       " 'excellent': 153,\n",
       " 'another': 154,\n",
       " 'see': 155,\n",
       " 'last': 156,\n",
       " 'many': 157,\n",
       " 'bread': 158,\n",
       " 'super': 159,\n",
       " 'year': 160,\n",
       " 'coffee': 161,\n",
       " 'spot': 162,\n",
       " 'though': 163,\n",
       " 'most': 164,\n",
       " 'sweet': 165,\n",
       " 'visit': 166,\n",
       " 'long': 167,\n",
       " 'worth': 168,\n",
       " 'rice': 169,\n",
       " 'home': 170,\n",
       " 'roll': 171,\n",
       " 'find': 172,\n",
       " 'perfect': 173,\n",
       " 'big': 174,\n",
       " 'should': 175,\n",
       " 'where': 176,\n",
       " 'need': 177,\n",
       " 'look': 178,\n",
       " 'enough': 179,\n",
       " 'feel': 180,\n",
       " 'quality': 181,\n",
       " 'egg': 182,\n",
       " 'work': 183,\n",
       " 'different': 184,\n",
       " 'plate': 185,\n",
       " 'family': 186,\n",
       " 'fried': 187,\n",
       " 'nothing': 188,\n",
       " 'waitress': 189,\n",
       " 'wanted': 190,\n",
       " 'told': 191,\n",
       " 'option': 192,\n",
       " 'into': 193,\n",
       " 'top': 194,\n",
       " 'portion': 195,\n",
       " 'check': 196,\n",
       " 'looking': 197,\n",
       " 'ok': 198,\n",
       " 'sushi': 199,\n",
       " 'pork': 200,\n",
       " 'loved': 201,\n",
       " 'potato': 202,\n",
       " 'salsa': 203,\n",
       " 'owner': 204,\n",
       " 'wine': 205,\n",
       " 'chip': 206,\n",
       " 'coming': 207,\n",
       " 'mexican': 208,\n",
       " 'busy': 209,\n",
       " 'beef': 210,\n",
       " 'husband': 211,\n",
       " 'spicy': 212,\n",
       " 'soup': 213,\n",
       " 'item': 214,\n",
       " 'inside': 215,\n",
       " 'kind': 216,\n",
       " 'same': 217,\n",
       " 'manager': 218,\n",
       " 'however': 219,\n",
       " 'away': 220,\n",
       " 'full': 221,\n",
       " 'bean': 222,\n",
       " 'steak': 223,\n",
       " 'once': 224,\n",
       " 'cooked': 225,\n",
       " 'maybe': 226,\n",
       " 'served': 227,\n",
       " 'clean': 228,\n",
       " 'fast': 229,\n",
       " 'dessert': 230,\n",
       " 'decided': 231,\n",
       " 'let': 232,\n",
       " 'thought': 233,\n",
       " 'probably': 234,\n",
       " 'ask': 235,\n",
       " 'shrimp': 236,\n",
       " 'large': 237,\n",
       " 'half': 238,\n",
       " 'outside': 239,\n",
       " 'enjoyed': 240,\n",
       " 'tasted': 241,\n",
       " 'patio': 242,\n",
       " 'eating': 243,\n",
       " 'selection': 244,\n",
       " 'disappointed': 245,\n",
       " 'green': 246,\n",
       " 'fish': 247,\n",
       " 'open': 248,\n",
       " 'found': 249,\n",
       " 'house': 250,\n",
       " 'appetizer': 251,\n",
       " 'why': 252,\n",
       " 'left': 253,\n",
       " 'anything': 254,\n",
       " 'everyone': 255,\n",
       " 'huge': 256,\n",
       " 'overall': 257,\n",
       " 'burrito': 258,\n",
       " 'week': 259,\n",
       " 'old': 260,\n",
       " 'enjoy': 261,\n",
       " 'free': 262,\n",
       " 'cool': 263,\n",
       " 'guy': 264,\n",
       " 'fantastic': 265,\n",
       " 'actually': 266,\n",
       " 'each': 267,\n",
       " 'wing': 268,\n",
       " 'fun': 269,\n",
       " 'put': 270,\n",
       " 'else': 271,\n",
       " 'quite': 272,\n",
       " 'town': 273,\n",
       " 'parking': 274,\n",
       " 'couple': 275,\n",
       " 'looked': 276,\n",
       " 'cream': 277,\n",
       " 'waiter': 278,\n",
       " 'room': 279,\n",
       " 'must': 280,\n",
       " 'wonderful': 281,\n",
       " 'quick': 282,\n",
       " 'bbq': 283,\n",
       " 'choice': 284,\n",
       " 'hard': 285,\n",
       " 'usually': 286,\n",
       " 'today': 287,\n",
       " 'business': 288,\n",
       " 'cold': 289,\n",
       " 'finally': 290,\n",
       " 'almost': 291,\n",
       " 'bacon': 292,\n",
       " 'far': 293,\n",
       " 'without': 294,\n",
       " 'water': 295,\n",
       " 'kid': 296,\n",
       " 'used': 297,\n",
       " 'red': 298,\n",
       " 'dining': 299,\n",
       " 'absolutely': 300,\n",
       " 'line': 301,\n",
       " 'tell': 302,\n",
       " 'wife': 303,\n",
       " 'sat': 304,\n",
       " 'high': 305,\n",
       " 'least': 306,\n",
       " 'highly': 307,\n",
       " 'gave': 308,\n",
       " 'decent': 309,\n",
       " 'waiting': 310,\n",
       " 'three': 311,\n",
       " 'oh': 312,\n",
       " 'point': 313,\n",
       " 'stop': 314,\n",
       " 'onion': 315,\n",
       " 'such': 316,\n",
       " 'through': 317,\n",
       " 'bite': 318,\n",
       " 'brought': 319,\n",
       " 'local': 320,\n",
       " 'close': 321,\n",
       " 'wrong': 322,\n",
       " 'ice': 323,\n",
       " 'getting': 324,\n",
       " 'rib': 325,\n",
       " 'during': 326,\n",
       " 'sit': 327,\n",
       " 'attentive': 328,\n",
       " 'door': 329,\n",
       " 'seemed': 330,\n",
       " 'especially': 331,\n",
       " 'keep': 332,\n",
       " 'yummy': 333,\n",
       " 'second': 334,\n",
       " 'veggie': 335,\n",
       " 'drive': 336,\n",
       " 'trying': 337,\n",
       " 'seated': 338,\n",
       " 'fan': 339,\n",
       " 'done': 340,\n",
       " 'street': 341,\n",
       " 'care': 342,\n",
       " 'extra': 343,\n",
       " 'part': 344,\n",
       " 'thai': 345,\n",
       " 'bowl': 346,\n",
       " 'music': 347,\n",
       " 'yelp': 348,\n",
       " 'tea': 349,\n",
       " 'whole': 350,\n",
       " 'party': 351,\n",
       " 'live': 352,\n",
       " 'tomato': 353,\n",
       " 'name': 354,\n",
       " 'group': 355,\n",
       " 'kitchen': 356,\n",
       " 'bartender': 357,\n",
       " 'return': 358,\n",
       " 'several': 359,\n",
       " 'regular': 360,\n",
       " 'style': 361,\n",
       " 'walked': 362,\n",
       " 'waited': 363,\n",
       " 'wish': 364,\n",
       " 'bring': 365,\n",
       " 'ate': 366,\n",
       " 'seating': 367,\n",
       " 'real': 368,\n",
       " 'size': 369,\n",
       " 'hand': 370,\n",
       " 'someone': 371,\n",
       " 'ingredient': 372,\n",
       " 'use': 373,\n",
       " 'own': 374,\n",
       " 'reason': 375,\n",
       " 'front': 376,\n",
       " 'either': 377,\n",
       " 'yet': 378,\n",
       " 'le': 379,\n",
       " 'piece': 380,\n",
       " 'until': 381,\n",
       " 'called': 382,\n",
       " 'liked': 383,\n",
       " 'end': 384,\n",
       " 'instead': 385,\n",
       " 'arrived': 386,\n",
       " 'may': 387,\n",
       " 'downtown': 388,\n",
       " 'dog': 389,\n",
       " 'employee': 390,\n",
       " 'cake': 391,\n",
       " 'offer': 392,\n",
       " 'glass': 393,\n",
       " 'entree': 394,\n",
       " 'start': 395,\n",
       " 'okay': 396,\n",
       " 'yes': 397,\n",
       " 'light': 398,\n",
       " 'later': 399,\n",
       " 'perfectly': 400,\n",
       " 'started': 401,\n",
       " 'crust': 402,\n",
       " 'course': 403,\n",
       " 'deal': 404,\n",
       " 'person': 405,\n",
       " 'cocktail': 406,\n",
       " 'decor': 407,\n",
       " 'grilled': 408,\n",
       " 'felt': 409,\n",
       " 'soon': 410,\n",
       " 'white': 411,\n",
       " 'italian': 412,\n",
       " 'counter': 413,\n",
       " 'money': 414,\n",
       " 'pasta': 415,\n",
       " 'chocolate': 416,\n",
       " 'flavorful': 417,\n",
       " 'stopped': 418,\n",
       " 'walk': 419,\n",
       " 'slow': 420,\n",
       " 'might': 421,\n",
       " 'sunday': 422,\n",
       " 'game': 423,\n",
       " 'dry': 424,\n",
       " 'valley': 425,\n",
       " 'amount': 426,\n",
       " 'crispy': 427,\n",
       " 'although': 428,\n",
       " 'warm': 429,\n",
       " 'ordering': 430,\n",
       " 'extremely': 431,\n",
       " 'serve': 432,\n",
       " 'tortilla': 433,\n",
       " 'pay': 434,\n",
       " 'authentic': 435,\n",
       " 'impressed': 436,\n",
       " 'add': 437,\n",
       " 'corn': 438,\n",
       " 'ambiance': 439,\n",
       " 'plus': 440,\n",
       " 'call': 441,\n",
       " 'short': 442,\n",
       " 'saw': 443,\n",
       " 'girl': 444,\n",
       " 'seems': 445,\n",
       " 'shop': 446,\n",
       " 'sausage': 447,\n",
       " 'helpful': 448,\n",
       " 'neighborhood': 449,\n",
       " 'chef': 450,\n",
       " 'expect': 451,\n",
       " 'leave': 452,\n",
       " 'brunch': 453,\n",
       " 'pie': 454,\n",
       " 'french': 455,\n",
       " 'mean': 456,\n",
       " 'type': 457,\n",
       " 'saturday': 458,\n",
       " 'sitting': 459,\n",
       " 'pick': 460,\n",
       " 'making': 461,\n",
       " 'often': 462,\n",
       " 'able': 463,\n",
       " 'date': 464,\n",
       " 'pepper': 465,\n",
       " 'mac': 466,\n",
       " 'average': 467,\n",
       " 'thank': 468,\n",
       " 'quickly': 469,\n",
       " 'slice': 470,\n",
       " 'fine': 471,\n",
       " 'margarita': 472,\n",
       " 'tender': 473,\n",
       " 'month': 474,\n",
       " 'chinese': 475,\n",
       " 'bill': 476,\n",
       " 'wall': 477,\n",
       " 'variety': 478,\n",
       " 'problem': 479,\n",
       " 'ago': 480,\n",
       " 'friday': 481,\n",
       " 'noodle': 482,\n",
       " 'wow': 483,\n",
       " 'anyone': 484,\n",
       " 'already': 485,\n",
       " 'evening': 486,\n",
       " 'fact': 487,\n",
       " 'glad': 488,\n",
       " 'morning': 489,\n",
       " 'needed': 490,\n",
       " 'tip': 491,\n",
       " 'chili': 492,\n",
       " 'eaten': 493,\n",
       " 'bland': 494,\n",
       " 'weekend': 495,\n",
       " 'plenty': 496,\n",
       " 'run': 497,\n",
       " 'list': 498,\n",
       " 'store': 499,\n",
       " 'priced': 500,\n",
       " 'late': 501,\n",
       " 'guess': 502,\n",
       " 'vegan': 503,\n",
       " 'seat': 504,\n",
       " 'reasonable': 505,\n",
       " 'working': 506,\n",
       " 'unique': 507,\n",
       " 'cheap': 508,\n",
       " 'lady': 509,\n",
       " 'ready': 510,\n",
       " 'garlic': 511,\n",
       " 'vibe': 512,\n",
       " 'hope': 513,\n",
       " 'hit': 514,\n",
       " 'simple': 515,\n",
       " 'joint': 516,\n",
       " 'topping': 517,\n",
       " 'seem': 518,\n",
       " 'twice': 519,\n",
       " 'birthday': 520,\n",
       " 'job': 521,\n",
       " 'worst': 522,\n",
       " 'cook': 523,\n",
       " 'rude': 524,\n",
       " 'cup': 525,\n",
       " 'ended': 526,\n",
       " 'toast': 527,\n",
       " 'horrible': 528,\n",
       " 'four': 529,\n",
       " 'help': 530,\n",
       " 'cute': 531,\n",
       " 'believe': 532,\n",
       " 'change': 533,\n",
       " 'past': 534,\n",
       " 'stuff': 535,\n",
       " 'mind': 536,\n",
       " 'brisket': 537,\n",
       " 'carne': 538,\n",
       " 'easy': 539,\n",
       " 'given': 540,\n",
       " 'crab': 541,\n",
       " 'cut': 542,\n",
       " 'early': 543,\n",
       " 'min': 544,\n",
       " 'salmon': 545,\n",
       " 'reservation': 546,\n",
       " 'heard': 547,\n",
       " 'please': 548,\n",
       " 'mushroom': 549,\n",
       " 'beautiful': 550,\n",
       " 'seriously': 551,\n",
       " 'asada': 552,\n",
       " 'arizona': 553,\n",
       " 'remember': 554,\n",
       " 'packed': 555,\n",
       " 'five': 556,\n",
       " 'between': 557,\n",
       " 'vegetarian': 558,\n",
       " 'butter': 559,\n",
       " 'life': 560,\n",
       " 'terrible': 561,\n",
       " 'space': 562,\n",
       " 'issue': 563,\n",
       " 'boyfriend': 564,\n",
       " 'under': 565,\n",
       " 'prepared': 566,\n",
       " 'yum': 567,\n",
       " 'behind': 568,\n",
       " 'trip': 569,\n",
       " 'surprised': 570,\n",
       " 'choose': 571,\n",
       " 'entire': 572,\n",
       " 'totally': 573,\n",
       " 'donut': 574,\n",
       " 'enchilada': 575,\n",
       " 'rather': 576,\n",
       " 'added': 577,\n",
       " 'man': 578,\n",
       " 'mouth': 579,\n",
       " 'show': 580,\n",
       " 'healthy': 581,\n",
       " 'hungry': 582,\n",
       " 'hostess': 583,\n",
       " 'pho': 584,\n",
       " 'offered': 585,\n",
       " 'n': 586,\n",
       " 'pancake': 587,\n",
       " 'outstanding': 588,\n",
       " 'dressing': 589,\n",
       " 'recommended': 590,\n",
       " 'empty': 591,\n",
       " 'near': 592,\n",
       " 'along': 593,\n",
       " 'excited': 594,\n",
       " 'soft': 595,\n",
       " 'loud': 596,\n",
       " 'tonight': 597,\n",
       " 'together': 598,\n",
       " 'gone': 599,\n",
       " 'taking': 600,\n",
       " 'combo': 601,\n",
       " 'opened': 602,\n",
       " 'expensive': 603,\n",
       " 'thanks': 604,\n",
       " 'bun': 605,\n",
       " 'rest': 606,\n",
       " 'across': 607,\n",
       " 'black': 608,\n",
       " 'airport': 609,\n",
       " 'miss': 610,\n",
       " 'stay': 611,\n",
       " 'unfortunately': 612,\n",
       " 'expected': 613,\n",
       " 'curry': 614,\n",
       " 'sometimes': 615,\n",
       " 'others': 616,\n",
       " 'complaint': 617,\n",
       " 'establishment': 618,\n",
       " 'serving': 619,\n",
       " 'vegetable': 620,\n",
       " 'completely': 621,\n",
       " 'homemade': 622,\n",
       " 'lettuce': 623,\n",
       " 'delivery': 624,\n",
       " 'literally': 625,\n",
       " 'kept': 626,\n",
       " 'spice': 627,\n",
       " 'received': 628,\n",
       " 'set': 629,\n",
       " 'greeted': 630,\n",
       " 'main': 631,\n",
       " 'medium': 632,\n",
       " 'card': 633,\n",
       " 'pita': 634,\n",
       " 'thin': 635,\n",
       " 'sign': 636,\n",
       " 'etc': 637,\n",
       " 'pleasant': 638,\n",
       " 'treat': 639,\n",
       " 'bottle': 640,\n",
       " 'read': 641,\n",
       " 'world': 642,\n",
       " 'forward': 643,\n",
       " 'seafood': 644,\n",
       " 'seen': 645,\n",
       " 'sorry': 646,\n",
       " 'knew': 647,\n",
       " 'mom': 648,\n",
       " 'paid': 649,\n",
       " 'charge': 650,\n",
       " 'chance': 651,\n",
       " 'baked': 652,\n",
       " 'waffle': 653,\n",
       " 'phone': 654,\n",
       " 'available': 655,\n",
       " 'based': 656,\n",
       " 'pulled': 657,\n",
       " 'hotel': 658,\n",
       " 'guacamole': 659,\n",
       " 'dip': 660,\n",
       " 'understand': 661,\n",
       " 'pricey': 662,\n",
       " 'poor': 663,\n",
       " 'grab': 664,\n",
       " 'die': 665,\n",
       " 'gyro': 666,\n",
       " 'interesting': 667,\n",
       " 'orange': 668,\n",
       " 'craving': 669,\n",
       " 'az': 670,\n",
       " 'incredible': 671,\n",
       " 'desert': 672,\n",
       " 'share': 673,\n",
       " 'avocado': 674,\n",
       " 'standard': 675,\n",
       " 'immediately': 676,\n",
       " 'building': 677,\n",
       " 'watch': 678,\n",
       " 'turkey': 679,\n",
       " 'filling': 680,\n",
       " 'roasted': 681,\n",
       " 'noticed': 682,\n",
       " 'soda': 683,\n",
       " 'cafe': 684,\n",
       " 'tuna': 685,\n",
       " 'shared': 686,\n",
       " 'gem': 687,\n",
       " 'honestly': 688,\n",
       " 'giving': 689,\n",
       " 'chain': 690,\n",
       " 'tv': 691,\n",
       " 'brown': 692,\n",
       " 'greasy': 693,\n",
       " 'son': 694,\n",
       " 'saying': 695,\n",
       " 'outdoor': 696,\n",
       " 'daughter': 697,\n",
       " 'stand': 698,\n",
       " 'dirty': 699,\n",
       " 'seasoned': 700,\n",
       " 'bagel': 701,\n",
       " 'due': 702,\n",
       " 'buffet': 703,\n",
       " 'word': 704,\n",
       " 'sub': 705,\n",
       " 'truly': 706,\n",
       " 'refill': 707,\n",
       " 'salty': 708,\n",
       " 'comfortable': 709,\n",
       " 'idea': 710,\n",
       " 'mix': 711,\n",
       " 'crowd': 712,\n",
       " 'sour': 713,\n",
       " 'walking': 714,\n",
       " 'taken': 715,\n",
       " 'tasting': 716,\n",
       " 'filled': 717,\n",
       " 'iced': 718,\n",
       " 'la': 719,\n",
       " 'split': 720,\n",
       " 'disappointing': 721,\n",
       " 'including': 722,\n",
       " 'eye': 723,\n",
       " 'cost': 724,\n",
       " 'casual': 725,\n",
       " 'gluten': 726,\n",
       " 'closed': 727,\n",
       " 'head': 728,\n",
       " 'recently': 729,\n",
       " 'number': 730,\n",
       " 'solid': 731,\n",
       " 'w': 732,\n",
       " 'guest': 733,\n",
       " 'chile': 734,\n",
       " 'mixed': 735,\n",
       " 'box': 736,\n",
       " 'visiting': 737,\n",
       " 'salt': 738,\n",
       " 'feeling': 739,\n",
       " 'car': 740,\n",
       " 'strip': 741,\n",
       " 'finish': 742,\n",
       " 'anyway': 743,\n",
       " 'low': 744,\n",
       " 'mine': 745,\n",
       " 'simply': 746,\n",
       " 'ton': 747,\n",
       " 'longer': 748,\n",
       " 'bag': 749,\n",
       " 'talk': 750,\n",
       " 'management': 751,\n",
       " 'generous': 752,\n",
       " 'note': 753,\n",
       " 'recommendation': 754,\n",
       " 'mediocre': 755,\n",
       " 'above': 756,\n",
       " 'olive': 757,\n",
       " 'exactly': 758,\n",
       " 'smile': 759,\n",
       " 'dollar': 760,\n",
       " 'tiny': 761,\n",
       " 'level': 762,\n",
       " 'diner': 763,\n",
       " 'grill': 764,\n",
       " 'wrap': 765,\n",
       " 'moved': 766,\n",
       " 'meatball': 767,\n",
       " 'mention': 768,\n",
       " 'hummus': 769,\n",
       " 'upon': 770,\n",
       " 'window': 771,\n",
       " 'thick': 772,\n",
       " 'buck': 773,\n",
       " 'value': 774,\n",
       " 'worker': 775,\n",
       " 'chipotle': 776,\n",
       " 'heat': 777,\n",
       " 'stick': 778,\n",
       " 'middle': 779,\n",
       " 'rating': 780,\n",
       " 'lobster': 781,\n",
       " 'boy': 782,\n",
       " 'event': 783,\n",
       " 'stuffed': 784,\n",
       " 'attention': 785,\n",
       " 'fruit': 786,\n",
       " 'scottsdale': 787,\n",
       " 'write': 788,\n",
       " 'true': 789,\n",
       " 'booth': 790,\n",
       " 'visited': 791,\n",
       " 'located': 792,\n",
       " 'gravy': 793,\n",
       " 'lemon': 794,\n",
       " 'talking': 795,\n",
       " 'bathroom': 796,\n",
       " 'single': 797,\n",
       " 'view': 798,\n",
       " 'question': 799,\n",
       " 'sort': 800,\n",
       " 'oil': 801,\n",
       " 'young': 802,\n",
       " 'fabulous': 803,\n",
       " 'juice': 804,\n",
       " 'attitude': 805,\n",
       " 'forgot': 806,\n",
       " 'slightly': 807,\n",
       " 'lack': 808,\n",
       " 'corner': 809,\n",
       " 'sad': 810,\n",
       " 'traditional': 811,\n",
       " 'spinach': 812,\n",
       " 'finished': 813,\n",
       " 'hear': 814,\n",
       " 'crisp': 815,\n",
       " 'greek': 816,\n",
       " 'within': 817,\n",
       " 'texture': 818,\n",
       " 'returning': 819,\n",
       " 'shot': 820,\n",
       " 'weird': 821,\n",
       " 'certainly': 822,\n",
       " 'blue': 823,\n",
       " 'lol': 824,\n",
       " 'quesadilla': 825,\n",
       " 'turn': 826,\n",
       " 'crowded': 827,\n",
       " 'environment': 828,\n",
       " 'limited': 829,\n",
       " 'typical': 830,\n",
       " 'afternoon': 831,\n",
       " 'crazy': 832,\n",
       " 'perfection': 833,\n",
       " 'happened': 834,\n",
       " 'beat': 835,\n",
       " 'case': 836,\n",
       " 'concept': 837,\n",
       " 'whatever': 838,\n",
       " 'face': 839,\n",
       " 'anywhere': 840,\n",
       " 'soggy': 841,\n",
       " 'chose': 842,\n",
       " 'total': 843,\n",
       " 'woman': 844,\n",
       " 'school': 845,\n",
       " 'juicy': 846,\n",
       " 'non': 847,\n",
       " 'city': 848,\n",
       " 'overpriced': 849,\n",
       " 'except': 850,\n",
       " 'turned': 851,\n",
       " 'lovely': 852,\n",
       " 'central': 853,\n",
       " 'fair': 854,\n",
       " 'deep': 855,\n",
       " 'checked': 856,\n",
       " 'conversation': 857,\n",
       " 'thru': 858,\n",
       " 'touch': 859,\n",
       " 'dark': 860,\n",
       " 'asian': 861,\n",
       " 'kinda': 862,\n",
       " 'biscuit': 863,\n",
       " 'asking': 864,\n",
       " 'strawberry': 865,\n",
       " 'hole': 866,\n",
       " 'changed': 867,\n",
       " 'combination': 868,\n",
       " 'creamy': 869,\n",
       " 'thinking': 870,\n",
       " 'spring': 871,\n",
       " 'surprise': 872,\n",
       " 'hate': 873,\n",
       " 'indian': 874,\n",
       " 'forget': 875,\n",
       " 'awful': 876,\n",
       " 'tuesday': 877,\n",
       " 'opinion': 878,\n",
       " 'expectation': 879,\n",
       " 'floor': 880,\n",
       " 'beyond': 881,\n",
       " 'modern': 882,\n",
       " 'buy': 883,\n",
       " 'sport': 884,\n",
       " 'plan': 885,\n",
       " 'normally': 886,\n",
       " 'expecting': 887,\n",
       " 'chicago': 888,\n",
       " 'delivered': 889,\n",
       " 'unless': 890,\n",
       " 'mall': 891,\n",
       " 'basically': 892,\n",
       " 'usual': 893,\n",
       " 'matter': 894,\n",
       " 'original': 895,\n",
       " 'lived': 896,\n",
       " 'cashier': 897,\n",
       " 'paying': 898,\n",
       " 'addition': 899,\n",
       " 'rare': 900,\n",
       " 'easily': 901,\n",
       " 'picture': 902,\n",
       " 'frozen': 903,\n",
       " 'notch': 904,\n",
       " 'topped': 905,\n",
       " 'chair': 906,\n",
       " 'alone': 907,\n",
       " 'delish': 908,\n",
       " 'platter': 909,\n",
       " 'rock': 910,\n",
       " 'girlfriend': 911,\n",
       " 'welcoming': 912,\n",
       " 'tap': 913,\n",
       " 'mostly': 914,\n",
       " 'smell': 915,\n",
       " 'picked': 916,\n",
       " 'american': 917,\n",
       " 'board': 918,\n",
       " 'apple': 919,\n",
       " 'sample': 920,\n",
       " 'classic': 921,\n",
       " 'park': 922,\n",
       " 'meet': 923,\n",
       " 'somewhere': 924,\n",
       " 'patron': 925,\n",
       " 'sound': 926,\n",
       " 'double': 927,\n",
       " 'dine': 928,\n",
       " 'nacho': 929,\n",
       " 'ramen': 930,\n",
       " 'north': 931,\n",
       " 'worked': 932,\n",
       " 'fairly': 933,\n",
       " 'fancy': 934,\n",
       " 'valet': 935,\n",
       " 'play': 936,\n",
       " 'missing': 937,\n",
       " 'child': 938,\n",
       " 'lamb': 939,\n",
       " 'incredibly': 940,\n",
       " 'prefer': 941,\n",
       " 'ambience': 942,\n",
       " 'shake': 943,\n",
       " 'hang': 944,\n",
       " 'plain': 945,\n",
       " 'spend': 946,\n",
       " 'considering': 947,\n",
       " 'hubby': 948,\n",
       " 'bomb': 949,\n",
       " 'honey': 950,\n",
       " 'cozy': 951,\n",
       " 'bruschetta': 952,\n",
       " 'spent': 953,\n",
       " 'clearly': 954,\n",
       " 'yeah': 955,\n",
       " 'barely': 956,\n",
       " 'kick': 957,\n",
       " 'rush': 958,\n",
       " 'occasion': 959,\n",
       " 'mentioned': 960,\n",
       " 'cookie': 961,\n",
       " 'placed': 962,\n",
       " 'gotten': 963,\n",
       " 'ahead': 964,\n",
       " 'center': 965,\n",
       " 'playing': 966,\n",
       " 'monday': 967,\n",
       " 'hash': 968,\n",
       " 'pastry': 969,\n",
       " 'market': 970,\n",
       " 'de': 971,\n",
       " 'mistake': 972,\n",
       " 'covered': 973,\n",
       " 'perhaps': 974,\n",
       " 'owned': 975,\n",
       " 'online': 976,\n",
       " 'apparently': 977,\n",
       " 'phx': 978,\n",
       " 'folk': 979,\n",
       " 'obviously': 980,\n",
       " 'strong': 981,\n",
       " 'welcome': 982,\n",
       " 'mozzarella': 983,\n",
       " 'included': 984,\n",
       " 'met': 985,\n",
       " 'despite': 986,\n",
       " 'omg': 987,\n",
       " 'none': 988,\n",
       " 'art': 989,\n",
       " 'peanut': 990,\n",
       " 'otherwise': 991,\n",
       " 'broth': 992,\n",
       " 'nicely': 993,\n",
       " 'pad': 994,\n",
       " 'company': 995,\n",
       " 'sugar': 996,\n",
       " 'bottom': 997,\n",
       " 'interior': 998,\n",
       " 'baby': 999,\n",
       " 'charged': 1000,\n",
       " ...}"
      ]
     },
     "execution_count": 94,
     "metadata": {},
     "output_type": "execute_result"
    }
   ],
   "source": [
    "train_word_index= tokenizer.word_index\n",
    "train_word_index"
   ]
  },
  {
   "cell_type": "code",
   "execution_count": 95,
   "metadata": {
    "scrolled": true
   },
   "outputs": [
    {
     "data": {
      "text/plain": [
       "87529"
      ]
     },
     "execution_count": 95,
     "metadata": {},
     "output_type": "execute_result"
    }
   ],
   "source": [
    "len_train_word_index = len(train_word_index)\n",
    "len_train_word_index"
   ]
  },
  {
   "cell_type": "code",
   "execution_count": 96,
   "metadata": {
    "scrolled": false
   },
   "outputs": [
    {
     "name": "stdout",
     "output_type": "stream",
     "text": [
      "Found 87529 unique tokens.\n"
     ]
    }
   ],
   "source": [
    "print(\"Found %s unique tokens.\"% len(train_word_index))"
   ]
  },
  {
   "cell_type": "code",
   "execution_count": 22,
   "metadata": {},
   "outputs": [],
   "source": [
    "train_sequences= tokenizer.texts_to_sequences(train[\"text_clean\"].tolist())"
   ]
  },
  {
   "cell_type": "code",
   "execution_count": 98,
   "metadata": {},
   "outputs": [],
   "source": [
    "#Need to pad our data as the sequence length (number of words) in each review varies.\n",
    "\n",
    "train_padded = pad_sequences(train_sequences, \n",
    "                               maxlen=max_sequence_len,\n",
    "                            padding=\"post\", truncating=\"post\")"
   ]
  },
  {
   "cell_type": "code",
   "execution_count": 99,
   "metadata": {},
   "outputs": [
    {
     "data": {
      "text/plain": [
       "(307472, 225)"
      ]
     },
     "execution_count": 99,
     "metadata": {},
     "output_type": "execute_result"
    }
   ],
   "source": [
    "train_padded.shape"
   ]
  },
  {
   "cell_type": "code",
   "execution_count": 100,
   "metadata": {},
   "outputs": [
    {
     "name": "stdout",
     "output_type": "stream",
     "text": [
      "44\n",
      "225\n",
      "104\n",
      "225\n"
     ]
    }
   ],
   "source": [
    "print(len(train_sequences[0]))\n",
    "print(len(train_padded[0]))\n",
    "\n",
    "print(len(train_sequences[10]))\n",
    "print(len(train_padded[10]))"
   ]
  },
  {
   "cell_type": "code",
   "execution_count": 380,
   "metadata": {},
   "outputs": [],
   "source": [
    "# Use the tokenizer and pad_sequences to transform valid dataset \n",
    "valid_sequences = tokenizer.texts_to_sequences(valid[\"text_clean\"].tolist())\n",
    "valid_padded = pad_sequences(valid_sequences, maxlen=max_sequence_len,\n",
    "                            padding=\"post\", truncating=\"post\")"
   ]
  },
  {
   "cell_type": "code",
   "execution_count": 381,
   "metadata": {},
   "outputs": [
    {
     "data": {
      "text/plain": [
       "(76857, 225)"
      ]
     },
     "execution_count": 381,
     "metadata": {},
     "output_type": "execute_result"
    }
   ],
   "source": [
    "valid_padded.shape"
   ]
  },
  {
   "cell_type": "code",
   "execution_count": 382,
   "metadata": {},
   "outputs": [
    {
     "name": "stdout",
     "output_type": "stream",
     "text": [
      "47\n",
      "225\n",
      "75\n",
      "225\n"
     ]
    }
   ],
   "source": [
    "print(len(valid_sequences[0]))\n",
    "print(len(valid_padded[0]))\n",
    "\n",
    "print(len(valid_sequences[10]))\n",
    "print(len(valid_padded[10]))"
   ]
  },
  {
   "cell_type": "code",
   "execution_count": 383,
   "metadata": {},
   "outputs": [],
   "source": [
    "savetxt(\"train_padded.csv\", train_padded, delimiter=',')\n",
    "savetxt(\"valid_padded.csv\", valid_padded, delimiter=',')"
   ]
  },
  {
   "cell_type": "code",
   "execution_count": 5,
   "metadata": {},
   "outputs": [
    {
     "data": {
      "text/plain": [
       "(76857, 225)"
      ]
     },
     "execution_count": 5,
     "metadata": {},
     "output_type": "execute_result"
    }
   ],
   "source": [
    "# load array\n",
    "train_padded = loadtxt('train_padded.csv', delimiter=',')\n",
    "\n",
    "\n",
    "# load array\n",
    "valid_padded = loadtxt('valid_padded.csv', delimiter=',')\n",
    "\n",
    "# print the array\n",
    "train_padded.shape\n",
    "\n",
    "# print the array\n",
    "valid_padded.shape"
   ]
  },
  {
   "cell_type": "code",
   "execution_count": 116,
   "metadata": {},
   "outputs": [
    {
     "name": "stdout",
     "output_type": "stream",
     "text": [
      "came today after saw holly <OOV> sign corner while walking brunch kombucha tap stoked flavor tap went rosemary lemon very good make honey rather than sugar can really taste honey while still <OOV> le acidic enjoyed mom got strawberry smooth said really good lot flavor good texture most all stood service guy working possibly owner long <OOV> awesome friendly guy super laid back friendly vibe even giving <OOV> when told wanting make own kombucha home seemed like just got back relaxing <OOV> vacation <OOV> something because just very calm soothing while still upbeat friendly guy service really make place stand definitely return when phoenix ? ? ? ? ? ? ? ? ? ? ? ? ? ? ? ? ? ? ? ? ? ? ? ? ? ? ? ? ? ? ? ? ? ? ? ? ? ? ? ? ? ? ? ? ? ? ? ? ? ? ? ? ? ? ? ? ? ? ? ? ? ? ? ? ? ? ? ? ? ? ? ? ? ? ? ? ? ? ? ? ? ? ? ? ? ? ? ? ? ? ? ? ? ? ? ? ? ? ? ? ? ? ? ? ? ? ? ? ? ? ? ? ? ? ? ? ? ? ? ? ?\n",
      "---\n",
      "came today after saw holly grail sign corner while walking brunch kombucha tap stoked flavor tap went rosemary lemon very good make honey rather than sugar can really taste honey while still carbonation le acidic enjoyed mom got strawberry smooth said really good lot flavor good texture most all stood service guy working possibly owner long dread awesome friendly guy super laid back friendly vibe even giving pointer when told wanting make own kombucha home seemed like just got back relaxing spiritual vacation bali something because just very calm soothing while still upbeat friendly guy service really make place stand definitely return when phoenix\n"
     ]
    }
   ],
   "source": [
    "reverse_word_index = dict([(value, key) for (key, value) in train_word_index.items()])\n",
    "\n",
    "def decode_article(text):\n",
    "    return ' '.join([reverse_word_index.get(i, '?') for i in text])\n",
    "print(decode_article(train_padded[10]))\n",
    "print('---')\n",
    "print(train.text_clean[10])"
   ]
  },
  {
   "cell_type": "markdown",
   "metadata": {},
   "source": [
    "### Word Embedding\n",
    "#### Model 1 : Word2Vec model\n",
    "\n",
    "\n",
    "https://github.com/kk7nc/Text_Classification/blob/master/README.rst#term-frequency\n",
    "\n",
    "I am going to use the pre-trained vectors that is trained on part of Google News dataset (about 100 billion words). The model contains 300-dimensional vectors for 3 million words and phrases. "
   ]
  },
  {
   "cell_type": "code",
   "execution_count": 190,
   "metadata": {},
   "outputs": [
    {
     "data": {
      "text/plain": [
       "300"
      ]
     },
     "execution_count": 190,
     "metadata": {},
     "output_type": "execute_result"
    }
   ],
   "source": [
    "# First load the Google's pre-trained Word2Vec model.\n",
    "word2vec_path = \"GoogleNews-vectors-negative300.bin.gz\"\n",
    "word2vec =gensim.models.KeyedVectors.load_word2vec_format(word2vec_path, binary=True)\n",
    "\n",
    "embedding_size = word2vec.vector_size\n",
    "embedding_size"
   ]
  },
  {
   "cell_type": "code",
   "execution_count": 385,
   "metadata": {},
   "outputs": [],
   "source": [
    "#Embedding weights for the entire vocabulary of the training set\n",
    "all_train_embedding_weights = np.zeros((len(train_word_index)+1, embedding_size))\n",
    "\n",
    "# create embedding weights for the entire train vocab\n",
    "for word,index in train_word_index.items():\n",
    "    all_train_embedding_weights[index,:] = word2vec[word] if word in word2vec else np.random.rand(embedding_size)\n",
    "\n",
    "print(all_train_embedding_weights.shape)\n",
    "\n",
    "# save to csv file\n",
    "savetxt('all_train_embedding_weights.csv', train_embedding_weights, delimiter=',')"
   ]
  },
  {
   "cell_type": "code",
   "execution_count": 394,
   "metadata": {},
   "outputs": [],
   "source": [
    "# embedding weights for the chosen vocabulary size 10000\n",
    "train_embedding_weights = np.zeros((vocab_size , embedding_size))\n",
    "\n",
    "for word,index in train_word_index.items():\n",
    "    if index <= 10000:\n",
    "        train_embedding_weights[index-1,:] = word2vec[word] if word in word2vec else np.random.rand(embedding_size)"
   ]
  },
  {
   "cell_type": "code",
   "execution_count": 395,
   "metadata": {},
   "outputs": [
    {
     "data": {
      "text/plain": [
       "(10000, 300)"
      ]
     },
     "execution_count": 395,
     "metadata": {},
     "output_type": "execute_result"
    }
   ],
   "source": [
    "train_embedding_weights.shape"
   ]
  },
  {
   "cell_type": "code",
   "execution_count": 397,
   "metadata": {},
   "outputs": [],
   "source": [
    "# save to csv file\n",
    "savetxt('train_embedding_weights.csv', train_embedding_weights, delimiter=',')"
   ]
  },
  {
   "cell_type": "code",
   "execution_count": 4,
   "metadata": {},
   "outputs": [
    {
     "data": {
      "text/plain": [
       "(10000, 300)"
      ]
     },
     "execution_count": 4,
     "metadata": {},
     "output_type": "execute_result"
    }
   ],
   "source": [
    "# load back the embedding weights\n",
    "train_embedding_weights = loadtxt('train_embedding_weights.csv', delimiter=',')\n",
    "\n",
    "train_embedding_weights.shape"
   ]
  },
  {
   "cell_type": "code",
   "execution_count": 398,
   "metadata": {},
   "outputs": [
    {
     "name": "stdout",
     "output_type": "stream",
     "text": [
      "came today after saw holly <OOV> sign corner while walking brunch kombucha tap stoked flavor tap went rosemary lemon very good make honey rather than sugar can really taste honey while still <OOV> le acidic enjoyed mom got strawberry smooth said really good lot flavor good texture most all stood service guy working possibly owner long <OOV> awesome friendly guy super laid back friendly vibe even giving <OOV> when told wanting make own kombucha home seemed like just got back relaxing <OOV> vacation <OOV> something because just very calm soothing while still upbeat friendly guy service really make place stand definitely return when phoenix ? ? ? ? ? ? ? ? ? ? ? ? ? ? ? ? ? ? ? ? ? ? ? ? ? ? ? ? ? ? ? ? ? ? ? ? ? ? ? ? ? ? ? ? ? ? ? ? ? ? ? ? ? ? ? ? ? ? ? ? ? ? ? ? ? ? ? ? ? ? ? ? ? ? ? ? ? ? ? ? ? ? ? ? ? ? ? ? ? ? ? ? ? ? ? ? ? ? ? ? ? ? ? ? ? ? ? ? ? ? ? ? ? ? ? ? ? ? ? ? ?\n",
      "---\n",
      "came today after saw holly grail sign corner while walking brunch kombucha tap stoked flavor tap went rosemary lemon very good make honey rather than sugar can really taste honey while still carbonation le acidic enjoyed mom got strawberry smooth said really good lot flavor good texture most all stood service guy working possibly owner long dread awesome friendly guy super laid back friendly vibe even giving pointer when told wanting make own kombucha home seemed like just got back relaxing spiritual vacation bali something because just very calm soothing while still upbeat friendly guy service really make place stand definitely return when phoenix\n"
     ]
    }
   ],
   "source": [
    "reverse_word_index = dict([(value, key) for (key, value) in train_word_index.items()])\n",
    "\n",
    "def decode_article(text):\n",
    "    return ' '.join([reverse_word_index.get(i, '?') for i in text])\n",
    "print(decode_article(train_padded[10]))\n",
    "print('---')\n",
    "print(train.text_clean[10])"
   ]
  },
  {
   "cell_type": "markdown",
   "metadata": {},
   "source": [
    "###  Word Embedding with GloVe\n",
    "\n",
    "train vocab size = 10000\n",
    "\n",
    "\n",
    "max_sequence_len = 225"
   ]
  },
  {
   "cell_type": "code",
   "execution_count": 106,
   "metadata": {},
   "outputs": [],
   "source": [
    "from gensim.scripts.glove2word2vec import glove2word2vec"
   ]
  },
  {
   "cell_type": "code",
   "execution_count": 108,
   "metadata": {},
   "outputs": [
    {
     "data": {
      "text/plain": [
       "(1193514, 200)"
      ]
     },
     "execution_count": 108,
     "metadata": {},
     "output_type": "execute_result"
    }
   ],
   "source": [
    "glove_input_file = 'glove.twitter.27B.200d.txt'\n",
    "word2vec_output_file = 'glove.twitter.27B.200d.txt.word2vec'\n",
    "glove2word2vec(glove_input_file, word2vec_output_file)"
   ]
  },
  {
   "cell_type": "code",
   "execution_count": 110,
   "metadata": {},
   "outputs": [],
   "source": [
    "glove_path='glove.twitter.27B.200d.txt.word2vec'"
   ]
  },
  {
   "cell_type": "code",
   "execution_count": 113,
   "metadata": {},
   "outputs": [],
   "source": [
    "glove =gensim.models.KeyedVectors.load_word2vec_format(glove_path, binary=False)"
   ]
  },
  {
   "cell_type": "code",
   "execution_count": 115,
   "metadata": {},
   "outputs": [
    {
     "data": {
      "text/plain": [
       "200"
      ]
     },
     "execution_count": 115,
     "metadata": {},
     "output_type": "execute_result"
    }
   ],
   "source": [
    "embedding_size_glove = glove.vector_size\n",
    "embedding_size_glove"
   ]
  },
  {
   "cell_type": "code",
   "execution_count": 118,
   "metadata": {},
   "outputs": [
    {
     "name": "stdout",
     "output_type": "stream",
     "text": [
      "(87530, 200)\n"
     ]
    }
   ],
   "source": [
    "#Embedding weights for the entire vocabulary of the training set\n",
    "all_train_embedding_weights_glove = np.zeros((len(train_word_index)+1, embedding_size_glove))\n",
    "\n",
    "# create embedding weights for the entire train vocab\n",
    "for word,index in train_word_index.items():\n",
    "    all_train_embedding_weights_glove[index,:] = glove[word] if word in glove else np.random.rand(embedding_size_glove)\n",
    "\n",
    "print(all_train_embedding_weights_glove.shape)\n",
    "\n",
    "# save to csv file\n",
    "savetxt('all_train_embedding_weights_glove.csv', all_train_embedding_weights_glove, delimiter=',')"
   ]
  },
  {
   "cell_type": "code",
   "execution_count": 119,
   "metadata": {},
   "outputs": [],
   "source": [
    "# embedding weights for the chosen vocabulary size 10000\n",
    "train_embedding_weights_glove = np.zeros((vocab_size , embedding_size_glove))\n",
    "\n",
    "for word,index in train_word_index.items():\n",
    "    if index <= 10000:\n",
    "        train_embedding_weights_glove[index-1,:] = glove[word] if word in glove else np.random.rand(embedding_size_glove)"
   ]
  },
  {
   "cell_type": "code",
   "execution_count": 120,
   "metadata": {},
   "outputs": [
    {
     "data": {
      "text/plain": [
       "(10000, 200)"
      ]
     },
     "execution_count": 120,
     "metadata": {},
     "output_type": "execute_result"
    }
   ],
   "source": [
    "train_embedding_weights_glove.shape"
   ]
  },
  {
   "cell_type": "code",
   "execution_count": 121,
   "metadata": {},
   "outputs": [],
   "source": [
    "# save to csv file\n",
    "savetxt('train_embedding_weights_glove.csv', train_embedding_weights_glove, delimiter=',')"
   ]
  },
  {
   "cell_type": "code",
   "execution_count": 16,
   "metadata": {},
   "outputs": [
    {
     "data": {
      "text/plain": [
       "(10000, 200)"
      ]
     },
     "execution_count": 16,
     "metadata": {},
     "output_type": "execute_result"
    }
   ],
   "source": [
    "# # load back the embedding weights\n",
    "# train_embedding_weights_glove = loadtxt('train_embedding_weights_glove.csv', delimiter=',')\n",
    "\n",
    "# train_embedding_weights_glove.shape"
   ]
  },
  {
   "cell_type": "markdown",
   "metadata": {},
   "source": [
    "### Create ytrain, yvalid"
   ]
  },
  {
   "cell_type": "code",
   "execution_count": 7,
   "metadata": {},
   "outputs": [],
   "source": [
    "\n",
    "ytrain = train[['review_stars__1.0', 'review_stars__2.0',\n",
    "       'review_stars__3.0', 'review_stars__4.0', 'review_stars__5.0']]"
   ]
  },
  {
   "cell_type": "code",
   "execution_count": 8,
   "metadata": {},
   "outputs": [],
   "source": [
    "yvalid = valid[['review_stars__1.0', 'review_stars__2.0',\n",
    "       'review_stars__3.0', 'review_stars__4.0', 'review_stars__5.0']]"
   ]
  },
  {
   "cell_type": "code",
   "execution_count": 7,
   "metadata": {},
   "outputs": [
    {
     "data": {
      "text/html": [
       "<div>\n",
       "<style scoped>\n",
       "    .dataframe tbody tr th:only-of-type {\n",
       "        vertical-align: middle;\n",
       "    }\n",
       "\n",
       "    .dataframe tbody tr th {\n",
       "        vertical-align: top;\n",
       "    }\n",
       "\n",
       "    .dataframe thead th {\n",
       "        text-align: right;\n",
       "    }\n",
       "</style>\n",
       "<table border=\"1\" class=\"dataframe\">\n",
       "  <thead>\n",
       "    <tr style=\"text-align: right;\">\n",
       "      <th></th>\n",
       "      <th>review_stars__1.0</th>\n",
       "      <th>review_stars__2.0</th>\n",
       "      <th>review_stars__3.0</th>\n",
       "      <th>review_stars__4.0</th>\n",
       "      <th>review_stars__5.0</th>\n",
       "    </tr>\n",
       "  </thead>\n",
       "  <tbody>\n",
       "    <tr>\n",
       "      <td>0</td>\n",
       "      <td>0</td>\n",
       "      <td>0</td>\n",
       "      <td>0</td>\n",
       "      <td>0</td>\n",
       "      <td>1</td>\n",
       "    </tr>\n",
       "    <tr>\n",
       "      <td>1</td>\n",
       "      <td>0</td>\n",
       "      <td>0</td>\n",
       "      <td>0</td>\n",
       "      <td>1</td>\n",
       "      <td>0</td>\n",
       "    </tr>\n",
       "    <tr>\n",
       "      <td>2</td>\n",
       "      <td>0</td>\n",
       "      <td>0</td>\n",
       "      <td>0</td>\n",
       "      <td>0</td>\n",
       "      <td>1</td>\n",
       "    </tr>\n",
       "    <tr>\n",
       "      <td>3</td>\n",
       "      <td>0</td>\n",
       "      <td>0</td>\n",
       "      <td>0</td>\n",
       "      <td>0</td>\n",
       "      <td>1</td>\n",
       "    </tr>\n",
       "    <tr>\n",
       "      <td>4</td>\n",
       "      <td>1</td>\n",
       "      <td>0</td>\n",
       "      <td>0</td>\n",
       "      <td>0</td>\n",
       "      <td>0</td>\n",
       "    </tr>\n",
       "  </tbody>\n",
       "</table>\n",
       "</div>"
      ],
      "text/plain": [
       "   review_stars__1.0  review_stars__2.0  review_stars__3.0  review_stars__4.0  \\\n",
       "0                  0                  0                  0                  0   \n",
       "1                  0                  0                  0                  1   \n",
       "2                  0                  0                  0                  0   \n",
       "3                  0                  0                  0                  0   \n",
       "4                  1                  0                  0                  0   \n",
       "\n",
       "   review_stars__5.0  \n",
       "0                  1  \n",
       "1                  0  \n",
       "2                  1  \n",
       "3                  1  \n",
       "4                  0  "
      ]
     },
     "execution_count": 7,
     "metadata": {},
     "output_type": "execute_result"
    }
   ],
   "source": [
    "ytrain.head()"
   ]
  },
  {
   "cell_type": "code",
   "execution_count": 8,
   "metadata": {},
   "outputs": [
    {
     "data": {
      "text/html": [
       "<div>\n",
       "<style scoped>\n",
       "    .dataframe tbody tr th:only-of-type {\n",
       "        vertical-align: middle;\n",
       "    }\n",
       "\n",
       "    .dataframe tbody tr th {\n",
       "        vertical-align: top;\n",
       "    }\n",
       "\n",
       "    .dataframe thead th {\n",
       "        text-align: right;\n",
       "    }\n",
       "</style>\n",
       "<table border=\"1\" class=\"dataframe\">\n",
       "  <thead>\n",
       "    <tr style=\"text-align: right;\">\n",
       "      <th></th>\n",
       "      <th>review_stars__1.0</th>\n",
       "      <th>review_stars__2.0</th>\n",
       "      <th>review_stars__3.0</th>\n",
       "      <th>review_stars__4.0</th>\n",
       "      <th>review_stars__5.0</th>\n",
       "    </tr>\n",
       "  </thead>\n",
       "  <tbody>\n",
       "    <tr>\n",
       "      <td>0</td>\n",
       "      <td>0</td>\n",
       "      <td>1</td>\n",
       "      <td>0</td>\n",
       "      <td>0</td>\n",
       "      <td>0</td>\n",
       "    </tr>\n",
       "    <tr>\n",
       "      <td>1</td>\n",
       "      <td>0</td>\n",
       "      <td>0</td>\n",
       "      <td>0</td>\n",
       "      <td>0</td>\n",
       "      <td>1</td>\n",
       "    </tr>\n",
       "    <tr>\n",
       "      <td>2</td>\n",
       "      <td>0</td>\n",
       "      <td>0</td>\n",
       "      <td>0</td>\n",
       "      <td>1</td>\n",
       "      <td>0</td>\n",
       "    </tr>\n",
       "    <tr>\n",
       "      <td>3</td>\n",
       "      <td>0</td>\n",
       "      <td>0</td>\n",
       "      <td>0</td>\n",
       "      <td>1</td>\n",
       "      <td>0</td>\n",
       "    </tr>\n",
       "    <tr>\n",
       "      <td>4</td>\n",
       "      <td>1</td>\n",
       "      <td>0</td>\n",
       "      <td>0</td>\n",
       "      <td>0</td>\n",
       "      <td>0</td>\n",
       "    </tr>\n",
       "  </tbody>\n",
       "</table>\n",
       "</div>"
      ],
      "text/plain": [
       "   review_stars__1.0  review_stars__2.0  review_stars__3.0  review_stars__4.0  \\\n",
       "0                  0                  1                  0                  0   \n",
       "1                  0                  0                  0                  0   \n",
       "2                  0                  0                  0                  1   \n",
       "3                  0                  0                  0                  1   \n",
       "4                  1                  0                  0                  0   \n",
       "\n",
       "   review_stars__5.0  \n",
       "0                  0  \n",
       "1                  1  \n",
       "2                  0  \n",
       "3                  0  \n",
       "4                  0  "
      ]
     },
     "execution_count": 8,
     "metadata": {},
     "output_type": "execute_result"
    }
   ],
   "source": [
    "yvalid.head()"
   ]
  },
  {
   "cell_type": "code",
   "execution_count": 9,
   "metadata": {},
   "outputs": [
    {
     "data": {
      "text/plain": [
       "[5.0, 4.0, 3.0, 1.0, 2.0]"
      ]
     },
     "execution_count": 9,
     "metadata": {},
     "output_type": "execute_result"
    }
   ],
   "source": [
    "labels = train.stars_review.value_counts().index.tolist()\n",
    "labels"
   ]
  },
  {
   "cell_type": "code",
   "execution_count": 10,
   "metadata": {},
   "outputs": [],
   "source": [
    "# let's review a list of parameters we set up  , max_sequence_len =300\n",
    "\n",
    "vocab_size=10000\n",
    "max_sequence_len = 225\n",
    "oov_tok = '<OOV>'\n",
    "embedding_size=300\n",
    "#len_train_word_index = 87529"
   ]
  },
  {
   "cell_type": "markdown",
   "metadata": {},
   "source": [
    "## Modelling\n",
    "\n",
    "First train the following 4 models on the word2Vec embedded data.\n",
    "1. LSTM model\n",
    "2. BiLSTM model\n",
    "3. CNN model\n",
    "4. CNN-BiLSTM model\n",
    "\n",
    "I noticed that with the word2Vec embedded training data, the best model among the 4 above is BiLST. I then trained BiLSTM model with GloVe embedded data and noticed that GloVe embedding model performed lightly better than the word2Vec model in predicting the rating of reviews."
   ]
  },
  {
   "cell_type": "markdown",
   "metadata": {},
   "source": [
    "Here are two setup I implemented to prevent overfitting.\n",
    "**Early Stopping** and **Checkpoints**\n",
    "We use early stopping to monitor the loss on the validation dataset and use the model checkpoint to save the best models based on validation set accuracy. Also, we set patience of early stopping of 10 epoches."
   ]
  },
  {
   "cell_type": "markdown",
   "metadata": {},
   "source": [
    "#### RNN(LSTM) model (word2vec)\n",
    "\n",
    "parameters for lstm_model : <br>\n",
    "max_sequence_len =225 <br>\n",
    "vocab_size  =10000 <br>\n",
    "embedding_size =300 <br>\n"
   ]
  },
  {
   "cell_type": "code",
   "execution_count": 411,
   "metadata": {},
   "outputs": [],
   "source": [
    "# Create an instance of Sequential called \"model_rnn\"\n",
    "lstm_model = Sequential()\n",
    "\n",
    "#add an Embedding layer\n",
    "lstm_model.add(Embedding(input_dim =vocab_size,\n",
    "                            output_dim = embedding_size,\n",
    "                            weights=[train_embedding_weights],\n",
    "                            input_length=max_sequence_len,\n",
    "                            trainable=False))\n",
    "\n",
    "# Add a LSTM layer\n",
    "lstm_model.add(LSTM(units = 64,  return_sequences=True, recurrent_dropout=0.2))\n",
    "\n",
    "# Add 2nd LSTM layer\n",
    "lstm_model.add(LSTM(units = 64, recurrent_dropout=0.2))\n",
    "                    \n",
    "# Add a dropout layer\n",
    "lstm_model.add(Dropout(rate=0.2))\n",
    "\n",
    "lstm_model.add(Dense(32, activation=\"relu\"))\n",
    "\n",
    "lstm_model.add(Dropout(rate=0.2))\n",
    "\n",
    "# Add a Dense Layer\n",
    "lstm_model.add(Dense(units=5, activation = 'softmax'))\n",
    "          \n",
    "# Compile\n",
    "lstm_model.compile(optimizer = \"adam\", loss = 'categorical_crossentropy',\n",
    "                  metrics = [\"accuracy\"])\n",
    "\n",
    " \n",
    "   "
   ]
  },
  {
   "cell_type": "code",
   "execution_count": 412,
   "metadata": {},
   "outputs": [
    {
     "name": "stdout",
     "output_type": "stream",
     "text": [
      "Model: \"sequential_2\"\n",
      "_________________________________________________________________\n",
      "Layer (type)                 Output Shape              Param #   \n",
      "=================================================================\n",
      "embedding_2 (Embedding)      (None, 225, 300)          3000000   \n",
      "_________________________________________________________________\n",
      "lstm_1 (LSTM)                (None, 225, 64)           93440     \n",
      "_________________________________________________________________\n",
      "lstm_2 (LSTM)                (None, 64)                33024     \n",
      "_________________________________________________________________\n",
      "dropout_1 (Dropout)          (None, 64)                0         \n",
      "_________________________________________________________________\n",
      "dense_1 (Dense)              (None, 32)                2080      \n",
      "_________________________________________________________________\n",
      "dropout_2 (Dropout)          (None, 32)                0         \n",
      "_________________________________________________________________\n",
      "dense_2 (Dense)              (None, 5)                 165       \n",
      "=================================================================\n",
      "Total params: 3,128,709\n",
      "Trainable params: 128,709\n",
      "Non-trainable params: 3,000,000\n",
      "_________________________________________________________________\n"
     ]
    }
   ],
   "source": [
    "lstm_model.summary()"
   ]
  },
  {
   "cell_type": "code",
   "execution_count": 414,
   "metadata": {},
   "outputs": [],
   "source": [
    "#patient early stopping\n",
    "es = EarlyStopping(monitor='val_loss', mode='min', verbose=1, patience=10)\n",
    "mc = ModelCheckpoint('best_model.h5', monitor='val_accuracy', mode='max', verbose=1, \n",
    "                     save_best_only=True)"
   ]
  },
  {
   "cell_type": "code",
   "execution_count": null,
   "metadata": {},
   "outputs": [
    {
     "name": "stdout",
     "output_type": "stream",
     "text": [
      "Train on 230604 samples, validate on 76868 samples\n",
      "Epoch 1/20\n",
      "230604/230604 [==============================] - 2362s 10ms/step - loss: 1.3329 - accuracy: 0.4584 - val_loss: 1.0749 - val_accuracy: 0.5336\n",
      "\n",
      "Epoch 00001: val_accuracy improved from -inf to 0.53358, saving model to best_model.h5\n",
      "Epoch 2/20\n",
      "230604/230604 [==============================] - 2395s 10ms/step - loss: 0.9813 - accuracy: 0.5771 - val_loss: 0.8843 - val_accuracy: 0.6160\n",
      "\n",
      "Epoch 00002: val_accuracy improved from 0.53358 to 0.61598, saving model to best_model.h5\n",
      "Epoch 3/20\n",
      "230604/230604 [==============================] - 2888s 13ms/step - loss: 0.8843 - accuracy: 0.6191 - val_loss: 0.8705 - val_accuracy: 0.6254\n",
      "\n",
      "Epoch 00003: val_accuracy improved from 0.61598 to 0.62541, saving model to best_model.h5\n",
      "Epoch 4/20\n",
      "230604/230604 [==============================] - 2361s 10ms/step - loss: 0.8476 - accuracy: 0.6349 - val_loss: 0.8268 - val_accuracy: 0.6387\n",
      "\n",
      "Epoch 00004: val_accuracy improved from 0.62541 to 0.63865, saving model to best_model.h5\n",
      "Epoch 5/20\n",
      "230604/230604 [==============================] - 2345s 10ms/step - loss: 0.8231 - accuracy: 0.6438 - val_loss: 0.8047 - val_accuracy: 0.6515\n",
      "\n",
      "Epoch 00005: val_accuracy improved from 0.63865 to 0.65149, saving model to best_model.h5\n",
      "Epoch 6/20\n",
      "230604/230604 [==============================] - 2340s 10ms/step - loss: 0.8070 - accuracy: 0.6508 - val_loss: 0.7926 - val_accuracy: 0.6588\n",
      "\n",
      "Epoch 00006: val_accuracy improved from 0.65149 to 0.65878, saving model to best_model.h5\n",
      "Epoch 7/20\n",
      "230604/230604 [==============================] - 2343s 10ms/step - loss: 0.7932 - accuracy: 0.6575 - val_loss: 0.7900 - val_accuracy: 0.6601\n",
      "\n",
      "Epoch 00007: val_accuracy improved from 0.65878 to 0.66011, saving model to best_model.h5\n",
      "Epoch 8/20\n",
      "230604/230604 [==============================] - 2418s 10ms/step - loss: 0.7840 - accuracy: 0.6603 - val_loss: 0.7779 - val_accuracy: 0.6619\n",
      "\n",
      "Epoch 00008: val_accuracy improved from 0.66011 to 0.66187, saving model to best_model.h5\n",
      "Epoch 9/20\n",
      "230604/230604 [==============================] - 2351s 10ms/step - loss: 0.7747 - accuracy: 0.6649 - val_loss: 0.7729 - val_accuracy: 0.6656\n",
      "\n",
      "Epoch 00009: val_accuracy improved from 0.66187 to 0.66558, saving model to best_model.h5\n",
      "Epoch 10/20\n",
      "230604/230604 [==============================] - 2344s 10ms/step - loss: 0.7661 - accuracy: 0.6683 - val_loss: 0.7663 - val_accuracy: 0.6676\n",
      "\n",
      "Epoch 00010: val_accuracy improved from 0.66558 to 0.66759, saving model to best_model.h5\n",
      "Epoch 11/20\n",
      "230604/230604 [==============================] - 2366s 10ms/step - loss: 0.7589 - accuracy: 0.6720 - val_loss: 0.7654 - val_accuracy: 0.6689\n",
      "\n",
      "Epoch 00011: val_accuracy improved from 0.66759 to 0.66889, saving model to best_model.h5\n",
      "Epoch 12/20\n",
      "165760/230604 [====================>.........] - ETA: 10:07 - loss: 0.7521 - accuracy: 0.6738"
     ]
    }
   ],
   "source": [
    "lstm_model.fit(x = train_padded, y = ytrain, batch_size = 128 , epochs = 20,\n",
    "                   validation_split=0.25, verbose=1, callbacks=[es, mc])\n",
    "\n"
   ]
  },
  {
   "cell_type": "code",
   "execution_count": 11,
   "metadata": {},
   "outputs": [
    {
     "name": "stdout",
     "output_type": "stream",
     "text": [
      "WARNING:tensorflow:From /opt/anaconda3/lib/python3.7/site-packages/keras/backend/tensorflow_backend.py:422: The name tf.global_variables is deprecated. Please use tf.compat.v1.global_variables instead.\n",
      "\n"
     ]
    }
   ],
   "source": [
    "# load the best_model\n",
    "saved_best_lstm_model = load_model('best_lstm_model.h5')"
   ]
  },
  {
   "cell_type": "code",
   "execution_count": 12,
   "metadata": {},
   "outputs": [
    {
     "data": {
      "image/svg+xml": [
       "<svg height=\"348pt\" viewBox=\"0.00 0.00 206.00 556.00\" width=\"129pt\" xmlns=\"http://www.w3.org/2000/svg\" xmlns:xlink=\"http://www.w3.org/1999/xlink\">\n",
       "<g class=\"graph\" id=\"graph0\" transform=\"scale(.625 .625) rotate(0) translate(4 552)\">\n",
       "<title>G</title>\n",
       "<polygon fill=\"#ffffff\" points=\"-4,4 -4,-552 202,-552 202,4 -4,4\" stroke=\"transparent\"/>\n",
       "<!-- 4472724752 -->\n",
       "<g class=\"node\" id=\"node1\">\n",
       "<title>4472724752</title>\n",
       "<polygon fill=\"none\" points=\"0,-511.5 0,-547.5 198,-547.5 198,-511.5 0,-511.5\" stroke=\"#000000\"/>\n",
       "<text fill=\"#000000\" font-family=\"Times,serif\" font-size=\"14.00\" text-anchor=\"middle\" x=\"99\" y=\"-525.8\">embedding_2_input: InputLayer</text>\n",
       "</g>\n",
       "<!-- 4476100432 -->\n",
       "<g class=\"node\" id=\"node2\">\n",
       "<title>4476100432</title>\n",
       "<polygon fill=\"none\" points=\"16.5,-438.5 16.5,-474.5 181.5,-474.5 181.5,-438.5 16.5,-438.5\" stroke=\"#000000\"/>\n",
       "<text fill=\"#000000\" font-family=\"Times,serif\" font-size=\"14.00\" text-anchor=\"middle\" x=\"99\" y=\"-452.8\">embedding_2: Embedding</text>\n",
       "</g>\n",
       "<!-- 4472724752&#45;&gt;4476100432 -->\n",
       "<g class=\"edge\" id=\"edge1\">\n",
       "<title>4472724752-&gt;4476100432</title>\n",
       "<path d=\"M99,-511.4551C99,-503.3828 99,-493.6764 99,-484.6817\" fill=\"none\" stroke=\"#000000\"/>\n",
       "<polygon fill=\"#000000\" points=\"102.5001,-484.5903 99,-474.5904 95.5001,-484.5904 102.5001,-484.5903\" stroke=\"#000000\"/>\n",
       "</g>\n",
       "<!-- 5053702224 -->\n",
       "<g class=\"node\" id=\"node3\">\n",
       "<title>5053702224</title>\n",
       "<polygon fill=\"none\" points=\"49.5,-365.5 49.5,-401.5 148.5,-401.5 148.5,-365.5 49.5,-365.5\" stroke=\"#000000\"/>\n",
       "<text fill=\"#000000\" font-family=\"Times,serif\" font-size=\"14.00\" text-anchor=\"middle\" x=\"99\" y=\"-379.8\">lstm_1: LSTM</text>\n",
       "</g>\n",
       "<!-- 4476100432&#45;&gt;5053702224 -->\n",
       "<g class=\"edge\" id=\"edge2\">\n",
       "<title>4476100432-&gt;5053702224</title>\n",
       "<path d=\"M99,-438.4551C99,-430.3828 99,-420.6764 99,-411.6817\" fill=\"none\" stroke=\"#000000\"/>\n",
       "<polygon fill=\"#000000\" points=\"102.5001,-411.5903 99,-401.5904 95.5001,-411.5904 102.5001,-411.5903\" stroke=\"#000000\"/>\n",
       "</g>\n",
       "<!-- 6540451664 -->\n",
       "<g class=\"node\" id=\"node4\">\n",
       "<title>6540451664</title>\n",
       "<polygon fill=\"none\" points=\"49.5,-292.5 49.5,-328.5 148.5,-328.5 148.5,-292.5 49.5,-292.5\" stroke=\"#000000\"/>\n",
       "<text fill=\"#000000\" font-family=\"Times,serif\" font-size=\"14.00\" text-anchor=\"middle\" x=\"99\" y=\"-306.8\">lstm_2: LSTM</text>\n",
       "</g>\n",
       "<!-- 5053702224&#45;&gt;6540451664 -->\n",
       "<g class=\"edge\" id=\"edge3\">\n",
       "<title>5053702224-&gt;6540451664</title>\n",
       "<path d=\"M99,-365.4551C99,-357.3828 99,-347.6764 99,-338.6817\" fill=\"none\" stroke=\"#000000\"/>\n",
       "<polygon fill=\"#000000\" points=\"102.5001,-338.5903 99,-328.5904 95.5001,-338.5904 102.5001,-338.5903\" stroke=\"#000000\"/>\n",
       "</g>\n",
       "<!-- 6393690000 -->\n",
       "<g class=\"node\" id=\"node5\">\n",
       "<title>6393690000</title>\n",
       "<polygon fill=\"none\" points=\"35,-219.5 35,-255.5 163,-255.5 163,-219.5 35,-219.5\" stroke=\"#000000\"/>\n",
       "<text fill=\"#000000\" font-family=\"Times,serif\" font-size=\"14.00\" text-anchor=\"middle\" x=\"99\" y=\"-233.8\">dropout_1: Dropout</text>\n",
       "</g>\n",
       "<!-- 6540451664&#45;&gt;6393690000 -->\n",
       "<g class=\"edge\" id=\"edge4\">\n",
       "<title>6540451664-&gt;6393690000</title>\n",
       "<path d=\"M99,-292.4551C99,-284.3828 99,-274.6764 99,-265.6817\" fill=\"none\" stroke=\"#000000\"/>\n",
       "<polygon fill=\"#000000\" points=\"102.5001,-265.5903 99,-255.5904 95.5001,-265.5904 102.5001,-265.5903\" stroke=\"#000000\"/>\n",
       "</g>\n",
       "<!-- 6403057168 -->\n",
       "<g class=\"node\" id=\"node6\">\n",
       "<title>6403057168</title>\n",
       "<polygon fill=\"none\" points=\"46.5,-146.5 46.5,-182.5 151.5,-182.5 151.5,-146.5 46.5,-146.5\" stroke=\"#000000\"/>\n",
       "<text fill=\"#000000\" font-family=\"Times,serif\" font-size=\"14.00\" text-anchor=\"middle\" x=\"99\" y=\"-160.8\">dense_1: Dense</text>\n",
       "</g>\n",
       "<!-- 6393690000&#45;&gt;6403057168 -->\n",
       "<g class=\"edge\" id=\"edge5\">\n",
       "<title>6393690000-&gt;6403057168</title>\n",
       "<path d=\"M99,-219.4551C99,-211.3828 99,-201.6764 99,-192.6817\" fill=\"none\" stroke=\"#000000\"/>\n",
       "<polygon fill=\"#000000\" points=\"102.5001,-192.5903 99,-182.5904 95.5001,-192.5904 102.5001,-192.5903\" stroke=\"#000000\"/>\n",
       "</g>\n",
       "<!-- 6403057680 -->\n",
       "<g class=\"node\" id=\"node7\">\n",
       "<title>6403057680</title>\n",
       "<polygon fill=\"none\" points=\"35,-73.5 35,-109.5 163,-109.5 163,-73.5 35,-73.5\" stroke=\"#000000\"/>\n",
       "<text fill=\"#000000\" font-family=\"Times,serif\" font-size=\"14.00\" text-anchor=\"middle\" x=\"99\" y=\"-87.8\">dropout_2: Dropout</text>\n",
       "</g>\n",
       "<!-- 6403057168&#45;&gt;6403057680 -->\n",
       "<g class=\"edge\" id=\"edge6\">\n",
       "<title>6403057168-&gt;6403057680</title>\n",
       "<path d=\"M99,-146.4551C99,-138.3828 99,-128.6764 99,-119.6817\" fill=\"none\" stroke=\"#000000\"/>\n",
       "<polygon fill=\"#000000\" points=\"102.5001,-119.5903 99,-109.5904 95.5001,-119.5904 102.5001,-119.5903\" stroke=\"#000000\"/>\n",
       "</g>\n",
       "<!-- 6403056400 -->\n",
       "<g class=\"node\" id=\"node8\">\n",
       "<title>6403056400</title>\n",
       "<polygon fill=\"none\" points=\"46.5,-.5 46.5,-36.5 151.5,-36.5 151.5,-.5 46.5,-.5\" stroke=\"#000000\"/>\n",
       "<text fill=\"#000000\" font-family=\"Times,serif\" font-size=\"14.00\" text-anchor=\"middle\" x=\"99\" y=\"-14.8\">dense_2: Dense</text>\n",
       "</g>\n",
       "<!-- 6403057680&#45;&gt;6403056400 -->\n",
       "<g class=\"edge\" id=\"edge7\">\n",
       "<title>6403057680-&gt;6403056400</title>\n",
       "<path d=\"M99,-73.4551C99,-65.3828 99,-55.6764 99,-46.6817\" fill=\"none\" stroke=\"#000000\"/>\n",
       "<polygon fill=\"#000000\" points=\"102.5001,-46.5903 99,-36.5904 95.5001,-46.5904 102.5001,-46.5903\" stroke=\"#000000\"/>\n",
       "</g>\n",
       "</g>\n",
       "</svg>"
      ],
      "text/plain": [
       "<IPython.core.display.SVG object>"
      ]
     },
     "execution_count": 12,
     "metadata": {},
     "output_type": "execute_result"
    }
   ],
   "source": [
    "keras.utils.vis_utils.pydot = pyd\n",
    "\n",
    "#Visualize Model\n",
    "def visualize_model(model):\n",
    "    return SVG(model_to_dot(model,dpi=45).create(prog='dot', format='svg'))\n",
    "\n",
    "#call the function on your model\n",
    "visualize_model(saved_best_lstm_model)"
   ]
  },
  {
   "cell_type": "code",
   "execution_count": 29,
   "metadata": {},
   "outputs": [
    {
     "name": "stdout",
     "output_type": "stream",
     "text": [
      "307472/307472 [==============================] - 1615s 5ms/step\n",
      "76857/76857 [==============================] - 385s 5ms/step\n",
      "Train: 0.685, Test: 0.665\n"
     ]
    }
   ],
   "source": [
    "_, train_acc = saved_best_lstm_model.evaluate(train_padded, ytrain, verbose=1)\n",
    "_, valid_acc = saved_best_lstm_model.evaluate(valid_padded, yvalid, verbose=1)\n",
    "print('Train: %.3f, Test: %.3f' % (train_acc, valid_acc))"
   ]
  },
  {
   "cell_type": "code",
   "execution_count": 34,
   "metadata": {},
   "outputs": [],
   "source": [
    "valid_pred_lstm = saved_best_lstm_model.predict(valid_padded)"
   ]
  },
  {
   "cell_type": "code",
   "execution_count": 35,
   "metadata": {},
   "outputs": [],
   "source": [
    "valid_pred_lstm_result=[]\n",
    "\n",
    "for i in range(len(valid_pred_lstm)):\n",
    "    valid_pred_lstm_result.append(np.argmax(valid_pred_lstm[i])+1)"
   ]
  },
  {
   "cell_type": "code",
   "execution_count": 36,
   "metadata": {},
   "outputs": [
    {
     "name": "stdout",
     "output_type": "stream",
     "text": [
      "              precision    recall  f1-score   support\n",
      "\n",
      "         1.0       0.72      0.74      0.73      8637\n",
      "         2.0       0.46      0.43      0.45      6613\n",
      "         3.0       0.52      0.44      0.47      8731\n",
      "         4.0       0.54      0.52      0.53     18956\n",
      "         5.0       0.78      0.83      0.80     33920\n",
      "\n",
      "    accuracy                           0.67     76857\n",
      "   macro avg       0.60      0.59      0.60     76857\n",
      "weighted avg       0.66      0.67      0.66     76857\n",
      "\n"
     ]
    }
   ],
   "source": [
    "print(classification_report(valid['stars_review'], valid_pred_lstm_result))"
   ]
  },
  {
   "cell_type": "markdown",
   "metadata": {},
   "source": [
    "### BiLSTM_model (word2vec)"
   ]
  },
  {
   "cell_type": "markdown",
   "metadata": {},
   "source": [
    "parameters for bilstm_model: <br>\n",
    "max_sequence_len =225 <br>\n",
    "embedding_size =300 <br>\n",
    "vocab_size=10000 <br>\n",
    "\n",
    "The **keras.layers.Bidirectional** wrapper can also be used with an RNN layer. This propagates the input forward and backwards through the RNN layer and then concatenates the output. This helps the RNN to learn long range dependencies.\n"
   ]
  },
  {
   "cell_type": "code",
   "execution_count": 30,
   "metadata": {},
   "outputs": [],
   "source": [
    "# embedding layer output_dim\n",
    "embedding_size =300\n"
   ]
  },
  {
   "cell_type": "code",
   "execution_count": 32,
   "metadata": {},
   "outputs": [],
   "source": [
    "# Create an instance of Sequential called \"model_rnn\"\n",
    "bilstm_model = Sequential()\n",
    "\n",
    "#add an Embedding layer\n",
    "bilstm_model.add(Embedding(input_dim =vocab_size,\n",
    "                            output_dim = embedding_size,\n",
    "                            weights=[train_embedding_weights],\n",
    "                            input_length=max_sequence_len,\n",
    "                            trainable=False))\n",
    "\n",
    "# Add a LSTM layer\n",
    "bilstm_model.add(Bidirectional(LSTM(units = 256,  return_sequences=True, \n",
    "                                     recurrent_dropout=0.5)))\n",
    "\n",
    "# Add 2nd LSTM layer\n",
    "bilstm_model.add(Bidirectional(LSTM(units = 64, \n",
    "                                   dropout=0.2, recurrent_dropout=0.5)))\n",
    "                    \n",
    "# Add a Dense Layer\n",
    "bilstm_model.add(Dense(32, activation=\"relu\"))\n",
    "\n",
    "# add a dropout layer\n",
    "bilstm_model.add(Dropout(rate=0.5))\n",
    "\n",
    "# Add a Dense Layer\n",
    "bilstm_model.add(Dense(units=5, activation = 'softmax'))\n",
    "          \n",
    "# Compile\n",
    "bilstm_model.compile(optimizer = \"adam\", loss = 'categorical_crossentropy',\n",
    "                  metrics = [\"accuracy\"])\n",
    "\n",
    " \n",
    "   "
   ]
  },
  {
   "cell_type": "code",
   "execution_count": 33,
   "metadata": {},
   "outputs": [
    {
     "name": "stdout",
     "output_type": "stream",
     "text": [
      "Model: \"sequential_3\"\n",
      "_________________________________________________________________\n",
      "Layer (type)                 Output Shape              Param #   \n",
      "=================================================================\n",
      "embedding_1 (Embedding)      (None, 225, 300)          3000000   \n",
      "_________________________________________________________________\n",
      "bidirectional_1 (Bidirection (None, 225, 512)          1140736   \n",
      "_________________________________________________________________\n",
      "bidirectional_2 (Bidirection (None, 128)               295424    \n",
      "_________________________________________________________________\n",
      "dense_1 (Dense)              (None, 32)                4128      \n",
      "_________________________________________________________________\n",
      "dropout_1 (Dropout)          (None, 32)                0         \n",
      "_________________________________________________________________\n",
      "dense_2 (Dense)              (None, 5)                 165       \n",
      "=================================================================\n",
      "Total params: 4,440,453\n",
      "Trainable params: 1,440,453\n",
      "Non-trainable params: 3,000,000\n",
      "_________________________________________________________________\n"
     ]
    }
   ],
   "source": [
    "bilstm_model.summary()"
   ]
  },
  {
   "cell_type": "code",
   "execution_count": 38,
   "metadata": {},
   "outputs": [
    {
     "data": {
      "image/svg+xml": [
       "<svg height=\"302pt\" viewBox=\"0.00 0.00 284.00 483.00\" width=\"178pt\" xmlns=\"http://www.w3.org/2000/svg\" xmlns:xlink=\"http://www.w3.org/1999/xlink\">\n",
       "<g class=\"graph\" id=\"graph0\" transform=\"scale(.625 .625) rotate(0) translate(4 479)\">\n",
       "<title>G</title>\n",
       "<polygon fill=\"#ffffff\" points=\"-4,4 -4,-479 280,-479 280,4 -4,4\" stroke=\"transparent\"/>\n",
       "<!-- 5776186512 -->\n",
       "<g class=\"node\" id=\"node1\">\n",
       "<title>5776186512</title>\n",
       "<polygon fill=\"none\" points=\"39,-438.5 39,-474.5 237,-474.5 237,-438.5 39,-438.5\" stroke=\"#000000\"/>\n",
       "<text fill=\"#000000\" font-family=\"Times,serif\" font-size=\"14.00\" text-anchor=\"middle\" x=\"138\" y=\"-452.8\">embedding_1_input: InputLayer</text>\n",
       "</g>\n",
       "<!-- 5776187024 -->\n",
       "<g class=\"node\" id=\"node2\">\n",
       "<title>5776187024</title>\n",
       "<polygon fill=\"none\" points=\"55.5,-365.5 55.5,-401.5 220.5,-401.5 220.5,-365.5 55.5,-365.5\" stroke=\"#000000\"/>\n",
       "<text fill=\"#000000\" font-family=\"Times,serif\" font-size=\"14.00\" text-anchor=\"middle\" x=\"138\" y=\"-379.8\">embedding_1: Embedding</text>\n",
       "</g>\n",
       "<!-- 5776186512&#45;&gt;5776187024 -->\n",
       "<g class=\"edge\" id=\"edge1\">\n",
       "<title>5776186512-&gt;5776187024</title>\n",
       "<path d=\"M138,-438.4551C138,-430.3828 138,-420.6764 138,-411.6817\" fill=\"none\" stroke=\"#000000\"/>\n",
       "<polygon fill=\"#000000\" points=\"141.5001,-411.5903 138,-401.5904 134.5001,-411.5904 141.5001,-411.5903\" stroke=\"#000000\"/>\n",
       "</g>\n",
       "<!-- 4523527120 -->\n",
       "<g class=\"node\" id=\"node3\">\n",
       "<title>4523527120</title>\n",
       "<polygon fill=\"none\" points=\"0,-292.5 0,-328.5 276,-328.5 276,-292.5 0,-292.5\" stroke=\"#000000\"/>\n",
       "<text fill=\"#000000\" font-family=\"Times,serif\" font-size=\"14.00\" text-anchor=\"middle\" x=\"138\" y=\"-306.8\">bidirectional_1(lstm_1): Bidirectional(LSTM)</text>\n",
       "</g>\n",
       "<!-- 5776187024&#45;&gt;4523527120 -->\n",
       "<g class=\"edge\" id=\"edge2\">\n",
       "<title>5776187024-&gt;4523527120</title>\n",
       "<path d=\"M138,-365.4551C138,-357.3828 138,-347.6764 138,-338.6817\" fill=\"none\" stroke=\"#000000\"/>\n",
       "<polygon fill=\"#000000\" points=\"141.5001,-338.5903 138,-328.5904 134.5001,-338.5904 141.5001,-338.5903\" stroke=\"#000000\"/>\n",
       "</g>\n",
       "<!-- 4523542608 -->\n",
       "<g class=\"node\" id=\"node4\">\n",
       "<title>4523542608</title>\n",
       "<polygon fill=\"none\" points=\"0,-219.5 0,-255.5 276,-255.5 276,-219.5 0,-219.5\" stroke=\"#000000\"/>\n",
       "<text fill=\"#000000\" font-family=\"Times,serif\" font-size=\"14.00\" text-anchor=\"middle\" x=\"138\" y=\"-233.8\">bidirectional_2(lstm_2): Bidirectional(LSTM)</text>\n",
       "</g>\n",
       "<!-- 4523527120&#45;&gt;4523542608 -->\n",
       "<g class=\"edge\" id=\"edge3\">\n",
       "<title>4523527120-&gt;4523542608</title>\n",
       "<path d=\"M138,-292.4551C138,-284.3828 138,-274.6764 138,-265.6817\" fill=\"none\" stroke=\"#000000\"/>\n",
       "<polygon fill=\"#000000\" points=\"141.5001,-265.5903 138,-255.5904 134.5001,-265.5904 141.5001,-265.5903\" stroke=\"#000000\"/>\n",
       "</g>\n",
       "<!-- 5833436624 -->\n",
       "<g class=\"node\" id=\"node5\">\n",
       "<title>5833436624</title>\n",
       "<polygon fill=\"none\" points=\"85.5,-146.5 85.5,-182.5 190.5,-182.5 190.5,-146.5 85.5,-146.5\" stroke=\"#000000\"/>\n",
       "<text fill=\"#000000\" font-family=\"Times,serif\" font-size=\"14.00\" text-anchor=\"middle\" x=\"138\" y=\"-160.8\">dense_1: Dense</text>\n",
       "</g>\n",
       "<!-- 4523542608&#45;&gt;5833436624 -->\n",
       "<g class=\"edge\" id=\"edge4\">\n",
       "<title>4523542608-&gt;5833436624</title>\n",
       "<path d=\"M138,-219.4551C138,-211.3828 138,-201.6764 138,-192.6817\" fill=\"none\" stroke=\"#000000\"/>\n",
       "<polygon fill=\"#000000\" points=\"141.5001,-192.5903 138,-182.5904 134.5001,-192.5904 141.5001,-192.5903\" stroke=\"#000000\"/>\n",
       "</g>\n",
       "<!-- 5844303824 -->\n",
       "<g class=\"node\" id=\"node6\">\n",
       "<title>5844303824</title>\n",
       "<polygon fill=\"none\" points=\"74,-73.5 74,-109.5 202,-109.5 202,-73.5 74,-73.5\" stroke=\"#000000\"/>\n",
       "<text fill=\"#000000\" font-family=\"Times,serif\" font-size=\"14.00\" text-anchor=\"middle\" x=\"138\" y=\"-87.8\">dropout_1: Dropout</text>\n",
       "</g>\n",
       "<!-- 5833436624&#45;&gt;5844303824 -->\n",
       "<g class=\"edge\" id=\"edge5\">\n",
       "<title>5833436624-&gt;5844303824</title>\n",
       "<path d=\"M138,-146.4551C138,-138.3828 138,-128.6764 138,-119.6817\" fill=\"none\" stroke=\"#000000\"/>\n",
       "<polygon fill=\"#000000\" points=\"141.5001,-119.5903 138,-109.5904 134.5001,-119.5904 141.5001,-119.5903\" stroke=\"#000000\"/>\n",
       "</g>\n",
       "<!-- 5844373072 -->\n",
       "<g class=\"node\" id=\"node7\">\n",
       "<title>5844373072</title>\n",
       "<polygon fill=\"none\" points=\"85.5,-.5 85.5,-36.5 190.5,-36.5 190.5,-.5 85.5,-.5\" stroke=\"#000000\"/>\n",
       "<text fill=\"#000000\" font-family=\"Times,serif\" font-size=\"14.00\" text-anchor=\"middle\" x=\"138\" y=\"-14.8\">dense_2: Dense</text>\n",
       "</g>\n",
       "<!-- 5844303824&#45;&gt;5844373072 -->\n",
       "<g class=\"edge\" id=\"edge6\">\n",
       "<title>5844303824-&gt;5844373072</title>\n",
       "<path d=\"M138,-73.4551C138,-65.3828 138,-55.6764 138,-46.6817\" fill=\"none\" stroke=\"#000000\"/>\n",
       "<polygon fill=\"#000000\" points=\"141.5001,-46.5903 138,-36.5904 134.5001,-46.5904 141.5001,-46.5903\" stroke=\"#000000\"/>\n",
       "</g>\n",
       "</g>\n",
       "</svg>"
      ],
      "text/plain": [
       "<IPython.core.display.SVG object>"
      ]
     },
     "execution_count": 38,
     "metadata": {},
     "output_type": "execute_result"
    }
   ],
   "source": [
    "keras.utils.vis_utils.pydot = pyd\n",
    "\n",
    "#Visualize Model\n",
    "def visualize_model(model):\n",
    "    return SVG(model_to_dot(model,dpi=45).create(prog='dot', format='svg'))\n",
    "\n",
    "#call the function on your model\n",
    "visualize_model(saved_best_bilstm_model)"
   ]
  },
  {
   "cell_type": "code",
   "execution_count": 34,
   "metadata": {},
   "outputs": [],
   "source": [
    "#patient early stopping\n",
    "es = EarlyStopping(monitor='val_loss', mode='min', verbose=1, patience=10)\n",
    "mc = ModelCheckpoint('best_bilstm_model.h5', monitor='val_accuracy', mode='max', verbose=1, \n",
    "                     save_best_only=True)"
   ]
  },
  {
   "cell_type": "code",
   "execution_count": null,
   "metadata": {
    "scrolled": true
   },
   "outputs": [
    {
     "name": "stdout",
     "output_type": "stream",
     "text": [
      "Train on 230604 samples, validate on 76868 samples\n",
      "Epoch 1/20\n",
      "230604/230604 [==============================] - 7233s 31ms/step - loss: 1.1787 - accuracy: 0.4980 - val_loss: 0.9415 - val_accuracy: 0.5943\n",
      "\n",
      "Epoch 00001: val_accuracy improved from -inf to 0.59434, saving model to best_bilstm_model.h5\n",
      "Epoch 2/20\n",
      "230604/230604 [==============================] - 7532s 33ms/step - loss: 0.9388 - accuracy: 0.5978 - val_loss: 0.8529 - val_accuracy: 0.6326\n",
      "\n",
      "Epoch 00002: val_accuracy improved from 0.59434 to 0.63256, saving model to best_bilstm_model.h5\n",
      "Epoch 3/20\n",
      "230604/230604 [==============================] - 7316s 32ms/step - loss: 0.8693 - accuracy: 0.6260 - val_loss: 0.8019 - val_accuracy: 0.6522\n",
      "\n",
      "Epoch 00003: val_accuracy improved from 0.63256 to 0.65217, saving model to best_bilstm_model.h5\n",
      "Epoch 4/20\n",
      "230604/230604 [==============================] - 7391s 32ms/step - loss: 0.8351 - accuracy: 0.6415 - val_loss: 0.7758 - val_accuracy: 0.6637\n",
      "\n",
      "Epoch 00004: val_accuracy improved from 0.65217 to 0.66371, saving model to best_bilstm_model.h5\n",
      "Epoch 5/20\n",
      "230604/230604 [==============================] - 7415s 32ms/step - loss: 0.8105 - accuracy: 0.6506 - val_loss: 0.7827 - val_accuracy: 0.6591\n",
      "\n",
      "Epoch 00005: val_accuracy did not improve from 0.66371\n",
      "Epoch 6/20\n",
      "230604/230604 [==============================] - 7760s 34ms/step - loss: 0.7924 - accuracy: 0.6592 - val_loss: 0.7585 - val_accuracy: 0.6721\n",
      "\n",
      "Epoch 00006: val_accuracy improved from 0.66371 to 0.67209, saving model to best_bilstm_model.h5\n",
      "Epoch 7/20\n",
      " 90880/230604 [==========>...................] - ETA: 1:03:43 - loss: 0.7783 - accuracy: 0.6641"
     ]
    }
   ],
   "source": [
    "bilstm_hist= bilstm_model.fit(x = train_padded, y = ytrain, batch_size = 128 , epochs = 20,\n",
    "                   validation_split=0.25, verbose=1, callbacks=[es, mc])"
   ]
  },
  {
   "cell_type": "code",
   "execution_count": 102,
   "metadata": {},
   "outputs": [],
   "source": [
    "# load the best_model\n",
    "saved_best_bilstm_model = load_model('best_bilstm_model.h5')"
   ]
  },
  {
   "cell_type": "code",
   "execution_count": 14,
   "metadata": {},
   "outputs": [
    {
     "name": "stdout",
     "output_type": "stream",
     "text": [
      "307472/307472 [==============================] - 4640s 15ms/step\n",
      "76857/76857 [==============================] - 1161s 15ms/step\n",
      "Train: 0.683, Test: 0.668\n"
     ]
    }
   ],
   "source": [
    "_, train_acc = saved_best_bilstm_model.evaluate(train_padded, ytrain, verbose=1)\n",
    "_, valid_acc = saved_best_bilstm_model.evaluate(valid_padded, yvalid, verbose=1)\n",
    "print('Train: %.3f, Test: %.3f' % (train_acc, valid_acc))"
   ]
  },
  {
   "cell_type": "code",
   "execution_count": null,
   "metadata": {},
   "outputs": [],
   "source": [
    "valid_pred_bilstm = saved_best_bilstm_model.predict(valid_padded)"
   ]
  },
  {
   "cell_type": "code",
   "execution_count": 27,
   "metadata": {},
   "outputs": [],
   "source": [
    "valid_pred_bilstm_result=[]\n",
    "\n",
    "for i in range(len(valid_pred_bilstm)):\n",
    "    valid_pred_bilstm_result.append(np.argmax(valid_pred_bilstm[i])+1)"
   ]
  },
  {
   "cell_type": "code",
   "execution_count": 29,
   "metadata": {
    "scrolled": true
   },
   "outputs": [
    {
     "name": "stdout",
     "output_type": "stream",
     "text": [
      "              precision    recall  f1-score   support\n",
      "\n",
      "         1.0       0.73      0.76      0.75      8637\n",
      "         2.0       0.49      0.30      0.38      6613\n",
      "         3.0       0.50      0.45      0.47      8731\n",
      "         4.0       0.54      0.53      0.54     18956\n",
      "         5.0       0.77      0.85      0.81     33920\n",
      "\n",
      "    accuracy                           0.67     76857\n",
      "   macro avg       0.61      0.58      0.59     76857\n",
      "weighted avg       0.65      0.67      0.66     76857\n",
      "\n"
     ]
    }
   ],
   "source": [
    "print(classification_report(valid['stars_review'], valid_pred_bilstm_result))"
   ]
  },
  {
   "cell_type": "code",
   "execution_count": 14,
   "metadata": {},
   "outputs": [],
   "source": [
    "keras.utils.vis_utils.pydot = pyd\n",
    "\n",
    "#Visualize Model\n",
    "\n",
    "def visualize_model(model):\n",
    "    return SVG(model_to_dot(model,dpi=45).create(prog='dot', format='svg'))\n"
   ]
  },
  {
   "cell_type": "code",
   "execution_count": 15,
   "metadata": {},
   "outputs": [
    {
     "data": {
      "image/svg+xml": [
       "<svg height=\"302pt\" viewBox=\"0.00 0.00 284.00 483.00\" width=\"178pt\" xmlns=\"http://www.w3.org/2000/svg\" xmlns:xlink=\"http://www.w3.org/1999/xlink\">\n",
       "<g class=\"graph\" id=\"graph0\" transform=\"scale(.625 .625) rotate(0) translate(4 479)\">\n",
       "<title>G</title>\n",
       "<polygon fill=\"#ffffff\" points=\"-4,4 -4,-479 280,-479 280,4 -4,4\" stroke=\"transparent\"/>\n",
       "<!-- 5919450000 -->\n",
       "<g class=\"node\" id=\"node1\">\n",
       "<title>5919450000</title>\n",
       "<polygon fill=\"none\" points=\"39,-438.5 39,-474.5 237,-474.5 237,-438.5 39,-438.5\" stroke=\"#000000\"/>\n",
       "<text fill=\"#000000\" font-family=\"Times,serif\" font-size=\"14.00\" text-anchor=\"middle\" x=\"138\" y=\"-452.8\">embedding_1_input: InputLayer</text>\n",
       "</g>\n",
       "<!-- 6021538256 -->\n",
       "<g class=\"node\" id=\"node2\">\n",
       "<title>6021538256</title>\n",
       "<polygon fill=\"none\" points=\"55.5,-365.5 55.5,-401.5 220.5,-401.5 220.5,-365.5 55.5,-365.5\" stroke=\"#000000\"/>\n",
       "<text fill=\"#000000\" font-family=\"Times,serif\" font-size=\"14.00\" text-anchor=\"middle\" x=\"138\" y=\"-379.8\">embedding_1: Embedding</text>\n",
       "</g>\n",
       "<!-- 5919450000&#45;&gt;6021538256 -->\n",
       "<g class=\"edge\" id=\"edge1\">\n",
       "<title>5919450000-&gt;6021538256</title>\n",
       "<path d=\"M138,-438.4551C138,-430.3828 138,-420.6764 138,-411.6817\" fill=\"none\" stroke=\"#000000\"/>\n",
       "<polygon fill=\"#000000\" points=\"141.5001,-411.5903 138,-401.5904 134.5001,-411.5904 141.5001,-411.5903\" stroke=\"#000000\"/>\n",
       "</g>\n",
       "<!-- 6021546640 -->\n",
       "<g class=\"node\" id=\"node3\">\n",
       "<title>6021546640</title>\n",
       "<polygon fill=\"none\" points=\"0,-292.5 0,-328.5 276,-328.5 276,-292.5 0,-292.5\" stroke=\"#000000\"/>\n",
       "<text fill=\"#000000\" font-family=\"Times,serif\" font-size=\"14.00\" text-anchor=\"middle\" x=\"138\" y=\"-306.8\">bidirectional_1(lstm_1): Bidirectional(LSTM)</text>\n",
       "</g>\n",
       "<!-- 6021538256&#45;&gt;6021546640 -->\n",
       "<g class=\"edge\" id=\"edge2\">\n",
       "<title>6021538256-&gt;6021546640</title>\n",
       "<path d=\"M138,-365.4551C138,-357.3828 138,-347.6764 138,-338.6817\" fill=\"none\" stroke=\"#000000\"/>\n",
       "<polygon fill=\"#000000\" points=\"141.5001,-338.5903 138,-328.5904 134.5001,-338.5904 141.5001,-338.5903\" stroke=\"#000000\"/>\n",
       "</g>\n",
       "<!-- 6021541072 -->\n",
       "<g class=\"node\" id=\"node4\">\n",
       "<title>6021541072</title>\n",
       "<polygon fill=\"none\" points=\"0,-219.5 0,-255.5 276,-255.5 276,-219.5 0,-219.5\" stroke=\"#000000\"/>\n",
       "<text fill=\"#000000\" font-family=\"Times,serif\" font-size=\"14.00\" text-anchor=\"middle\" x=\"138\" y=\"-233.8\">bidirectional_2(lstm_2): Bidirectional(LSTM)</text>\n",
       "</g>\n",
       "<!-- 6021546640&#45;&gt;6021541072 -->\n",
       "<g class=\"edge\" id=\"edge3\">\n",
       "<title>6021546640-&gt;6021541072</title>\n",
       "<path d=\"M138,-292.4551C138,-284.3828 138,-274.6764 138,-265.6817\" fill=\"none\" stroke=\"#000000\"/>\n",
       "<polygon fill=\"#000000\" points=\"141.5001,-265.5903 138,-255.5904 134.5001,-265.5904 141.5001,-265.5903\" stroke=\"#000000\"/>\n",
       "</g>\n",
       "<!-- 6061523536 -->\n",
       "<g class=\"node\" id=\"node5\">\n",
       "<title>6061523536</title>\n",
       "<polygon fill=\"none\" points=\"85.5,-146.5 85.5,-182.5 190.5,-182.5 190.5,-146.5 85.5,-146.5\" stroke=\"#000000\"/>\n",
       "<text fill=\"#000000\" font-family=\"Times,serif\" font-size=\"14.00\" text-anchor=\"middle\" x=\"138\" y=\"-160.8\">dense_1: Dense</text>\n",
       "</g>\n",
       "<!-- 6021541072&#45;&gt;6061523536 -->\n",
       "<g class=\"edge\" id=\"edge4\">\n",
       "<title>6021541072-&gt;6061523536</title>\n",
       "<path d=\"M138,-219.4551C138,-211.3828 138,-201.6764 138,-192.6817\" fill=\"none\" stroke=\"#000000\"/>\n",
       "<polygon fill=\"#000000\" points=\"141.5001,-192.5903 138,-182.5904 134.5001,-192.5904 141.5001,-192.5903\" stroke=\"#000000\"/>\n",
       "</g>\n",
       "<!-- 6143316688 -->\n",
       "<g class=\"node\" id=\"node6\">\n",
       "<title>6143316688</title>\n",
       "<polygon fill=\"none\" points=\"74,-73.5 74,-109.5 202,-109.5 202,-73.5 74,-73.5\" stroke=\"#000000\"/>\n",
       "<text fill=\"#000000\" font-family=\"Times,serif\" font-size=\"14.00\" text-anchor=\"middle\" x=\"138\" y=\"-87.8\">dropout_1: Dropout</text>\n",
       "</g>\n",
       "<!-- 6061523536&#45;&gt;6143316688 -->\n",
       "<g class=\"edge\" id=\"edge5\">\n",
       "<title>6061523536-&gt;6143316688</title>\n",
       "<path d=\"M138,-146.4551C138,-138.3828 138,-128.6764 138,-119.6817\" fill=\"none\" stroke=\"#000000\"/>\n",
       "<polygon fill=\"#000000\" points=\"141.5001,-119.5903 138,-109.5904 134.5001,-119.5904 141.5001,-119.5903\" stroke=\"#000000\"/>\n",
       "</g>\n",
       "<!-- 6143383184 -->\n",
       "<g class=\"node\" id=\"node7\">\n",
       "<title>6143383184</title>\n",
       "<polygon fill=\"none\" points=\"85.5,-.5 85.5,-36.5 190.5,-36.5 190.5,-.5 85.5,-.5\" stroke=\"#000000\"/>\n",
       "<text fill=\"#000000\" font-family=\"Times,serif\" font-size=\"14.00\" text-anchor=\"middle\" x=\"138\" y=\"-14.8\">dense_2: Dense</text>\n",
       "</g>\n",
       "<!-- 6143316688&#45;&gt;6143383184 -->\n",
       "<g class=\"edge\" id=\"edge6\">\n",
       "<title>6143316688-&gt;6143383184</title>\n",
       "<path d=\"M138,-73.4551C138,-65.3828 138,-55.6764 138,-46.6817\" fill=\"none\" stroke=\"#000000\"/>\n",
       "<polygon fill=\"#000000\" points=\"141.5001,-46.5903 138,-36.5904 134.5001,-46.5904 141.5001,-46.5903\" stroke=\"#000000\"/>\n",
       "</g>\n",
       "</g>\n",
       "</svg>"
      ],
      "text/plain": [
       "<IPython.core.display.SVG object>"
      ]
     },
     "execution_count": 15,
     "metadata": {},
     "output_type": "execute_result"
    }
   ],
   "source": [
    "visualize_model(saved_best_bilstm_model)"
   ]
  },
  {
   "cell_type": "markdown",
   "metadata": {},
   "source": [
    "### CNN model  (word2vec)\n",
    "\n"
   ]
  },
  {
   "cell_type": "code",
   "execution_count": 16,
   "metadata": {},
   "outputs": [
    {
     "data": {
      "text/plain": [
       "225"
      ]
     },
     "execution_count": 16,
     "metadata": {},
     "output_type": "execute_result"
    }
   ],
   "source": [
    "max_sequence_len"
   ]
  },
  {
   "cell_type": "code",
   "execution_count": 29,
   "metadata": {},
   "outputs": [],
   "source": [
    "def build_model_cnn(word_index_len,embedding_dim, embedding_matrix, nclasses,\n",
    "                    MAX_SEQUENCE_LENGTH,num_filters = 64,dropout_rate=0.5):\n",
    "    \n",
    "    \n",
    "    sequence_input = Input(shape=(MAX_SEQUENCE_LENGTH,), dtype='int32')\n",
    "    \n",
    "    embedded_sequences = Embedding(input_dim = word_index_len,\n",
    "                                output_dim =  embedding_dim,\n",
    "                                weights=[embedding_matrix],\n",
    "                                input_length= MAX_SEQUENCE_LENGTH,\n",
    "                                trainable=False)(sequence_input)\n",
    "    \n",
    "    \n",
    "    \n",
    "    convs = []\n",
    "    filter_sizes = [2,3,4,5,6]\n",
    "    \n",
    "    \n",
    "    for filter_size in filter_sizes:\n",
    "        l_conv = Conv1D(filters=num_filters ,\n",
    "                        kernel_size=filter_size, \n",
    "                        activation='relu',\n",
    "                        name='Conv_'+'_'+str(filter_size))(embedded_sequences)\n",
    "        \n",
    "        l_pool = GlobalMaxPooling1D()(l_conv)\n",
    "                          \n",
    "        \n",
    "        convs.append(l_pool)\n",
    "\n",
    "    l_merge = concatenate(convs, axis=1)\n",
    "    \n",
    "    x = Dropout(dropout_rate)(l_merge) \n",
    "    \n",
    "    x = Dense(128, activation='relu')(x)\n",
    "    \n",
    "    x = Dropout(dropout_rate)(x)\n",
    "    \n",
    "    preds = Dense(nclasses, activation=\"softmax\")(x)\n",
    "    \n",
    "    model = Model(sequence_input, preds)\n",
    "    model.compile(loss='categorical_crossentropy',\n",
    "                  optimizer='adam',\n",
    "                  metrics=['accuracy'])\n",
    "    model.summary()\n",
    "    return model\n",
    "    \n",
    "\n",
    "   \n",
    "  \n",
    "    \n",
    "\n",
    "\n",
    "\n"
   ]
  },
  {
   "cell_type": "code",
   "execution_count": 30,
   "metadata": {},
   "outputs": [
    {
     "name": "stdout",
     "output_type": "stream",
     "text": [
      "Model: \"model_4\"\n",
      "__________________________________________________________________________________________________\n",
      "Layer (type)                    Output Shape         Param #     Connected to                     \n",
      "==================================================================================================\n",
      "input_4 (InputLayer)            (None, 225)          0                                            \n",
      "__________________________________________________________________________________________________\n",
      "embedding_4 (Embedding)         (None, 225, 300)     3000000     input_4[0][0]                    \n",
      "__________________________________________________________________________________________________\n",
      "Conv__2 (Conv1D)                (None, 224, 200)     120200      embedding_4[0][0]                \n",
      "__________________________________________________________________________________________________\n",
      "Conv__3 (Conv1D)                (None, 223, 200)     180200      embedding_4[0][0]                \n",
      "__________________________________________________________________________________________________\n",
      "Conv__4 (Conv1D)                (None, 222, 200)     240200      embedding_4[0][0]                \n",
      "__________________________________________________________________________________________________\n",
      "Conv__5 (Conv1D)                (None, 221, 200)     300200      embedding_4[0][0]                \n",
      "__________________________________________________________________________________________________\n",
      "Conv__6 (Conv1D)                (None, 220, 200)     360200      embedding_4[0][0]                \n",
      "__________________________________________________________________________________________________\n",
      "global_max_pooling1d_6 (GlobalM (None, 200)          0           Conv__2[0][0]                    \n",
      "__________________________________________________________________________________________________\n",
      "global_max_pooling1d_7 (GlobalM (None, 200)          0           Conv__3[0][0]                    \n",
      "__________________________________________________________________________________________________\n",
      "global_max_pooling1d_8 (GlobalM (None, 200)          0           Conv__4[0][0]                    \n",
      "__________________________________________________________________________________________________\n",
      "global_max_pooling1d_9 (GlobalM (None, 200)          0           Conv__5[0][0]                    \n",
      "__________________________________________________________________________________________________\n",
      "global_max_pooling1d_10 (Global (None, 200)          0           Conv__6[0][0]                    \n",
      "__________________________________________________________________________________________________\n",
      "concatenate_4 (Concatenate)     (None, 1000)         0           global_max_pooling1d_6[0][0]     \n",
      "                                                                 global_max_pooling1d_7[0][0]     \n",
      "                                                                 global_max_pooling1d_8[0][0]     \n",
      "                                                                 global_max_pooling1d_9[0][0]     \n",
      "                                                                 global_max_pooling1d_10[0][0]    \n",
      "__________________________________________________________________________________________________\n",
      "dropout_6 (Dropout)             (None, 1000)         0           concatenate_4[0][0]              \n",
      "__________________________________________________________________________________________________\n",
      "dense_7 (Dense)                 (None, 128)          128128      dropout_6[0][0]                  \n",
      "__________________________________________________________________________________________________\n",
      "dropout_7 (Dropout)             (None, 128)          0           dense_7[0][0]                    \n",
      "__________________________________________________________________________________________________\n",
      "dense_8 (Dense)                 (None, 5)            645         dropout_7[0][0]                  \n",
      "==================================================================================================\n",
      "Total params: 4,329,773\n",
      "Trainable params: 1,329,773\n",
      "Non-trainable params: 3,000,000\n",
      "__________________________________________________________________________________________________\n"
     ]
    }
   ],
   "source": [
    "cnn_model = build_model_cnn(word_index_len = vocab_size,\n",
    "                                 embedding_dim= embedding_size,\n",
    "                            embedding_matrix = train_embedding_weights,\n",
    "                            nclasses = len(labels), \n",
    "                            MAX_SEQUENCE_LENGTH= max_sequence_len,\n",
    "                            num_filters =200,\n",
    "                                dropout_rate=0.5)\n",
    "   "
   ]
  },
  {
   "cell_type": "code",
   "execution_count": 31,
   "metadata": {},
   "outputs": [
    {
     "name": "stdout",
     "output_type": "stream",
     "text": [
      "Model: \"model_4\"\n",
      "__________________________________________________________________________________________________\n",
      "Layer (type)                    Output Shape         Param #     Connected to                     \n",
      "==================================================================================================\n",
      "input_4 (InputLayer)            (None, 225)          0                                            \n",
      "__________________________________________________________________________________________________\n",
      "embedding_4 (Embedding)         (None, 225, 300)     3000000     input_4[0][0]                    \n",
      "__________________________________________________________________________________________________\n",
      "Conv__2 (Conv1D)                (None, 224, 200)     120200      embedding_4[0][0]                \n",
      "__________________________________________________________________________________________________\n",
      "Conv__3 (Conv1D)                (None, 223, 200)     180200      embedding_4[0][0]                \n",
      "__________________________________________________________________________________________________\n",
      "Conv__4 (Conv1D)                (None, 222, 200)     240200      embedding_4[0][0]                \n",
      "__________________________________________________________________________________________________\n",
      "Conv__5 (Conv1D)                (None, 221, 200)     300200      embedding_4[0][0]                \n",
      "__________________________________________________________________________________________________\n",
      "Conv__6 (Conv1D)                (None, 220, 200)     360200      embedding_4[0][0]                \n",
      "__________________________________________________________________________________________________\n",
      "global_max_pooling1d_6 (GlobalM (None, 200)          0           Conv__2[0][0]                    \n",
      "__________________________________________________________________________________________________\n",
      "global_max_pooling1d_7 (GlobalM (None, 200)          0           Conv__3[0][0]                    \n",
      "__________________________________________________________________________________________________\n",
      "global_max_pooling1d_8 (GlobalM (None, 200)          0           Conv__4[0][0]                    \n",
      "__________________________________________________________________________________________________\n",
      "global_max_pooling1d_9 (GlobalM (None, 200)          0           Conv__5[0][0]                    \n",
      "__________________________________________________________________________________________________\n",
      "global_max_pooling1d_10 (Global (None, 200)          0           Conv__6[0][0]                    \n",
      "__________________________________________________________________________________________________\n",
      "concatenate_4 (Concatenate)     (None, 1000)         0           global_max_pooling1d_6[0][0]     \n",
      "                                                                 global_max_pooling1d_7[0][0]     \n",
      "                                                                 global_max_pooling1d_8[0][0]     \n",
      "                                                                 global_max_pooling1d_9[0][0]     \n",
      "                                                                 global_max_pooling1d_10[0][0]    \n",
      "__________________________________________________________________________________________________\n",
      "dropout_6 (Dropout)             (None, 1000)         0           concatenate_4[0][0]              \n",
      "__________________________________________________________________________________________________\n",
      "dense_7 (Dense)                 (None, 128)          128128      dropout_6[0][0]                  \n",
      "__________________________________________________________________________________________________\n",
      "dropout_7 (Dropout)             (None, 128)          0           dense_7[0][0]                    \n",
      "__________________________________________________________________________________________________\n",
      "dense_8 (Dense)                 (None, 5)            645         dropout_7[0][0]                  \n",
      "==================================================================================================\n",
      "Total params: 4,329,773\n",
      "Trainable params: 1,329,773\n",
      "Non-trainable params: 3,000,000\n",
      "__________________________________________________________________________________________________\n"
     ]
    }
   ],
   "source": [
    "cnn_model.summary()\n",
    "                                            "
   ]
  },
  {
   "cell_type": "code",
   "execution_count": 32,
   "metadata": {},
   "outputs": [],
   "source": [
    "keras.utils.vis_utils.pydot = pyd\n",
    "\n",
    "#Visualize Model\n",
    "\n",
    "def visualize_model(model):\n",
    "    return SVG(model_to_dot(model,dpi=45).create(prog='dot', format='svg'))\n"
   ]
  },
  {
   "cell_type": "code",
   "execution_count": 33,
   "metadata": {},
   "outputs": [
    {
     "data": {
      "image/svg+xml": [
       "<svg height=\"393pt\" viewBox=\"0.00 0.00 1547.50 629.00\" width=\"967pt\" xmlns=\"http://www.w3.org/2000/svg\" xmlns:xlink=\"http://www.w3.org/1999/xlink\">\n",
       "<g class=\"graph\" id=\"graph0\" transform=\"scale(.625 .625) rotate(0) translate(4 625)\">\n",
       "<title>G</title>\n",
       "<polygon fill=\"#ffffff\" points=\"-4,4 -4,-625 1543.5,-625 1543.5,4 -4,4\" stroke=\"transparent\"/>\n",
       "<!-- 6610811088 -->\n",
       "<g class=\"node\" id=\"node1\">\n",
       "<title>6610811088</title>\n",
       "<polygon fill=\"none\" points=\"701.5,-584.5 701.5,-620.5 830.5,-620.5 830.5,-584.5 701.5,-584.5\" stroke=\"#000000\"/>\n",
       "<text fill=\"#000000\" font-family=\"Times,serif\" font-size=\"14.00\" text-anchor=\"middle\" x=\"766\" y=\"-598.8\">input_4: InputLayer</text>\n",
       "</g>\n",
       "<!-- 6610812496 -->\n",
       "<g class=\"node\" id=\"node2\">\n",
       "<title>6610812496</title>\n",
       "<polygon fill=\"none\" points=\"683.5,-511.5 683.5,-547.5 848.5,-547.5 848.5,-511.5 683.5,-511.5\" stroke=\"#000000\"/>\n",
       "<text fill=\"#000000\" font-family=\"Times,serif\" font-size=\"14.00\" text-anchor=\"middle\" x=\"766\" y=\"-525.8\">embedding_4: Embedding</text>\n",
       "</g>\n",
       "<!-- 6610811088&#45;&gt;6610812496 -->\n",
       "<g class=\"edge\" id=\"edge1\">\n",
       "<title>6610811088-&gt;6610812496</title>\n",
       "<path d=\"M766,-584.4551C766,-576.3828 766,-566.6764 766,-557.6817\" fill=\"none\" stroke=\"#000000\"/>\n",
       "<polygon fill=\"#000000\" points=\"769.5001,-557.5903 766,-547.5904 762.5001,-557.5904 769.5001,-557.5903\" stroke=\"#000000\"/>\n",
       "</g>\n",
       "<!-- 6610122960 -->\n",
       "<g class=\"node\" id=\"node3\">\n",
       "<title>6610122960</title>\n",
       "<polygon fill=\"none\" points=\"253.5,-438.5 253.5,-474.5 376.5,-474.5 376.5,-438.5 253.5,-438.5\" stroke=\"#000000\"/>\n",
       "<text fill=\"#000000\" font-family=\"Times,serif\" font-size=\"14.00\" text-anchor=\"middle\" x=\"315\" y=\"-452.8\">Conv__2: Conv1D</text>\n",
       "</g>\n",
       "<!-- 6610812496&#45;&gt;6610122960 -->\n",
       "<g class=\"edge\" id=\"edge2\">\n",
       "<title>6610812496-&gt;6610122960</title>\n",
       "<path d=\"M683.2796,-516.1107C598.2922,-502.3544 467.3395,-481.1581 386.6401,-468.0958\" fill=\"none\" stroke=\"#000000\"/>\n",
       "<polygon fill=\"#000000\" points=\"386.9997,-464.6086 376.5689,-466.4657 385.8811,-471.5186 386.9997,-464.6086\" stroke=\"#000000\"/>\n",
       "</g>\n",
       "<!-- 6611958672 -->\n",
       "<g class=\"node\" id=\"node4\">\n",
       "<title>6611958672</title>\n",
       "<polygon fill=\"none\" points=\"478.5,-438.5 478.5,-474.5 601.5,-474.5 601.5,-438.5 478.5,-438.5\" stroke=\"#000000\"/>\n",
       "<text fill=\"#000000\" font-family=\"Times,serif\" font-size=\"14.00\" text-anchor=\"middle\" x=\"540\" y=\"-452.8\">Conv__3: Conv1D</text>\n",
       "</g>\n",
       "<!-- 6610812496&#45;&gt;6611958672 -->\n",
       "<g class=\"edge\" id=\"edge3\">\n",
       "<title>6610812496-&gt;6611958672</title>\n",
       "<path d=\"M710.1348,-511.4551C678.489,-501.2332 638.7302,-488.3907 605.6067,-477.6916\" fill=\"none\" stroke=\"#000000\"/>\n",
       "<polygon fill=\"#000000\" points=\"606.5975,-474.3336 596.0058,-474.5904 604.4458,-480.9947 606.5975,-474.3336\" stroke=\"#000000\"/>\n",
       "</g>\n",
       "<!-- 6611317968 -->\n",
       "<g class=\"node\" id=\"node5\">\n",
       "<title>6611317968</title>\n",
       "<polygon fill=\"none\" points=\"704.5,-438.5 704.5,-474.5 827.5,-474.5 827.5,-438.5 704.5,-438.5\" stroke=\"#000000\"/>\n",
       "<text fill=\"#000000\" font-family=\"Times,serif\" font-size=\"14.00\" text-anchor=\"middle\" x=\"766\" y=\"-452.8\">Conv__4: Conv1D</text>\n",
       "</g>\n",
       "<!-- 6610812496&#45;&gt;6611317968 -->\n",
       "<g class=\"edge\" id=\"edge4\">\n",
       "<title>6610812496-&gt;6611317968</title>\n",
       "<path d=\"M766,-511.4551C766,-503.3828 766,-493.6764 766,-484.6817\" fill=\"none\" stroke=\"#000000\"/>\n",
       "<polygon fill=\"#000000\" points=\"769.5001,-484.5903 766,-474.5904 762.5001,-484.5904 769.5001,-484.5903\" stroke=\"#000000\"/>\n",
       "</g>\n",
       "<!-- 6604614160 -->\n",
       "<g class=\"node\" id=\"node6\">\n",
       "<title>6604614160</title>\n",
       "<polygon fill=\"none\" points=\"929.5,-438.5 929.5,-474.5 1052.5,-474.5 1052.5,-438.5 929.5,-438.5\" stroke=\"#000000\"/>\n",
       "<text fill=\"#000000\" font-family=\"Times,serif\" font-size=\"14.00\" text-anchor=\"middle\" x=\"991\" y=\"-452.8\">Conv__5: Conv1D</text>\n",
       "</g>\n",
       "<!-- 6610812496&#45;&gt;6604614160 -->\n",
       "<g class=\"edge\" id=\"edge5\">\n",
       "<title>6610812496-&gt;6604614160</title>\n",
       "<path d=\"M821.618,-511.4551C853.1238,-501.2332 892.7066,-488.3907 925.6836,-477.6916\" fill=\"none\" stroke=\"#000000\"/>\n",
       "<polygon fill=\"#000000\" points=\"926.8103,-481.0057 935.242,-474.5904 924.65,-474.3473 926.8103,-481.0057\" stroke=\"#000000\"/>\n",
       "</g>\n",
       "<!-- 6604491600 -->\n",
       "<g class=\"node\" id=\"node7\">\n",
       "<title>6604491600</title>\n",
       "<polygon fill=\"none\" points=\"1199.5,-438.5 1199.5,-474.5 1322.5,-474.5 1322.5,-438.5 1199.5,-438.5\" stroke=\"#000000\"/>\n",
       "<text fill=\"#000000\" font-family=\"Times,serif\" font-size=\"14.00\" text-anchor=\"middle\" x=\"1261\" y=\"-452.8\">Conv__6: Conv1D</text>\n",
       "</g>\n",
       "<!-- 6610812496&#45;&gt;6604491600 -->\n",
       "<g class=\"edge\" id=\"edge6\">\n",
       "<title>6610812496-&gt;6604491600</title>\n",
       "<path d=\"M848.5732,-517.3225C943.7907,-503.2804 1098.7771,-480.4238 1189.1899,-467.0902\" fill=\"none\" stroke=\"#000000\"/>\n",
       "<polygon fill=\"#000000\" points=\"1189.9661,-470.5136 1199.3485,-465.592 1188.9448,-463.5885 1189.9661,-470.5136\" stroke=\"#000000\"/>\n",
       "</g>\n",
       "<!-- 6603958224 -->\n",
       "<g class=\"node\" id=\"node8\">\n",
       "<title>6603958224</title>\n",
       "<polygon fill=\"none\" points=\"0,-365.5 0,-401.5 292,-401.5 292,-365.5 0,-365.5\" stroke=\"#000000\"/>\n",
       "<text fill=\"#000000\" font-family=\"Times,serif\" font-size=\"14.00\" text-anchor=\"middle\" x=\"146\" y=\"-379.8\">global_max_pooling1d_6: GlobalMaxPooling1D</text>\n",
       "</g>\n",
       "<!-- 6610122960&#45;&gt;6603958224 -->\n",
       "<g class=\"edge\" id=\"edge7\">\n",
       "<title>6610122960-&gt;6603958224</title>\n",
       "<path d=\"M273.2247,-438.4551C250.2713,-428.5403 221.6102,-416.16 197.3055,-405.6615\" fill=\"none\" stroke=\"#000000\"/>\n",
       "<polygon fill=\"#000000\" points=\"198.4485,-402.3428 187.8804,-401.5904 195.6727,-408.7689 198.4485,-402.3428\" stroke=\"#000000\"/>\n",
       "</g>\n",
       "<!-- 6611318032 -->\n",
       "<g class=\"node\" id=\"node9\">\n",
       "<title>6611318032</title>\n",
       "<polygon fill=\"none\" points=\"310,-365.5 310,-401.5 602,-401.5 602,-365.5 310,-365.5\" stroke=\"#000000\"/>\n",
       "<text fill=\"#000000\" font-family=\"Times,serif\" font-size=\"14.00\" text-anchor=\"middle\" x=\"456\" y=\"-379.8\">global_max_pooling1d_7: GlobalMaxPooling1D</text>\n",
       "</g>\n",
       "<!-- 6611958672&#45;&gt;6611318032 -->\n",
       "<g class=\"edge\" id=\"edge8\">\n",
       "<title>6611958672-&gt;6611318032</title>\n",
       "<path d=\"M519.2359,-438.4551C508.7358,-429.3299 495.8326,-418.1165 484.4261,-408.2036\" fill=\"none\" stroke=\"#000000\"/>\n",
       "<polygon fill=\"#000000\" points=\"486.6602,-405.5082 476.8163,-401.5904 482.0685,-410.7918 486.6602,-405.5082\" stroke=\"#000000\"/>\n",
       "</g>\n",
       "<!-- 6610943760 -->\n",
       "<g class=\"node\" id=\"node10\">\n",
       "<title>6610943760</title>\n",
       "<polygon fill=\"none\" points=\"620,-365.5 620,-401.5 912,-401.5 912,-365.5 620,-365.5\" stroke=\"#000000\"/>\n",
       "<text fill=\"#000000\" font-family=\"Times,serif\" font-size=\"14.00\" text-anchor=\"middle\" x=\"766\" y=\"-379.8\">global_max_pooling1d_8: GlobalMaxPooling1D</text>\n",
       "</g>\n",
       "<!-- 6611317968&#45;&gt;6610943760 -->\n",
       "<g class=\"edge\" id=\"edge9\">\n",
       "<title>6611317968-&gt;6610943760</title>\n",
       "<path d=\"M766,-438.4551C766,-430.3828 766,-420.6764 766,-411.6817\" fill=\"none\" stroke=\"#000000\"/>\n",
       "<polygon fill=\"#000000\" points=\"769.5001,-411.5903 766,-401.5904 762.5001,-411.5904 769.5001,-411.5903\" stroke=\"#000000\"/>\n",
       "</g>\n",
       "<!-- 6604229968 -->\n",
       "<g class=\"node\" id=\"node11\">\n",
       "<title>6604229968</title>\n",
       "<polygon fill=\"none\" points=\"930,-365.5 930,-401.5 1222,-401.5 1222,-365.5 930,-365.5\" stroke=\"#000000\"/>\n",
       "<text fill=\"#000000\" font-family=\"Times,serif\" font-size=\"14.00\" text-anchor=\"middle\" x=\"1076\" y=\"-379.8\">global_max_pooling1d_9: GlobalMaxPooling1D</text>\n",
       "</g>\n",
       "<!-- 6604614160&#45;&gt;6604229968 -->\n",
       "<g class=\"edge\" id=\"edge10\">\n",
       "<title>6604614160-&gt;6604229968</title>\n",
       "<path d=\"M1012.0112,-438.4551C1022.6364,-429.3299 1035.6932,-418.1165 1047.2355,-408.2036\" fill=\"none\" stroke=\"#000000\"/>\n",
       "<polygon fill=\"#000000\" points=\"1049.6299,-410.7609 1054.9359,-401.5904 1045.0692,-405.4505 1049.6299,-410.7609\" stroke=\"#000000\"/>\n",
       "</g>\n",
       "<!-- 6611335760 -->\n",
       "<g class=\"node\" id=\"node12\">\n",
       "<title>6611335760</title>\n",
       "<polygon fill=\"none\" points=\"1240.5,-365.5 1240.5,-401.5 1539.5,-401.5 1539.5,-365.5 1240.5,-365.5\" stroke=\"#000000\"/>\n",
       "<text fill=\"#000000\" font-family=\"Times,serif\" font-size=\"14.00\" text-anchor=\"middle\" x=\"1390\" y=\"-379.8\">global_max_pooling1d_10: GlobalMaxPooling1D</text>\n",
       "</g>\n",
       "<!-- 6604491600&#45;&gt;6611335760 -->\n",
       "<g class=\"edge\" id=\"edge11\">\n",
       "<title>6604491600-&gt;6611335760</title>\n",
       "<path d=\"M1292.8876,-438.4551C1309.7881,-428.8912 1330.7423,-417.0334 1348.8555,-406.7833\" fill=\"none\" stroke=\"#000000\"/>\n",
       "<polygon fill=\"#000000\" points=\"1351.0528,-409.5615 1358.0321,-401.5904 1347.6052,-403.4693 1351.0528,-409.5615\" stroke=\"#000000\"/>\n",
       "</g>\n",
       "<!-- 6611171664 -->\n",
       "<g class=\"node\" id=\"node13\">\n",
       "<title>6611171664</title>\n",
       "<polygon fill=\"none\" points=\"679.5,-292.5 679.5,-328.5 852.5,-328.5 852.5,-292.5 679.5,-292.5\" stroke=\"#000000\"/>\n",
       "<text fill=\"#000000\" font-family=\"Times,serif\" font-size=\"14.00\" text-anchor=\"middle\" x=\"766\" y=\"-306.8\">concatenate_4: Concatenate</text>\n",
       "</g>\n",
       "<!-- 6603958224&#45;&gt;6611171664 -->\n",
       "<g class=\"edge\" id=\"edge12\">\n",
       "<title>6603958224-&gt;6611171664</title>\n",
       "<path d=\"M292.0316,-366.0617C295.0473,-365.7044 298.0396,-365.3502 301,-365 428.3359,-349.9388 575.3106,-332.7445 669.3678,-321.7652\" fill=\"none\" stroke=\"#000000\"/>\n",
       "<polygon fill=\"#000000\" points=\"669.9083,-325.226 679.4351,-320.5902 669.0968,-318.2732 669.9083,-325.226\" stroke=\"#000000\"/>\n",
       "</g>\n",
       "<!-- 6611318032&#45;&gt;6611171664 -->\n",
       "<g class=\"edge\" id=\"edge13\">\n",
       "<title>6611318032-&gt;6611171664</title>\n",
       "<path d=\"M532.6292,-365.4551C577.1454,-354.9722 633.3654,-341.7333 679.4701,-330.8764\" fill=\"none\" stroke=\"#000000\"/>\n",
       "<polygon fill=\"#000000\" points=\"680.5154,-334.226 689.4469,-328.527 678.9109,-327.4124 680.5154,-334.226\" stroke=\"#000000\"/>\n",
       "</g>\n",
       "<!-- 6610943760&#45;&gt;6611171664 -->\n",
       "<g class=\"edge\" id=\"edge14\">\n",
       "<title>6610943760-&gt;6611171664</title>\n",
       "<path d=\"M766,-365.4551C766,-357.3828 766,-347.6764 766,-338.6817\" fill=\"none\" stroke=\"#000000\"/>\n",
       "<polygon fill=\"#000000\" points=\"769.5001,-338.5903 766,-328.5904 762.5001,-338.5904 769.5001,-338.5903\" stroke=\"#000000\"/>\n",
       "</g>\n",
       "<!-- 6604229968&#45;&gt;6611171664 -->\n",
       "<g class=\"edge\" id=\"edge15\">\n",
       "<title>6604229968-&gt;6611171664</title>\n",
       "<path d=\"M999.3708,-365.4551C954.8546,-354.9722 898.6346,-341.7333 852.5299,-330.8764\" fill=\"none\" stroke=\"#000000\"/>\n",
       "<polygon fill=\"#000000\" points=\"853.0891,-327.4124 842.5531,-328.527 851.4846,-334.226 853.0891,-327.4124\" stroke=\"#000000\"/>\n",
       "</g>\n",
       "<!-- 6611335760&#45;&gt;6611171664 -->\n",
       "<g class=\"edge\" id=\"edge16\">\n",
       "<title>6611335760-&gt;6611171664</title>\n",
       "<path d=\"M1240.1396,-365.9683C1123.0034,-352.2648 963.6436,-333.6218 862.7906,-321.8233\" fill=\"none\" stroke=\"#000000\"/>\n",
       "<polygon fill=\"#000000\" points=\"862.9498,-318.3181 852.6108,-320.6324 862.1364,-325.2707 862.9498,-318.3181\" stroke=\"#000000\"/>\n",
       "</g>\n",
       "<!-- 6611170448 -->\n",
       "<g class=\"node\" id=\"node14\">\n",
       "<title>6611170448</title>\n",
       "<polygon fill=\"none\" points=\"702,-219.5 702,-255.5 830,-255.5 830,-219.5 702,-219.5\" stroke=\"#000000\"/>\n",
       "<text fill=\"#000000\" font-family=\"Times,serif\" font-size=\"14.00\" text-anchor=\"middle\" x=\"766\" y=\"-233.8\">dropout_6: Dropout</text>\n",
       "</g>\n",
       "<!-- 6611171664&#45;&gt;6611170448 -->\n",
       "<g class=\"edge\" id=\"edge17\">\n",
       "<title>6611171664-&gt;6611170448</title>\n",
       "<path d=\"M766,-292.4551C766,-284.3828 766,-274.6764 766,-265.6817\" fill=\"none\" stroke=\"#000000\"/>\n",
       "<polygon fill=\"#000000\" points=\"769.5001,-265.5903 766,-255.5904 762.5001,-265.5904 769.5001,-265.5903\" stroke=\"#000000\"/>\n",
       "</g>\n",
       "<!-- 6610974928 -->\n",
       "<g class=\"node\" id=\"node15\">\n",
       "<title>6610974928</title>\n",
       "<polygon fill=\"none\" points=\"713.5,-146.5 713.5,-182.5 818.5,-182.5 818.5,-146.5 713.5,-146.5\" stroke=\"#000000\"/>\n",
       "<text fill=\"#000000\" font-family=\"Times,serif\" font-size=\"14.00\" text-anchor=\"middle\" x=\"766\" y=\"-160.8\">dense_7: Dense</text>\n",
       "</g>\n",
       "<!-- 6611170448&#45;&gt;6610974928 -->\n",
       "<g class=\"edge\" id=\"edge18\">\n",
       "<title>6611170448-&gt;6610974928</title>\n",
       "<path d=\"M766,-219.4551C766,-211.3828 766,-201.6764 766,-192.6817\" fill=\"none\" stroke=\"#000000\"/>\n",
       "<polygon fill=\"#000000\" points=\"769.5001,-192.5903 766,-182.5904 762.5001,-192.5904 769.5001,-192.5903\" stroke=\"#000000\"/>\n",
       "</g>\n",
       "<!-- 6611110992 -->\n",
       "<g class=\"node\" id=\"node16\">\n",
       "<title>6611110992</title>\n",
       "<polygon fill=\"none\" points=\"702,-73.5 702,-109.5 830,-109.5 830,-73.5 702,-73.5\" stroke=\"#000000\"/>\n",
       "<text fill=\"#000000\" font-family=\"Times,serif\" font-size=\"14.00\" text-anchor=\"middle\" x=\"766\" y=\"-87.8\">dropout_7: Dropout</text>\n",
       "</g>\n",
       "<!-- 6610974928&#45;&gt;6611110992 -->\n",
       "<g class=\"edge\" id=\"edge19\">\n",
       "<title>6610974928-&gt;6611110992</title>\n",
       "<path d=\"M766,-146.4551C766,-138.3828 766,-128.6764 766,-119.6817\" fill=\"none\" stroke=\"#000000\"/>\n",
       "<polygon fill=\"#000000\" points=\"769.5001,-119.5903 766,-109.5904 762.5001,-119.5904 769.5001,-119.5903\" stroke=\"#000000\"/>\n",
       "</g>\n",
       "<!-- 6611110928 -->\n",
       "<g class=\"node\" id=\"node17\">\n",
       "<title>6611110928</title>\n",
       "<polygon fill=\"none\" points=\"713.5,-.5 713.5,-36.5 818.5,-36.5 818.5,-.5 713.5,-.5\" stroke=\"#000000\"/>\n",
       "<text fill=\"#000000\" font-family=\"Times,serif\" font-size=\"14.00\" text-anchor=\"middle\" x=\"766\" y=\"-14.8\">dense_8: Dense</text>\n",
       "</g>\n",
       "<!-- 6611110992&#45;&gt;6611110928 -->\n",
       "<g class=\"edge\" id=\"edge20\">\n",
       "<title>6611110992-&gt;6611110928</title>\n",
       "<path d=\"M766,-73.4551C766,-65.3828 766,-55.6764 766,-46.6817\" fill=\"none\" stroke=\"#000000\"/>\n",
       "<polygon fill=\"#000000\" points=\"769.5001,-46.5903 766,-36.5904 762.5001,-46.5904 769.5001,-46.5903\" stroke=\"#000000\"/>\n",
       "</g>\n",
       "</g>\n",
       "</svg>"
      ],
      "text/plain": [
       "<IPython.core.display.SVG object>"
      ]
     },
     "execution_count": 33,
     "metadata": {},
     "output_type": "execute_result"
    }
   ],
   "source": [
    "visualize_model(cnn_model)"
   ]
  },
  {
   "cell_type": "code",
   "execution_count": 34,
   "metadata": {},
   "outputs": [],
   "source": [
    "#patient early stopping\n",
    "es = EarlyStopping(monitor='val_loss', mode='min', verbose=1, patience=10)\n",
    "mc = ModelCheckpoint('cnn_model_best.h5', monitor='val_accuracy', mode='max', verbose=1, \n",
    "                     save_best_only=True)"
   ]
  },
  {
   "cell_type": "code",
   "execution_count": 35,
   "metadata": {},
   "outputs": [
    {
     "name": "stdout",
     "output_type": "stream",
     "text": [
      "Train on 245977 samples, validate on 61495 samples\n",
      "Epoch 1/20\n",
      "245977/245977 [==============================] - 2247s 9ms/step - loss: 1.0974 - accuracy: 0.5333 - val_loss: 0.8654 - val_accuracy: 0.6261\n",
      "\n",
      "Epoch 00001: val_accuracy improved from -inf to 0.62615, saving model to cnn_model_best.h5\n",
      "Epoch 2/20\n",
      "245977/245977 [==============================] - 2327s 9ms/step - loss: 0.8914 - accuracy: 0.6172 - val_loss: 0.8352 - val_accuracy: 0.6420\n",
      "\n",
      "Epoch 00002: val_accuracy improved from 0.62615 to 0.64197, saving model to cnn_model_best.h5\n",
      "Epoch 3/20\n",
      "245977/245977 [==============================] - 2250s 9ms/step - loss: 0.8421 - accuracy: 0.6375 - val_loss: 0.7991 - val_accuracy: 0.6527\n",
      "\n",
      "Epoch 00003: val_accuracy improved from 0.64197 to 0.65265, saving model to cnn_model_best.h5\n",
      "Epoch 4/20\n",
      "245977/245977 [==============================] - 2299s 9ms/step - loss: 0.8109 - accuracy: 0.6494 - val_loss: 0.8128 - val_accuracy: 0.6459\n",
      "\n",
      "Epoch 00004: val_accuracy did not improve from 0.65265\n",
      "Epoch 5/20\n",
      "245977/245977 [==============================] - 2288s 9ms/step - loss: 0.7854 - accuracy: 0.6592 - val_loss: 0.7851 - val_accuracy: 0.6615\n",
      "\n",
      "Epoch 00005: val_accuracy improved from 0.65265 to 0.66153, saving model to cnn_model_best.h5\n",
      "Epoch 6/20\n",
      "245977/245977 [==============================] - 2190s 9ms/step - loss: 0.7620 - accuracy: 0.6692 - val_loss: 0.7832 - val_accuracy: 0.6590\n",
      "\n",
      "Epoch 00006: val_accuracy did not improve from 0.66153\n",
      "Epoch 7/20\n",
      "245977/245977 [==============================] - 2318s 9ms/step - loss: 0.7416 - accuracy: 0.6790 - val_loss: 0.7772 - val_accuracy: 0.6645\n",
      "\n",
      "Epoch 00007: val_accuracy improved from 0.66153 to 0.66454, saving model to cnn_model_best.h5\n",
      "Epoch 8/20\n",
      "245977/245977 [==============================] - 2261s 9ms/step - loss: 0.7206 - accuracy: 0.6852 - val_loss: 0.7852 - val_accuracy: 0.6605\n",
      "\n",
      "Epoch 00008: val_accuracy did not improve from 0.66454\n",
      "Epoch 9/20\n",
      "245977/245977 [==============================] - 2155s 9ms/step - loss: 0.7027 - accuracy: 0.6943 - val_loss: 0.7891 - val_accuracy: 0.6567\n",
      "\n",
      "Epoch 00009: val_accuracy did not improve from 0.66454\n",
      "Epoch 10/20\n",
      "245977/245977 [==============================] - 2161s 9ms/step - loss: 0.6822 - accuracy: 0.7036 - val_loss: 0.7926 - val_accuracy: 0.6585\n",
      "\n",
      "Epoch 00010: val_accuracy did not improve from 0.66454\n",
      "Epoch 11/20\n",
      "245977/245977 [==============================] - 2158s 9ms/step - loss: 0.6652 - accuracy: 0.7104 - val_loss: 0.7919 - val_accuracy: 0.6609\n",
      "\n",
      "Epoch 00011: val_accuracy did not improve from 0.66454\n",
      "Epoch 12/20\n",
      "245977/245977 [==============================] - 2157s 9ms/step - loss: 0.6476 - accuracy: 0.7195 - val_loss: 0.8021 - val_accuracy: 0.6590\n",
      "\n",
      "Epoch 00012: val_accuracy did not improve from 0.66454\n",
      "Epoch 13/20\n",
      "245977/245977 [==============================] - 2157s 9ms/step - loss: 0.6341 - accuracy: 0.7273 - val_loss: 0.8030 - val_accuracy: 0.6571\n",
      "\n",
      "Epoch 00013: val_accuracy did not improve from 0.66454\n",
      "Epoch 14/20\n",
      "245977/245977 [==============================] - 2156s 9ms/step - loss: 0.6155 - accuracy: 0.7356 - val_loss: 0.8045 - val_accuracy: 0.6560\n",
      "\n",
      "Epoch 00014: val_accuracy did not improve from 0.66454\n",
      "Epoch 15/20\n",
      "245977/245977 [==============================] - 2156s 9ms/step - loss: 0.6030 - accuracy: 0.7408 - val_loss: 0.8254 - val_accuracy: 0.6541\n",
      "\n",
      "Epoch 00015: val_accuracy did not improve from 0.66454\n",
      "Epoch 16/20\n",
      "245977/245977 [==============================] - 2162s 9ms/step - loss: 0.5881 - accuracy: 0.7478 - val_loss: 0.8369 - val_accuracy: 0.6418\n",
      "\n",
      "Epoch 00016: val_accuracy did not improve from 0.66454\n",
      "Epoch 17/20\n",
      "245977/245977 [==============================] - 2244s 9ms/step - loss: 0.5747 - accuracy: 0.7564 - val_loss: 0.8405 - val_accuracy: 0.6447\n",
      "\n",
      "Epoch 00017: val_accuracy did not improve from 0.66454\n",
      "Epoch 00017: early stopping\n"
     ]
    }
   ],
   "source": [
    "cnn_model_hist = cnn_model.fit(x = train_padded, y = ytrain, batch_size = 128 , epochs = 20,\n",
    "                   validation_split=0.2, verbose=1, callbacks=[es, mc])"
   ]
  },
  {
   "cell_type": "code",
   "execution_count": 36,
   "metadata": {},
   "outputs": [],
   "source": [
    "# load the best_model\n",
    "saved_best_cnn_model = load_model('cnn_model_best.h5')"
   ]
  },
  {
   "cell_type": "code",
   "execution_count": 37,
   "metadata": {},
   "outputs": [
    {
     "name": "stdout",
     "output_type": "stream",
     "text": [
      "307472/307472 [==============================] - 1011s 3ms/step\n",
      "76857/76857 [==============================] - 241s 3ms/step\n",
      "Train: 0.722, Valid: 0.663\n"
     ]
    }
   ],
   "source": [
    "# get the loss value & the accuracy value on the test data.\n",
    "_, train_acc = saved_best_cnn_model.evaluate(train_padded, ytrain, verbose=1)\n",
    "_, valid_acc = saved_best_cnn_model.evaluate(valid_padded, yvalid, verbose=1)\n",
    "print('Train: %.3f, Valid: %.3f' % (train_acc, valid_acc))"
   ]
  },
  {
   "cell_type": "code",
   "execution_count": 38,
   "metadata": {},
   "outputs": [],
   "source": [
    "def plot_graphs(model, metric):\n",
    "  plt.plot(model.history[metric])\n",
    "  plt.plot(model.history['val_'+metric], '')\n",
    "  plt.xlabel(\"Epochs\")\n",
    "  plt.ylabel(metric)\n",
    "  plt.legend([metric, 'val_'+metric])\n",
    "  plt.show()\n",
    "    \n",
    "    "
   ]
  },
  {
   "cell_type": "code",
   "execution_count": 39,
   "metadata": {},
   "outputs": [
    {
     "data": {
      "image/png": "[encoded data removed]",
      "text/plain": [
       "<Figure size 432x288 with 1 Axes>"
      ]
     },
     "metadata": {
      "needs_background": "light"
     },
     "output_type": "display_data"
    }
   ],
   "source": [
    "plot_graphs(cnn_model_hist,\"accuracy\" )"
   ]
  },
  {
   "cell_type": "code",
   "execution_count": 40,
   "metadata": {},
   "outputs": [
    {
     "data": {
      "image/png": "[encoded data removed]",
      "text/plain": [
       "<Figure size 432x288 with 1 Axes>"
      ]
     },
     "metadata": {
      "needs_background": "light"
     },
     "output_type": "display_data"
    }
   ],
   "source": [
    "plot_graphs(cnn_model_hist,\"loss\" )"
   ]
  },
  {
   "cell_type": "code",
   "execution_count": 42,
   "metadata": {},
   "outputs": [],
   "source": [
    "valid_pred_cnn = saved_best_cnn_model.predict(valid_padded)"
   ]
  },
  {
   "cell_type": "code",
   "execution_count": 43,
   "metadata": {},
   "outputs": [],
   "source": [
    "valid_pred_cnn_result=[]\n",
    "\n",
    "for i in range(len(valid_pred_cnn)):\n",
    "    valid_pred_cnn_result.append(np.argmax(valid_pred_cnn[i])+1)"
   ]
  },
  {
   "cell_type": "code",
   "execution_count": 44,
   "metadata": {},
   "outputs": [
    {
     "name": "stdout",
     "output_type": "stream",
     "text": [
      "              precision    recall  f1-score   support\n",
      "\n",
      "         1.0       0.71      0.75      0.73      8637\n",
      "         2.0       0.45      0.43      0.44      6613\n",
      "         3.0       0.52      0.42      0.46      8731\n",
      "         4.0       0.55      0.47      0.51     18956\n",
      "         5.0       0.76      0.86      0.81     33920\n",
      "\n",
      "    accuracy                           0.66     76857\n",
      "   macro avg       0.60      0.58      0.59     76857\n",
      "weighted avg       0.65      0.66      0.65     76857\n",
      "\n"
     ]
    }
   ],
   "source": [
    "print(classification_report(valid['stars_review'], valid_pred_cnn_result))"
   ]
  },
  {
   "cell_type": "markdown",
   "metadata": {},
   "source": [
    "### Convolutional LSTM network(word2vec) <br>\n",
    "max_sequence_len =225 <br>\n",
    "embedding_size =300 <br>\n",
    "vocab_size =10000 <br>\n",
    "\n"
   ]
  },
  {
   "cell_type": "code",
   "execution_count": 65,
   "metadata": {},
   "outputs": [],
   "source": [
    "\n",
    "def build_cnn_lstm_model(word_index_len, embedding_matrix, nclasses, MAX_SEQUENCE_LENGTH,\n",
    "                       embedding_dim, num_filters, dropout_rate ):\n",
    "    \n",
    "    sequence_input = Input(shape=(MAX_SEQUENCE_LENGTH,), dtype='int32')\n",
    "    \n",
    "    embedded_sequences = Embedding(input_dim = word_index_len,\n",
    "                                output_dim = embedding_dim,\n",
    "                                weights=[embedding_matrix],\n",
    "                                input_length= MAX_SEQUENCE_LENGTH,\n",
    "                                trainable=False)(sequence_input)\n",
    "    \n",
    "    convs = []\n",
    "    filter_sizes = [2,3,4,5]\n",
    "    for filter_size in filter_sizes:\n",
    "        l_conv = Conv1D(filters=num_filters , \n",
    "                        kernel_size=filter_size, \n",
    "                        padding='same',\n",
    "                        activation='relu')(embedded_sequences)\n",
    "        l_pool = MaxPooling1D(pool_size=MAX_SEQUENCE_LENGTH - filter_size + 1)(l_conv)\n",
    "        convs.append(l_pool)\n",
    "    l_merge = concatenate(convs, axis=1)\n",
    "\n",
    "    \n",
    "    l_lstm = Bidirectional(LSTM(units = 256, \n",
    "                                      recurrent_dropout=0.5))(l_merge)\n",
    "    \n",
    "    \n",
    "                                \n",
    "    x = Dropout(dropout_rate)(l_lstm)  \n",
    "    x = Dense(128, activation='relu', kernel_regularizer=regularizers.l2(1))(x)\n",
    "    x = Dropout(dropout_rate)(x)\n",
    "    preds = Dense(nclasses, activation=\"softmax\")(x)\n",
    "    model = Model(sequence_input, preds)\n",
    "    model.compile(loss='categorical_crossentropy',\n",
    "                  optimizer='adam',\n",
    "                  metrics=['accuracy'])\n",
    "    model.summary()\n",
    "    return model\n",
    "    \n"
   ]
  },
  {
   "cell_type": "code",
   "execution_count": 66,
   "metadata": {},
   "outputs": [
    {
     "name": "stdout",
     "output_type": "stream",
     "text": [
      "Model: \"model_7\"\n",
      "__________________________________________________________________________________________________\n",
      "Layer (type)                    Output Shape         Param #     Connected to                     \n",
      "==================================================================================================\n",
      "input_13 (InputLayer)           (None, 225)          0                                            \n",
      "__________________________________________________________________________________________________\n",
      "embedding_13 (Embedding)        (None, 225, 300)     3000000     input_13[0][0]                   \n",
      "__________________________________________________________________________________________________\n",
      "conv1d_21 (Conv1D)              (None, 225, 100)     60100       embedding_13[0][0]               \n",
      "__________________________________________________________________________________________________\n",
      "conv1d_22 (Conv1D)              (None, 225, 100)     90100       embedding_13[0][0]               \n",
      "__________________________________________________________________________________________________\n",
      "conv1d_23 (Conv1D)              (None, 225, 100)     120100      embedding_13[0][0]               \n",
      "__________________________________________________________________________________________________\n",
      "conv1d_24 (Conv1D)              (None, 225, 100)     150100      embedding_13[0][0]               \n",
      "__________________________________________________________________________________________________\n",
      "max_pooling1d_9 (MaxPooling1D)  (None, 1, 100)       0           conv1d_21[0][0]                  \n",
      "__________________________________________________________________________________________________\n",
      "max_pooling1d_10 (MaxPooling1D) (None, 1, 100)       0           conv1d_22[0][0]                  \n",
      "__________________________________________________________________________________________________\n",
      "max_pooling1d_11 (MaxPooling1D) (None, 1, 100)       0           conv1d_23[0][0]                  \n",
      "__________________________________________________________________________________________________\n",
      "max_pooling1d_12 (MaxPooling1D) (None, 1, 100)       0           conv1d_24[0][0]                  \n",
      "__________________________________________________________________________________________________\n",
      "concatenate_9 (Concatenate)     (None, 4, 100)       0           max_pooling1d_9[0][0]            \n",
      "                                                                 max_pooling1d_10[0][0]           \n",
      "                                                                 max_pooling1d_11[0][0]           \n",
      "                                                                 max_pooling1d_12[0][0]           \n",
      "__________________________________________________________________________________________________\n",
      "bidirectional_5 (Bidirectional) (None, 512)          731136      concatenate_9[0][0]              \n",
      "__________________________________________________________________________________________________\n",
      "dropout_12 (Dropout)            (None, 512)          0           bidirectional_5[0][0]            \n",
      "__________________________________________________________________________________________________\n",
      "dense_13 (Dense)                (None, 128)          65664       dropout_12[0][0]                 \n",
      "__________________________________________________________________________________________________\n",
      "dropout_13 (Dropout)            (None, 128)          0           dense_13[0][0]                   \n",
      "__________________________________________________________________________________________________\n",
      "dense_14 (Dense)                (None, 5)            645         dropout_13[0][0]                 \n",
      "==================================================================================================\n",
      "Total params: 4,217,845\n",
      "Trainable params: 1,217,845\n",
      "Non-trainable params: 3,000,000\n",
      "__________________________________________________________________________________________________\n"
     ]
    }
   ],
   "source": [
    "cnn_lstm_model = build_cnn_lstm_model(word_index_len = vocab_size, \n",
    "                                      embedding_matrix = train_embedding_weights,\n",
    "                                      nclasses = len(labels), \n",
    "                                     MAX_SEQUENCE_LENGTH = max_sequence_len,\n",
    "                                      embedding_dim= embedding_size,\n",
    "                                     num_filters =100 ,\n",
    "                                     dropout_rate=0.5)\n",
    "                                    \n",
    "                           "
   ]
  },
  {
   "cell_type": "code",
   "execution_count": 67,
   "metadata": {},
   "outputs": [
    {
     "name": "stdout",
     "output_type": "stream",
     "text": [
      "Model: \"model_7\"\n",
      "__________________________________________________________________________________________________\n",
      "Layer (type)                    Output Shape         Param #     Connected to                     \n",
      "==================================================================================================\n",
      "input_13 (InputLayer)           (None, 225)          0                                            \n",
      "__________________________________________________________________________________________________\n",
      "embedding_13 (Embedding)        (None, 225, 300)     3000000     input_13[0][0]                   \n",
      "__________________________________________________________________________________________________\n",
      "conv1d_21 (Conv1D)              (None, 225, 100)     60100       embedding_13[0][0]               \n",
      "__________________________________________________________________________________________________\n",
      "conv1d_22 (Conv1D)              (None, 225, 100)     90100       embedding_13[0][0]               \n",
      "__________________________________________________________________________________________________\n",
      "conv1d_23 (Conv1D)              (None, 225, 100)     120100      embedding_13[0][0]               \n",
      "__________________________________________________________________________________________________\n",
      "conv1d_24 (Conv1D)              (None, 225, 100)     150100      embedding_13[0][0]               \n",
      "__________________________________________________________________________________________________\n",
      "max_pooling1d_9 (MaxPooling1D)  (None, 1, 100)       0           conv1d_21[0][0]                  \n",
      "__________________________________________________________________________________________________\n",
      "max_pooling1d_10 (MaxPooling1D) (None, 1, 100)       0           conv1d_22[0][0]                  \n",
      "__________________________________________________________________________________________________\n",
      "max_pooling1d_11 (MaxPooling1D) (None, 1, 100)       0           conv1d_23[0][0]                  \n",
      "__________________________________________________________________________________________________\n",
      "max_pooling1d_12 (MaxPooling1D) (None, 1, 100)       0           conv1d_24[0][0]                  \n",
      "__________________________________________________________________________________________________\n",
      "concatenate_9 (Concatenate)     (None, 4, 100)       0           max_pooling1d_9[0][0]            \n",
      "                                                                 max_pooling1d_10[0][0]           \n",
      "                                                                 max_pooling1d_11[0][0]           \n",
      "                                                                 max_pooling1d_12[0][0]           \n",
      "__________________________________________________________________________________________________\n",
      "bidirectional_5 (Bidirectional) (None, 512)          731136      concatenate_9[0][0]              \n",
      "__________________________________________________________________________________________________\n",
      "dropout_12 (Dropout)            (None, 512)          0           bidirectional_5[0][0]            \n",
      "__________________________________________________________________________________________________\n",
      "dense_13 (Dense)                (None, 128)          65664       dropout_12[0][0]                 \n",
      "__________________________________________________________________________________________________\n",
      "dropout_13 (Dropout)            (None, 128)          0           dense_13[0][0]                   \n",
      "__________________________________________________________________________________________________\n",
      "dense_14 (Dense)                (None, 5)            645         dropout_13[0][0]                 \n",
      "==================================================================================================\n",
      "Total params: 4,217,845\n",
      "Trainable params: 1,217,845\n",
      "Non-trainable params: 3,000,000\n",
      "__________________________________________________________________________________________________\n"
     ]
    }
   ],
   "source": [
    "cnn_lstm_model.summary()"
   ]
  },
  {
   "cell_type": "code",
   "execution_count": 68,
   "metadata": {},
   "outputs": [
    {
     "data": {
      "image/svg+xml": [
       "<svg height=\"439pt\" viewBox=\"0.00 0.00 931.50 702.00\" width=\"582pt\" xmlns=\"http://www.w3.org/2000/svg\" xmlns:xlink=\"http://www.w3.org/1999/xlink\">\n",
       "<g class=\"graph\" id=\"graph0\" transform=\"scale(.625 .625) rotate(0) translate(4 698)\">\n",
       "<title>G</title>\n",
       "<polygon fill=\"#ffffff\" points=\"-4,4 -4,-698 927.5,-698 927.5,4 -4,4\" stroke=\"transparent\"/>\n",
       "<!-- 9762660944 -->\n",
       "<g class=\"node\" id=\"node1\">\n",
       "<title>9762660944</title>\n",
       "<polygon fill=\"none\" points=\"369,-657.5 369,-693.5 505,-693.5 505,-657.5 369,-657.5\" stroke=\"#000000\"/>\n",
       "<text fill=\"#000000\" font-family=\"Times,serif\" font-size=\"14.00\" text-anchor=\"middle\" x=\"437\" y=\"-671.8\">input_13: InputLayer</text>\n",
       "</g>\n",
       "<!-- 9762661584 -->\n",
       "<g class=\"node\" id=\"node2\">\n",
       "<title>9762661584</title>\n",
       "<polygon fill=\"none\" points=\"351,-584.5 351,-620.5 523,-620.5 523,-584.5 351,-584.5\" stroke=\"#000000\"/>\n",
       "<text fill=\"#000000\" font-family=\"Times,serif\" font-size=\"14.00\" text-anchor=\"middle\" x=\"437\" y=\"-598.8\">embedding_13: Embedding</text>\n",
       "</g>\n",
       "<!-- 9762660944&#45;&gt;9762661584 -->\n",
       "<g class=\"edge\" id=\"edge1\">\n",
       "<title>9762660944-&gt;9762661584</title>\n",
       "<path d=\"M437,-657.4551C437,-649.3828 437,-639.6764 437,-630.6817\" fill=\"none\" stroke=\"#000000\"/>\n",
       "<polygon fill=\"#000000\" points=\"440.5001,-630.5903 437,-620.5904 433.5001,-630.5904 440.5001,-630.5903\" stroke=\"#000000\"/>\n",
       "</g>\n",
       "<!-- 9762660560 -->\n",
       "<g class=\"node\" id=\"node3\">\n",
       "<title>9762660560</title>\n",
       "<polygon fill=\"none\" points=\"101,-511.5 101,-547.5 235,-547.5 235,-511.5 101,-511.5\" stroke=\"#000000\"/>\n",
       "<text fill=\"#000000\" font-family=\"Times,serif\" font-size=\"14.00\" text-anchor=\"middle\" x=\"168\" y=\"-525.8\">conv1d_21: Conv1D</text>\n",
       "</g>\n",
       "<!-- 9762661584&#45;&gt;9762660560 -->\n",
       "<g class=\"edge\" id=\"edge2\">\n",
       "<title>9762661584-&gt;9762660560</title>\n",
       "<path d=\"M370.5056,-584.4551C332.2729,-574.0796 284.0913,-561.0043 244.3181,-550.2109\" fill=\"none\" stroke=\"#000000\"/>\n",
       "<polygon fill=\"#000000\" points=\"245.2294,-546.8316 234.6617,-547.5904 243.396,-553.5873 245.2294,-546.8316\" stroke=\"#000000\"/>\n",
       "</g>\n",
       "<!-- 9762683664 -->\n",
       "<g class=\"node\" id=\"node4\">\n",
       "<title>9762683664</title>\n",
       "<polygon fill=\"none\" points=\"294,-511.5 294,-547.5 428,-547.5 428,-511.5 294,-511.5\" stroke=\"#000000\"/>\n",
       "<text fill=\"#000000\" font-family=\"Times,serif\" font-size=\"14.00\" text-anchor=\"middle\" x=\"361\" y=\"-525.8\">conv1d_22: Conv1D</text>\n",
       "</g>\n",
       "<!-- 9762661584&#45;&gt;9762683664 -->\n",
       "<g class=\"edge\" id=\"edge3\">\n",
       "<title>9762661584-&gt;9762683664</title>\n",
       "<path d=\"M418.2135,-584.4551C408.8961,-575.5054 397.4873,-564.547 387.3157,-554.7769\" fill=\"none\" stroke=\"#000000\"/>\n",
       "<polygon fill=\"#000000\" points=\"389.4704,-551.9935 379.8338,-547.5904 384.6212,-557.0419 389.4704,-551.9935\" stroke=\"#000000\"/>\n",
       "</g>\n",
       "<!-- 9762641552 -->\n",
       "<g class=\"node\" id=\"node5\">\n",
       "<title>9762641552</title>\n",
       "<polygon fill=\"none\" points=\"488,-511.5 488,-547.5 622,-547.5 622,-511.5 488,-511.5\" stroke=\"#000000\"/>\n",
       "<text fill=\"#000000\" font-family=\"Times,serif\" font-size=\"14.00\" text-anchor=\"middle\" x=\"555\" y=\"-525.8\">conv1d_23: Conv1D</text>\n",
       "</g>\n",
       "<!-- 9762661584&#45;&gt;9762641552 -->\n",
       "<g class=\"edge\" id=\"edge4\">\n",
       "<title>9762661584-&gt;9762641552</title>\n",
       "<path d=\"M466.1685,-584.4551C481.486,-574.979 500.4439,-563.2508 516.9073,-553.0658\" fill=\"none\" stroke=\"#000000\"/>\n",
       "<polygon fill=\"#000000\" points=\"519.0952,-555.8279 525.758,-547.5904 515.4125,-549.875 519.0952,-555.8279\" stroke=\"#000000\"/>\n",
       "</g>\n",
       "<!-- 9761742224 -->\n",
       "<g class=\"node\" id=\"node6\">\n",
       "<title>9761742224</title>\n",
       "<polygon fill=\"none\" points=\"704,-511.5 704,-547.5 838,-547.5 838,-511.5 704,-511.5\" stroke=\"#000000\"/>\n",
       "<text fill=\"#000000\" font-family=\"Times,serif\" font-size=\"14.00\" text-anchor=\"middle\" x=\"771\" y=\"-525.8\">conv1d_24: Conv1D</text>\n",
       "</g>\n",
       "<!-- 9762661584&#45;&gt;9761742224 -->\n",
       "<g class=\"edge\" id=\"edge5\">\n",
       "<title>9762661584-&gt;9761742224</title>\n",
       "<path d=\"M519.5618,-584.4551C572.9173,-572.7935 641.8779,-557.7213 694.0804,-546.3118\" fill=\"none\" stroke=\"#000000\"/>\n",
       "<polygon fill=\"#000000\" points=\"694.9341,-549.7079 703.9561,-544.1533 693.4393,-542.8693 694.9341,-549.7079\" stroke=\"#000000\"/>\n",
       "</g>\n",
       "<!-- 9739419408 -->\n",
       "<g class=\"node\" id=\"node7\">\n",
       "<title>9739419408</title>\n",
       "<polygon fill=\"none\" points=\"0,-438.5 0,-474.5 212,-474.5 212,-438.5 0,-438.5\" stroke=\"#000000\"/>\n",
       "<text fill=\"#000000\" font-family=\"Times,serif\" font-size=\"14.00\" text-anchor=\"middle\" x=\"106\" y=\"-452.8\">max_pooling1d_9: MaxPooling1D</text>\n",
       "</g>\n",
       "<!-- 9762660560&#45;&gt;9739419408 -->\n",
       "<g class=\"edge\" id=\"edge6\">\n",
       "<title>9762660560-&gt;9739419408</title>\n",
       "<path d=\"M152.6742,-511.4551C145.2221,-502.6809 136.1302,-491.9759 127.9573,-482.353\" fill=\"none\" stroke=\"#000000\"/>\n",
       "<polygon fill=\"#000000\" points=\"130.5056,-479.9466 121.3644,-474.5904 125.1702,-484.4781 130.5056,-479.9466\" stroke=\"#000000\"/>\n",
       "</g>\n",
       "<!-- 9762624464 -->\n",
       "<g class=\"node\" id=\"node8\">\n",
       "<title>9762624464</title>\n",
       "<polygon fill=\"none\" points=\"230.5,-438.5 230.5,-474.5 449.5,-474.5 449.5,-438.5 230.5,-438.5\" stroke=\"#000000\"/>\n",
       "<text fill=\"#000000\" font-family=\"Times,serif\" font-size=\"14.00\" text-anchor=\"middle\" x=\"340\" y=\"-452.8\">max_pooling1d_10: MaxPooling1D</text>\n",
       "</g>\n",
       "<!-- 9762683664&#45;&gt;9762624464 -->\n",
       "<g class=\"edge\" id=\"edge7\">\n",
       "<title>9762683664-&gt;9762624464</title>\n",
       "<path d=\"M355.809,-511.4551C353.4616,-503.2951 350.6338,-493.4652 348.0228,-484.3887\" fill=\"none\" stroke=\"#000000\"/>\n",
       "<polygon fill=\"#000000\" points=\"351.3323,-483.233 345.2041,-474.5904 344.6052,-485.1683 351.3323,-483.233\" stroke=\"#000000\"/>\n",
       "</g>\n",
       "<!-- 9762609104 -->\n",
       "<g class=\"node\" id=\"node9\">\n",
       "<title>9762609104</title>\n",
       "<polygon fill=\"none\" points=\"467.5,-438.5 467.5,-474.5 686.5,-474.5 686.5,-438.5 467.5,-438.5\" stroke=\"#000000\"/>\n",
       "<text fill=\"#000000\" font-family=\"Times,serif\" font-size=\"14.00\" text-anchor=\"middle\" x=\"577\" y=\"-452.8\">max_pooling1d_11: MaxPooling1D</text>\n",
       "</g>\n",
       "<!-- 9762641552&#45;&gt;9762609104 -->\n",
       "<g class=\"edge\" id=\"edge8\">\n",
       "<title>9762641552-&gt;9762609104</title>\n",
       "<path d=\"M560.4382,-511.4551C562.8974,-503.2951 565.8598,-493.4652 568.5952,-484.3887\" fill=\"none\" stroke=\"#000000\"/>\n",
       "<polygon fill=\"#000000\" points=\"572.0137,-485.175 571.5481,-474.5904 565.3114,-483.1551 572.0137,-485.175\" stroke=\"#000000\"/>\n",
       "</g>\n",
       "<!-- 6608432656 -->\n",
       "<g class=\"node\" id=\"node10\">\n",
       "<title>6608432656</title>\n",
       "<polygon fill=\"none\" points=\"704.5,-438.5 704.5,-474.5 923.5,-474.5 923.5,-438.5 704.5,-438.5\" stroke=\"#000000\"/>\n",
       "<text fill=\"#000000\" font-family=\"Times,serif\" font-size=\"14.00\" text-anchor=\"middle\" x=\"814\" y=\"-452.8\">max_pooling1d_12: MaxPooling1D</text>\n",
       "</g>\n",
       "<!-- 9761742224&#45;&gt;6608432656 -->\n",
       "<g class=\"edge\" id=\"edge9\">\n",
       "<title>9761742224-&gt;6608432656</title>\n",
       "<path d=\"M781.6292,-511.4551C786.6425,-502.9441 792.7259,-492.6165 798.2597,-483.2219\" fill=\"none\" stroke=\"#000000\"/>\n",
       "<polygon fill=\"#000000\" points=\"801.2843,-484.9831 803.344,-474.5904 795.2529,-481.4303 801.2843,-484.9831\" stroke=\"#000000\"/>\n",
       "</g>\n",
       "<!-- 9762660688 -->\n",
       "<g class=\"node\" id=\"node11\">\n",
       "<title>9762660688</title>\n",
       "<polygon fill=\"none\" points=\"371.5,-365.5 371.5,-401.5 544.5,-401.5 544.5,-365.5 371.5,-365.5\" stroke=\"#000000\"/>\n",
       "<text fill=\"#000000\" font-family=\"Times,serif\" font-size=\"14.00\" text-anchor=\"middle\" x=\"458\" y=\"-379.8\">concatenate_9: Concatenate</text>\n",
       "</g>\n",
       "<!-- 9739419408&#45;&gt;9762660688 -->\n",
       "<g class=\"edge\" id=\"edge10\">\n",
       "<title>9739419408-&gt;9762660688</title>\n",
       "<path d=\"M193.0113,-438.4551C244.0782,-427.8645 308.7091,-414.4609 361.3572,-403.5424\" fill=\"none\" stroke=\"#000000\"/>\n",
       "<polygon fill=\"#000000\" points=\"362.2995,-406.9215 371.3804,-401.4637 360.8779,-400.0674 362.2995,-406.9215\" stroke=\"#000000\"/>\n",
       "</g>\n",
       "<!-- 9762624464&#45;&gt;9762660688 -->\n",
       "<g class=\"edge\" id=\"edge11\">\n",
       "<title>9762624464-&gt;9762660688</title>\n",
       "<path d=\"M369.1685,-438.4551C384.486,-428.979 403.4439,-417.2508 419.9073,-407.0658\" fill=\"none\" stroke=\"#000000\"/>\n",
       "<polygon fill=\"#000000\" points=\"422.0952,-409.8279 428.758,-401.5904 418.4125,-403.875 422.0952,-409.8279\" stroke=\"#000000\"/>\n",
       "</g>\n",
       "<!-- 9762609104&#45;&gt;9762660688 -->\n",
       "<g class=\"edge\" id=\"edge12\">\n",
       "<title>9762609104-&gt;9762660688</title>\n",
       "<path d=\"M547.5843,-438.4551C532.137,-428.979 513.0184,-417.2508 496.4155,-407.0658\" fill=\"none\" stroke=\"#000000\"/>\n",
       "<polygon fill=\"#000000\" points=\"497.8439,-403.836 487.4898,-401.5904 494.1836,-409.8028 497.8439,-403.836\" stroke=\"#000000\"/>\n",
       "</g>\n",
       "<!-- 6608432656&#45;&gt;9762660688 -->\n",
       "<g class=\"edge\" id=\"edge13\">\n",
       "<title>6608432656-&gt;9762660688</title>\n",
       "<path d=\"M726,-438.4551C673.9546,-427.7828 607.9788,-414.2541 554.5118,-403.2904\" fill=\"none\" stroke=\"#000000\"/>\n",
       "<polygon fill=\"#000000\" points=\"555.1794,-399.8545 544.6801,-401.2743 553.7732,-406.7118 555.1794,-399.8545\" stroke=\"#000000\"/>\n",
       "</g>\n",
       "<!-- 9762540368 -->\n",
       "<g class=\"node\" id=\"node12\">\n",
       "<title>9762540368</title>\n",
       "<polygon fill=\"none\" points=\"320,-292.5 320,-328.5 596,-328.5 596,-292.5 320,-292.5\" stroke=\"#000000\"/>\n",
       "<text fill=\"#000000\" font-family=\"Times,serif\" font-size=\"14.00\" text-anchor=\"middle\" x=\"458\" y=\"-306.8\">bidirectional_5(lstm_5): Bidirectional(LSTM)</text>\n",
       "</g>\n",
       "<!-- 9762660688&#45;&gt;9762540368 -->\n",
       "<g class=\"edge\" id=\"edge14\">\n",
       "<title>9762660688-&gt;9762540368</title>\n",
       "<path d=\"M458,-365.4551C458,-357.3828 458,-347.6764 458,-338.6817\" fill=\"none\" stroke=\"#000000\"/>\n",
       "<polygon fill=\"#000000\" points=\"461.5001,-338.5903 458,-328.5904 454.5001,-338.5904 461.5001,-338.5903\" stroke=\"#000000\"/>\n",
       "</g>\n",
       "<!-- 9762502672 -->\n",
       "<g class=\"node\" id=\"node13\">\n",
       "<title>9762502672</title>\n",
       "<polygon fill=\"none\" points=\"390.5,-219.5 390.5,-255.5 525.5,-255.5 525.5,-219.5 390.5,-219.5\" stroke=\"#000000\"/>\n",
       "<text fill=\"#000000\" font-family=\"Times,serif\" font-size=\"14.00\" text-anchor=\"middle\" x=\"458\" y=\"-233.8\">dropout_12: Dropout</text>\n",
       "</g>\n",
       "<!-- 9762540368&#45;&gt;9762502672 -->\n",
       "<g class=\"edge\" id=\"edge15\">\n",
       "<title>9762540368-&gt;9762502672</title>\n",
       "<path d=\"M458,-292.4551C458,-284.3828 458,-274.6764 458,-265.6817\" fill=\"none\" stroke=\"#000000\"/>\n",
       "<polygon fill=\"#000000\" points=\"461.5001,-265.5903 458,-255.5904 454.5001,-265.5904 461.5001,-265.5903\" stroke=\"#000000\"/>\n",
       "</g>\n",
       "<!-- 9762502160 -->\n",
       "<g class=\"node\" id=\"node14\">\n",
       "<title>9762502160</title>\n",
       "<polygon fill=\"none\" points=\"402,-146.5 402,-182.5 514,-182.5 514,-146.5 402,-146.5\" stroke=\"#000000\"/>\n",
       "<text fill=\"#000000\" font-family=\"Times,serif\" font-size=\"14.00\" text-anchor=\"middle\" x=\"458\" y=\"-160.8\">dense_13: Dense</text>\n",
       "</g>\n",
       "<!-- 9762502672&#45;&gt;9762502160 -->\n",
       "<g class=\"edge\" id=\"edge16\">\n",
       "<title>9762502672-&gt;9762502160</title>\n",
       "<path d=\"M458,-219.4551C458,-211.3828 458,-201.6764 458,-192.6817\" fill=\"none\" stroke=\"#000000\"/>\n",
       "<polygon fill=\"#000000\" points=\"461.5001,-192.5903 458,-182.5904 454.5001,-192.5904 461.5001,-192.5903\" stroke=\"#000000\"/>\n",
       "</g>\n",
       "<!-- 9837437520 -->\n",
       "<g class=\"node\" id=\"node15\">\n",
       "<title>9837437520</title>\n",
       "<polygon fill=\"none\" points=\"390.5,-73.5 390.5,-109.5 525.5,-109.5 525.5,-73.5 390.5,-73.5\" stroke=\"#000000\"/>\n",
       "<text fill=\"#000000\" font-family=\"Times,serif\" font-size=\"14.00\" text-anchor=\"middle\" x=\"458\" y=\"-87.8\">dropout_13: Dropout</text>\n",
       "</g>\n",
       "<!-- 9762502160&#45;&gt;9837437520 -->\n",
       "<g class=\"edge\" id=\"edge17\">\n",
       "<title>9762502160-&gt;9837437520</title>\n",
       "<path d=\"M458,-146.4551C458,-138.3828 458,-128.6764 458,-119.6817\" fill=\"none\" stroke=\"#000000\"/>\n",
       "<polygon fill=\"#000000\" points=\"461.5001,-119.5903 458,-109.5904 454.5001,-119.5904 461.5001,-119.5903\" stroke=\"#000000\"/>\n",
       "</g>\n",
       "<!-- 9837440784 -->\n",
       "<g class=\"node\" id=\"node16\">\n",
       "<title>9837440784</title>\n",
       "<polygon fill=\"none\" points=\"402,-.5 402,-36.5 514,-36.5 514,-.5 402,-.5\" stroke=\"#000000\"/>\n",
       "<text fill=\"#000000\" font-family=\"Times,serif\" font-size=\"14.00\" text-anchor=\"middle\" x=\"458\" y=\"-14.8\">dense_14: Dense</text>\n",
       "</g>\n",
       "<!-- 9837437520&#45;&gt;9837440784 -->\n",
       "<g class=\"edge\" id=\"edge18\">\n",
       "<title>9837437520-&gt;9837440784</title>\n",
       "<path d=\"M458,-73.4551C458,-65.3828 458,-55.6764 458,-46.6817\" fill=\"none\" stroke=\"#000000\"/>\n",
       "<polygon fill=\"#000000\" points=\"461.5001,-46.5903 458,-36.5904 454.5001,-46.5904 461.5001,-46.5903\" stroke=\"#000000\"/>\n",
       "</g>\n",
       "</g>\n",
       "</svg>"
      ],
      "text/plain": [
       "<IPython.core.display.SVG object>"
      ]
     },
     "execution_count": 68,
     "metadata": {},
     "output_type": "execute_result"
    }
   ],
   "source": [
    "keras.utils.vis_utils.pydot = pyd\n",
    "\n",
    "#Visualize Model\n",
    "\n",
    "def visualize_model(model):\n",
    "    return SVG(model_to_dot(model,dpi=45).create(prog='dot', format='svg'))\n",
    "#create your model\n",
    "#then call the function on your model\n",
    "visualize_model(cnn_lstm_model)"
   ]
  },
  {
   "cell_type": "code",
   "execution_count": 69,
   "metadata": {},
   "outputs": [],
   "source": [
    "#patient early stopping\n",
    "es = EarlyStopping(monitor='val_loss', mode='min', verbose=1, patience=8)\n",
    "mc = ModelCheckpoint('cnn_lstm_best_model.h5', monitor='val_accuracy', mode='max', verbose=1, \n",
    "                     save_best_only=True)"
   ]
  },
  {
   "cell_type": "code",
   "execution_count": 71,
   "metadata": {
    "scrolled": true
   },
   "outputs": [
    {
     "name": "stdout",
     "output_type": "stream",
     "text": [
      "Train on 245977 samples, validate on 61495 samples\n",
      "Epoch 1/15\n",
      "245977/245977 [==============================] - 1156s 5ms/step - loss: 4.0296 - accuracy: 0.5526 - val_loss: 0.9440 - val_accuracy: 0.6260\n",
      "\n",
      "Epoch 00001: val_accuracy improved from -inf to 0.62600, saving model to cnn_lstm_best_model.h5\n",
      "Epoch 2/15\n",
      "245977/245977 [==============================] - 1121s 5ms/step - loss: 0.9321 - accuracy: 0.6391 - val_loss: 0.8958 - val_accuracy: 0.6477\n",
      "\n",
      "Epoch 00002: val_accuracy improved from 0.62600 to 0.64771, saving model to cnn_lstm_best_model.h5\n",
      "Epoch 3/15\n",
      "245977/245977 [==============================] - 1076s 4ms/step - loss: 0.8688 - accuracy: 0.6683 - val_loss: 0.8957 - val_accuracy: 0.6434\n",
      "\n",
      "Epoch 00003: val_accuracy did not improve from 0.64771\n",
      "Epoch 4/15\n",
      "245977/245977 [==============================] - 1117s 5ms/step - loss: 0.8159 - accuracy: 0.6944 - val_loss: 0.9128 - val_accuracy: 0.6483\n",
      "\n",
      "Epoch 00004: val_accuracy improved from 0.64771 to 0.64835, saving model to cnn_lstm_best_model.h5\n",
      "Epoch 5/15\n",
      "245977/245977 [==============================] - 1142s 5ms/step - loss: 0.7694 - accuracy: 0.7181 - val_loss: 0.9251 - val_accuracy: 0.6484\n",
      "\n",
      "Epoch 00005: val_accuracy improved from 0.64835 to 0.64843, saving model to cnn_lstm_best_model.h5\n",
      "Epoch 6/15\n",
      "245977/245977 [==============================] - 1098s 4ms/step - loss: 0.7260 - accuracy: 0.7412 - val_loss: 0.9673 - val_accuracy: 0.6397\n",
      "\n",
      "Epoch 00006: val_accuracy did not improve from 0.64843\n",
      "Epoch 7/15\n",
      "245977/245977 [==============================] - 1085s 4ms/step - loss: 0.6863 - accuracy: 0.7626 - val_loss: 0.9896 - val_accuracy: 0.6342\n",
      "\n",
      "Epoch 00007: val_accuracy did not improve from 0.64843\n",
      "Epoch 8/15\n",
      "245977/245977 [==============================] - 1093s 4ms/step - loss: 0.6502 - accuracy: 0.7817 - val_loss: 1.1337 - val_accuracy: 0.6324\n",
      "\n",
      "Epoch 00008: val_accuracy did not improve from 0.64843\n",
      "Epoch 9/15\n",
      "245977/245977 [==============================] - 1129s 5ms/step - loss: 0.6206 - accuracy: 0.7975 - val_loss: 1.0878 - val_accuracy: 0.6304\n",
      "\n",
      "Epoch 00009: val_accuracy did not improve from 0.64843\n",
      "Epoch 10/15\n",
      "245977/245977 [==============================] - 1115s 5ms/step - loss: 0.5940 - accuracy: 0.8110 - val_loss: 1.0937 - val_accuracy: 0.6237\n",
      "\n",
      "Epoch 00010: val_accuracy did not improve from 0.64843\n",
      "Epoch 11/15\n",
      "245977/245977 [==============================] - 1087s 4ms/step - loss: 0.5685 - accuracy: 0.8238 - val_loss: 1.1833 - val_accuracy: 0.6254\n",
      "\n",
      "Epoch 00011: val_accuracy did not improve from 0.64843\n",
      "Epoch 00011: early stopping\n"
     ]
    }
   ],
   "source": [
    "cnn_lstm_model_hist = cnn_lstm_model.fit(x = train_padded, y = ytrain, batch_size = 128 ,\n",
    "                                         epochs = 15,\n",
    "                   validation_split=0.2, verbose=1, callbacks=[es, mc])"
   ]
  },
  {
   "cell_type": "code",
   "execution_count": 72,
   "metadata": {},
   "outputs": [],
   "source": [
    "# load the best_model\n",
    "saved_best_cnn_lstm_model = load_model('cnn_lstm_best_model.h5')"
   ]
  },
  {
   "cell_type": "code",
   "execution_count": 73,
   "metadata": {},
   "outputs": [
    {
     "name": "stdout",
     "output_type": "stream",
     "text": [
      "307472/307472 [==============================] - 617s 2ms/step\n",
      "76857/76857 [==============================] - 151s 2ms/step\n",
      "Train: 0.756, Valid: 0.646\n"
     ]
    }
   ],
   "source": [
    "_, train_acc = saved_best_cnn_lstm_model.evaluate(train_padded, ytrain, verbose=1)\n",
    "_, valid_acc = saved_best_cnn_lstm_model.evaluate(valid_padded, yvalid, verbose=1)\n",
    "print('Train: %.3f, Valid: %.3f' % (train_acc, valid_acc))"
   ]
  },
  {
   "cell_type": "code",
   "execution_count": 74,
   "metadata": {},
   "outputs": [
    {
     "data": {
      "image/png": "[encoded data removed]",
      "text/plain": [
       "<Figure size 432x288 with 1 Axes>"
      ]
     },
     "metadata": {
      "needs_background": "light"
     },
     "output_type": "display_data"
    }
   ],
   "source": [
    "plot_graphs(cnn_lstm_model_hist, 'accuracy')"
   ]
  },
  {
   "cell_type": "code",
   "execution_count": 75,
   "metadata": {
    "scrolled": true
   },
   "outputs": [
    {
     "data": {
      "image/png": "[encoded data removed]",
      "text/plain": [
       "<Figure size 432x288 with 1 Axes>"
      ]
     },
     "metadata": {
      "needs_background": "light"
     },
     "output_type": "display_data"
    }
   ],
   "source": [
    "plot_graphs(cnn_lstm_model_hist, 'loss')"
   ]
  },
  {
   "cell_type": "code",
   "execution_count": 76,
   "metadata": {},
   "outputs": [],
   "source": [
    "valid_pred_cnn_lstm = saved_best_cnn_lstm_model.predict(valid_padded)"
   ]
  },
  {
   "cell_type": "code",
   "execution_count": 77,
   "metadata": {},
   "outputs": [],
   "source": [
    "valid_pred_cnn_lstm_result=[]\n",
    "\n",
    "for i in range(len(valid_pred_cnn_lstm)):\n",
    "    valid_pred_cnn_lstm_result.append(np.argmax(valid_pred_cnn_lstm[i])+1)"
   ]
  },
  {
   "cell_type": "code",
   "execution_count": 78,
   "metadata": {},
   "outputs": [
    {
     "name": "stdout",
     "output_type": "stream",
     "text": [
      "              precision    recall  f1-score   support\n",
      "\n",
      "         1.0       0.70      0.74      0.72      8637\n",
      "         2.0       0.45      0.35      0.39      6613\n",
      "         3.0       0.47      0.44      0.45      8731\n",
      "         4.0       0.52      0.46      0.49     18956\n",
      "         5.0       0.75      0.84      0.79     33920\n",
      "\n",
      "    accuracy                           0.65     76857\n",
      "   macro avg       0.58      0.57      0.57     76857\n",
      "weighted avg       0.63      0.65      0.64     76857\n",
      "\n"
     ]
    }
   ],
   "source": [
    "print(classification_report(valid['stars_review'], valid_pred_cnn_lstm_result))"
   ]
  },
  {
   "cell_type": "markdown",
   "metadata": {},
   "source": [
    "### BiLSTM_model (GloVe)"
   ]
  },
  {
   "cell_type": "markdown",
   "metadata": {},
   "source": [
    "parameters for bilstm_model: <br>\n",
    "max_sequence_len =225 <br>\n",
    "embedding_size =200 <br>\n",
    "vocab_size=10000 <br>\n"
   ]
  },
  {
   "cell_type": "code",
   "execution_count": 122,
   "metadata": {},
   "outputs": [
    {
     "data": {
      "text/plain": [
       "200"
      ]
     },
     "execution_count": 122,
     "metadata": {},
     "output_type": "execute_result"
    }
   ],
   "source": [
    "# embedding layer output_dim\n",
    "embedding_size_glove \n"
   ]
  },
  {
   "cell_type": "code",
   "execution_count": 123,
   "metadata": {},
   "outputs": [],
   "source": [
    "# Create an instance of Sequential called \"model_rnn\"\n",
    "glove_bilstm_model = Sequential()\n",
    "\n",
    "#add an Embedding layer\n",
    "glove_bilstm_model.add(Embedding(input_dim =vocab_size,\n",
    "                            output_dim = embedding_size_glove ,\n",
    "                            weights=[train_embedding_weights_glove],\n",
    "                            input_length=max_sequence_len,\n",
    "                            trainable=False))\n",
    "\n",
    "# Add a LSTM layer\n",
    "glove_bilstm_model.add(Bidirectional(LSTM(units = 256,  return_sequences=True, \n",
    "                                     recurrent_dropout=0.5)))\n",
    "\n",
    "# Add 2nd LSTM layer\n",
    "glove_bilstm_model.add(Bidirectional(LSTM(units = 64, \n",
    "                                   dropout=0.2, recurrent_dropout=0.5)))\n",
    "\n",
    "# add a dropout layer\n",
    "glove_bilstm_model.add(Dropout(rate=0.5))\n",
    "                    \n",
    "# Add a Dense Layer\n",
    "glove_bilstm_model.add(Dense(32, activation=\"relu\"))\n",
    "\n",
    "# add a dropout layer\n",
    "glove_bilstm_model.add(Dropout(rate=0.5))\n",
    "\n",
    "# Add a Dense Layer\n",
    "glove_bilstm_model.add(Dense(units=5, activation = 'softmax'))\n",
    "          \n",
    "# Compile\n",
    "glove_bilstm_model.compile(optimizer = \"adam\", loss = 'categorical_crossentropy',\n",
    "                  metrics = [\"accuracy\"])\n",
    "\n",
    " \n",
    "   "
   ]
  },
  {
   "cell_type": "code",
   "execution_count": 124,
   "metadata": {},
   "outputs": [
    {
     "name": "stdout",
     "output_type": "stream",
     "text": [
      "Model: \"sequential_1\"\n",
      "_________________________________________________________________\n",
      "Layer (type)                 Output Shape              Param #   \n",
      "=================================================================\n",
      "embedding_14 (Embedding)     (None, 225, 200)          2000000   \n",
      "_________________________________________________________________\n",
      "bidirectional_6 (Bidirection (None, 225, 512)          935936    \n",
      "_________________________________________________________________\n",
      "bidirectional_7 (Bidirection (None, 128)               295424    \n",
      "_________________________________________________________________\n",
      "dropout_14 (Dropout)         (None, 128)               0         \n",
      "_________________________________________________________________\n",
      "dense_15 (Dense)             (None, 32)                4128      \n",
      "_________________________________________________________________\n",
      "dropout_15 (Dropout)         (None, 32)                0         \n",
      "_________________________________________________________________\n",
      "dense_16 (Dense)             (None, 5)                 165       \n",
      "=================================================================\n",
      "Total params: 3,235,653\n",
      "Trainable params: 1,235,653\n",
      "Non-trainable params: 2,000,000\n",
      "_________________________________________________________________\n"
     ]
    }
   ],
   "source": [
    "glove_bilstm_model.summary()"
   ]
  },
  {
   "cell_type": "code",
   "execution_count": 125,
   "metadata": {},
   "outputs": [
    {
     "data": {
      "image/svg+xml": [
       "<svg height=\"348pt\" viewBox=\"0.00 0.00 284.00 556.00\" width=\"178pt\" xmlns=\"http://www.w3.org/2000/svg\" xmlns:xlink=\"http://www.w3.org/1999/xlink\">\n",
       "<g class=\"graph\" id=\"graph0\" transform=\"scale(.625 .625) rotate(0) translate(4 552)\">\n",
       "<title>G</title>\n",
       "<polygon fill=\"#ffffff\" points=\"-4,4 -4,-552 280,-552 280,4 -4,4\" stroke=\"transparent\"/>\n",
       "<!-- 18189648400 -->\n",
       "<g class=\"node\" id=\"node1\">\n",
       "<title>18189648400</title>\n",
       "<polygon fill=\"none\" points=\"35.5,-511.5 35.5,-547.5 240.5,-547.5 240.5,-511.5 35.5,-511.5\" stroke=\"#000000\"/>\n",
       "<text fill=\"#000000\" font-family=\"Times,serif\" font-size=\"14.00\" text-anchor=\"middle\" x=\"138\" y=\"-525.8\">embedding_14_input: InputLayer</text>\n",
       "</g>\n",
       "<!-- 18189647696 -->\n",
       "<g class=\"node\" id=\"node2\">\n",
       "<title>18189647696</title>\n",
       "<polygon fill=\"none\" points=\"52,-438.5 52,-474.5 224,-474.5 224,-438.5 52,-438.5\" stroke=\"#000000\"/>\n",
       "<text fill=\"#000000\" font-family=\"Times,serif\" font-size=\"14.00\" text-anchor=\"middle\" x=\"138\" y=\"-452.8\">embedding_14: Embedding</text>\n",
       "</g>\n",
       "<!-- 18189648400&#45;&gt;18189647696 -->\n",
       "<g class=\"edge\" id=\"edge1\">\n",
       "<title>18189648400-&gt;18189647696</title>\n",
       "<path d=\"M138,-511.4551C138,-503.3828 138,-493.6764 138,-484.6817\" fill=\"none\" stroke=\"#000000\"/>\n",
       "<polygon fill=\"#000000\" points=\"141.5001,-484.5903 138,-474.5904 134.5001,-484.5904 141.5001,-484.5903\" stroke=\"#000000\"/>\n",
       "</g>\n",
       "<!-- 18189550992 -->\n",
       "<g class=\"node\" id=\"node3\">\n",
       "<title>18189550992</title>\n",
       "<polygon fill=\"none\" points=\"0,-365.5 0,-401.5 276,-401.5 276,-365.5 0,-365.5\" stroke=\"#000000\"/>\n",
       "<text fill=\"#000000\" font-family=\"Times,serif\" font-size=\"14.00\" text-anchor=\"middle\" x=\"138\" y=\"-379.8\">bidirectional_6(lstm_6): Bidirectional(LSTM)</text>\n",
       "</g>\n",
       "<!-- 18189647696&#45;&gt;18189550992 -->\n",
       "<g class=\"edge\" id=\"edge2\">\n",
       "<title>18189647696-&gt;18189550992</title>\n",
       "<path d=\"M138,-438.4551C138,-430.3828 138,-420.6764 138,-411.6817\" fill=\"none\" stroke=\"#000000\"/>\n",
       "<polygon fill=\"#000000\" points=\"141.5001,-411.5903 138,-401.5904 134.5001,-411.5904 141.5001,-411.5903\" stroke=\"#000000\"/>\n",
       "</g>\n",
       "<!-- 10503219472 -->\n",
       "<g class=\"node\" id=\"node4\">\n",
       "<title>10503219472</title>\n",
       "<polygon fill=\"none\" points=\"0,-292.5 0,-328.5 276,-328.5 276,-292.5 0,-292.5\" stroke=\"#000000\"/>\n",
       "<text fill=\"#000000\" font-family=\"Times,serif\" font-size=\"14.00\" text-anchor=\"middle\" x=\"138\" y=\"-306.8\">bidirectional_7(lstm_7): Bidirectional(LSTM)</text>\n",
       "</g>\n",
       "<!-- 18189550992&#45;&gt;10503219472 -->\n",
       "<g class=\"edge\" id=\"edge3\">\n",
       "<title>18189550992-&gt;10503219472</title>\n",
       "<path d=\"M138,-365.4551C138,-357.3828 138,-347.6764 138,-338.6817\" fill=\"none\" stroke=\"#000000\"/>\n",
       "<polygon fill=\"#000000\" points=\"141.5001,-338.5903 138,-328.5904 134.5001,-338.5904 141.5001,-338.5903\" stroke=\"#000000\"/>\n",
       "</g>\n",
       "<!-- 18189650896 -->\n",
       "<g class=\"node\" id=\"node5\">\n",
       "<title>18189650896</title>\n",
       "<polygon fill=\"none\" points=\"70.5,-219.5 70.5,-255.5 205.5,-255.5 205.5,-219.5 70.5,-219.5\" stroke=\"#000000\"/>\n",
       "<text fill=\"#000000\" font-family=\"Times,serif\" font-size=\"14.00\" text-anchor=\"middle\" x=\"138\" y=\"-233.8\">dropout_14: Dropout</text>\n",
       "</g>\n",
       "<!-- 10503219472&#45;&gt;18189650896 -->\n",
       "<g class=\"edge\" id=\"edge4\">\n",
       "<title>10503219472-&gt;18189650896</title>\n",
       "<path d=\"M138,-292.4551C138,-284.3828 138,-274.6764 138,-265.6817\" fill=\"none\" stroke=\"#000000\"/>\n",
       "<polygon fill=\"#000000\" points=\"141.5001,-265.5903 138,-255.5904 134.5001,-265.5904 141.5001,-265.5903\" stroke=\"#000000\"/>\n",
       "</g>\n",
       "<!-- 10503353104 -->\n",
       "<g class=\"node\" id=\"node6\">\n",
       "<title>10503353104</title>\n",
       "<polygon fill=\"none\" points=\"82,-146.5 82,-182.5 194,-182.5 194,-146.5 82,-146.5\" stroke=\"#000000\"/>\n",
       "<text fill=\"#000000\" font-family=\"Times,serif\" font-size=\"14.00\" text-anchor=\"middle\" x=\"138\" y=\"-160.8\">dense_15: Dense</text>\n",
       "</g>\n",
       "<!-- 18189650896&#45;&gt;10503353104 -->\n",
       "<g class=\"edge\" id=\"edge5\">\n",
       "<title>18189650896-&gt;10503353104</title>\n",
       "<path d=\"M138,-219.4551C138,-211.3828 138,-201.6764 138,-192.6817\" fill=\"none\" stroke=\"#000000\"/>\n",
       "<polygon fill=\"#000000\" points=\"141.5001,-192.5903 138,-182.5904 134.5001,-192.5904 141.5001,-192.5903\" stroke=\"#000000\"/>\n",
       "</g>\n",
       "<!-- 10474817232 -->\n",
       "<g class=\"node\" id=\"node7\">\n",
       "<title>10474817232</title>\n",
       "<polygon fill=\"none\" points=\"70.5,-73.5 70.5,-109.5 205.5,-109.5 205.5,-73.5 70.5,-73.5\" stroke=\"#000000\"/>\n",
       "<text fill=\"#000000\" font-family=\"Times,serif\" font-size=\"14.00\" text-anchor=\"middle\" x=\"138\" y=\"-87.8\">dropout_15: Dropout</text>\n",
       "</g>\n",
       "<!-- 10503353104&#45;&gt;10474817232 -->\n",
       "<g class=\"edge\" id=\"edge6\">\n",
       "<title>10503353104-&gt;10474817232</title>\n",
       "<path d=\"M138,-146.4551C138,-138.3828 138,-128.6764 138,-119.6817\" fill=\"none\" stroke=\"#000000\"/>\n",
       "<polygon fill=\"#000000\" points=\"141.5001,-119.5903 138,-109.5904 134.5001,-119.5904 141.5001,-119.5903\" stroke=\"#000000\"/>\n",
       "</g>\n",
       "<!-- 10474818960 -->\n",
       "<g class=\"node\" id=\"node8\">\n",
       "<title>10474818960</title>\n",
       "<polygon fill=\"none\" points=\"82,-.5 82,-36.5 194,-36.5 194,-.5 82,-.5\" stroke=\"#000000\"/>\n",
       "<text fill=\"#000000\" font-family=\"Times,serif\" font-size=\"14.00\" text-anchor=\"middle\" x=\"138\" y=\"-14.8\">dense_16: Dense</text>\n",
       "</g>\n",
       "<!-- 10474817232&#45;&gt;10474818960 -->\n",
       "<g class=\"edge\" id=\"edge7\">\n",
       "<title>10474817232-&gt;10474818960</title>\n",
       "<path d=\"M138,-73.4551C138,-65.3828 138,-55.6764 138,-46.6817\" fill=\"none\" stroke=\"#000000\"/>\n",
       "<polygon fill=\"#000000\" points=\"141.5001,-46.5903 138,-36.5904 134.5001,-46.5904 141.5001,-46.5903\" stroke=\"#000000\"/>\n",
       "</g>\n",
       "</g>\n",
       "</svg>"
      ],
      "text/plain": [
       "<IPython.core.display.SVG object>"
      ]
     },
     "execution_count": 125,
     "metadata": {},
     "output_type": "execute_result"
    }
   ],
   "source": [
    "keras.utils.vis_utils.pydot = pyd\n",
    "\n",
    "#Visualize Model\n",
    "def visualize_model(model):\n",
    "    return SVG(model_to_dot(model,dpi=45).create(prog='dot', format='svg'))\n",
    "\n",
    "#call the function on your model\n",
    "visualize_model(glove_bilstm_model)"
   ]
  },
  {
   "cell_type": "code",
   "execution_count": 14,
   "metadata": {},
   "outputs": [],
   "source": [
    "#patient early stopping\n",
    "es = EarlyStopping(monitor='val_loss', mode='min', verbose=1, patience=10)\n",
    "mc = ModelCheckpoint('best_glove_bilstm_model.h5', monitor='val_accuracy', mode='max', verbose=1, \n",
    "                     save_best_only=True)"
   ]
  },
  {
   "cell_type": "code",
   "execution_count": null,
   "metadata": {
    "scrolled": true
   },
   "outputs": [
    {
     "name": "stdout",
     "output_type": "stream",
     "text": [
      "Train on 230604 samples, validate on 76868 samples\n",
      "Epoch 1/20\n",
      "230604/230604 [==============================] - 7863s 34ms/step - loss: 1.1483 - accuracy: 0.5107 - val_loss: 0.9097 - val_accuracy: 0.6028\n",
      "\n",
      "Epoch 00001: val_accuracy improved from -inf to 0.60277, saving model to best_glove_bilstm_model.h5\n",
      "Epoch 2/20\n",
      "230604/230604 [==============================] - 8289s 36ms/step - loss: 0.9160 - accuracy: 0.6060 - val_loss: 0.8147 - val_accuracy: 0.6497\n",
      "\n",
      "Epoch 00002: val_accuracy improved from 0.60277 to 0.64974, saving model to best_glove_bilstm_model.h5\n",
      "Epoch 3/20\n",
      "230604/230604 [==============================] - 7567s 33ms/step - loss: 0.8465 - accuracy: 0.6362 - val_loss: 0.8162 - val_accuracy: 0.6439\n",
      "\n",
      "Epoch 00003: val_accuracy did not improve from 0.64974\n",
      "Epoch 4/20\n",
      "230604/230604 [==============================] - 7286s 32ms/step - loss: 0.8096 - accuracy: 0.6540 - val_loss: 0.7657 - val_accuracy: 0.6713\n",
      "\n",
      "Epoch 00004: val_accuracy improved from 0.64974 to 0.67127, saving model to best_glove_bilstm_model.h5\n",
      "Epoch 5/20\n",
      "230604/230604 [==============================] - 7360s 32ms/step - loss: 0.7825 - accuracy: 0.6648 - val_loss: 0.7490 - val_accuracy: 0.6769\n",
      "\n",
      "Epoch 00005: val_accuracy improved from 0.67127 to 0.67689, saving model to best_glove_bilstm_model.h5\n",
      "Epoch 6/20\n",
      "118656/230604 [==============>...............] - ETA: 50:52 - loss: 0.7627 - accuracy: 0.6726"
     ]
    }
   ],
   "source": [
    "glove_bilstm_hist= glove_bilstm_model.fit(x = train_padded, y = ytrain, batch_size = 128 , epochs = 20,\n",
    "                   validation_split=0.25, verbose=1, callbacks=[es, mc])"
   ]
  },
  {
   "cell_type": "markdown",
   "metadata": {},
   "source": [
    "The training process stopped unexpectedly during the epoch 6 (jupyter kernel shutdown). I will load the saved best model and evaluate its on train and valid dataset and then continue training it. "
   ]
  },
  {
   "cell_type": "code",
   "execution_count": 4,
   "metadata": {},
   "outputs": [
    {
     "name": "stdout",
     "output_type": "stream",
     "text": [
      "WARNING:tensorflow:From /opt/anaconda3/lib/python3.7/site-packages/keras/backend/tensorflow_backend.py:422: The name tf.global_variables is deprecated. Please use tf.compat.v1.global_variables instead.\n",
      "\n"
     ]
    }
   ],
   "source": [
    "# load the best_model\n",
    "saved_best_glove_bilstm_model = load_model('best_glove_bilstm_model.h5')"
   ]
  },
  {
   "cell_type": "code",
   "execution_count": 9,
   "metadata": {},
   "outputs": [
    {
     "name": "stdout",
     "output_type": "stream",
     "text": [
      "307472/307472 [==============================] - 4580s 15ms/step\n",
      "76857/76857 [==============================] - 1148s 15ms/step\n",
      "Train: 0.693, Test: 0.675\n"
     ]
    }
   ],
   "source": [
    "_, train_acc = saved_best_glove_bilstm_model.evaluate(train_padded, ytrain, verbose=1)\n",
    "_, valid_acc = saved_best_glove_bilstm_model.evaluate(valid_padded, yvalid, verbose=1)\n",
    "print('Train: %.3f, Test: %.3f' % (train_acc, valid_acc))"
   ]
  },
  {
   "cell_type": "code",
   "execution_count": 10,
   "metadata": {},
   "outputs": [],
   "source": [
    "valid_pred_glove_bilstm = saved_best_glove_bilstm_model.predict(valid_padded)"
   ]
  },
  {
   "cell_type": "code",
   "execution_count": 11,
   "metadata": {},
   "outputs": [],
   "source": [
    "labels=[1,2,3,4,5]\n",
    "valid_pred_glove_bilstm_result=[]\n",
    "\n",
    "for p in valid_pred_glove_bilstm:\n",
    "    valid_pred_glove_bilstm_result.append(labels[np.argmax(p)])"
   ]
  },
  {
   "cell_type": "code",
   "execution_count": 12,
   "metadata": {
    "scrolled": true
   },
   "outputs": [
    {
     "name": "stdout",
     "output_type": "stream",
     "text": [
      "              precision    recall  f1-score   support\n",
      "\n",
      "         1.0       0.68      0.83      0.75      8637\n",
      "         2.0       0.49      0.36      0.41      6613\n",
      "         3.0       0.54      0.41      0.47      8731\n",
      "         4.0       0.56      0.51      0.53     18956\n",
      "         5.0       0.77      0.86      0.81     33920\n",
      "\n",
      "    accuracy                           0.68     76857\n",
      "   macro avg       0.61      0.59      0.60     76857\n",
      "weighted avg       0.66      0.68      0.66     76857\n",
      "\n"
     ]
    }
   ],
   "source": [
    "print(classification_report(valid['stars_review'], valid_pred_glove_bilstm_result))"
   ]
  },
  {
   "cell_type": "markdown",
   "metadata": {},
   "source": [
    "Continue training glove_bilstm model"
   ]
  },
  {
   "cell_type": "code",
   "execution_count": 18,
   "metadata": {},
   "outputs": [],
   "source": [
    "#patient early stopping\n",
    "es = EarlyStopping(monitor='val_loss', mode='min', verbose=1, patience=5)\n",
    "mc = ModelCheckpoint('best_glove_bilstm_model.h5', monitor='val_accuracy', mode='max', verbose=1, \n",
    "                     save_best_only=True)"
   ]
  },
  {
   "cell_type": "code",
   "execution_count": null,
   "metadata": {},
   "outputs": [
    {
     "name": "stdout",
     "output_type": "stream",
     "text": [
      "Train on 230604 samples, validate on 76868 samples\n",
      "Epoch 1/10\n",
      "230604/230604 [==============================] - 8370s 36ms/step - loss: 0.7634 - accuracy: 0.6729 - val_loss: 0.7378 - val_accuracy: 0.6816\n",
      "\n",
      "Epoch 00001: val_accuracy improved from -inf to 0.68162, saving model to best_glove_bilstm_model.h5\n",
      "Epoch 2/10\n",
      "230604/230604 [==============================] - 8469s 37ms/step - loss: 0.7445 - accuracy: 0.6800 - val_loss: 0.7476 - val_accuracy: 0.6826\n",
      "\n",
      "Epoch 00002: val_accuracy improved from 0.68162 to 0.68259, saving model to best_glove_bilstm_model.h5\n",
      "Epoch 3/10\n",
      "230604/230604 [==============================] - 8991s 39ms/step - loss: 0.7289 - accuracy: 0.6869 - val_loss: 0.7439 - val_accuracy: 0.6884\n",
      "\n",
      "Epoch 00003: val_accuracy improved from 0.68259 to 0.68843, saving model to best_glove_bilstm_model.h5\n",
      "Epoch 4/10\n",
      "230604/230604 [==============================] - 8374s 36ms/step - loss: 0.7156 - accuracy: 0.6937 - val_loss: 0.7461 - val_accuracy: 0.6864\n",
      "\n",
      "Epoch 00004: val_accuracy did not improve from 0.68843\n",
      "Epoch 5/10\n",
      "230604/230604 [==============================] - 7563s 33ms/step - loss: 0.7002 - accuracy: 0.6996 - val_loss: 0.7419 - val_accuracy: 0.6879\n",
      "\n",
      "Epoch 00005: val_accuracy did not improve from 0.68843\n",
      "Epoch 6/10\n",
      "221952/230604 [===========================>..] - ETA: 4:07 - loss: 0.6894 - accuracy: 0.7032"
     ]
    }
   ],
   "source": [
    "glove_bilstm_hist= saved_best_glove_bilstm_model.fit(x = train_padded, y = ytrain, batch_size = 128 , epochs = 10,\n",
    "                   validation_split=0.25, verbose=1, callbacks=[es, mc])"
   ]
  },
  {
   "cell_type": "code",
   "execution_count": 3,
   "metadata": {},
   "outputs": [
    {
     "name": "stdout",
     "output_type": "stream",
     "text": [
      "WARNING:tensorflow:From /opt/anaconda3/lib/python3.7/site-packages/keras/backend/tensorflow_backend.py:422: The name tf.global_variables is deprecated. Please use tf.compat.v1.global_variables instead.\n",
      "\n"
     ]
    }
   ],
   "source": [
    "# load the best_model\n",
    "saved_best_glove_bilstm_model_2 = load_model('best_glove_bilstm_model.h5')"
   ]
  },
  {
   "cell_type": "code",
   "execution_count": 11,
   "metadata": {},
   "outputs": [
    {
     "name": "stdout",
     "output_type": "stream",
     "text": [
      "307472/307472 [==============================] - 5238s 17ms/step\n",
      "76857/76857 [==============================] - 1373s 18ms/step\n",
      "Train: 0.715, Test: 0.684\n"
     ]
    }
   ],
   "source": [
    "_, train_acc = saved_best_glove_bilstm_model_2.evaluate(train_padded, ytrain, verbose=1)\n",
    "_, valid_acc = saved_best_glove_bilstm_model_2.evaluate(valid_padded, yvalid, verbose=1)\n",
    "print('Train: %.3f, Test: %.3f' % (train_acc, valid_acc))"
   ]
  },
  {
   "cell_type": "code",
   "execution_count": 13,
   "metadata": {},
   "outputs": [],
   "source": [
    "valid_pred_glove_bilstm_2 = saved_best_glove_bilstm_model_2.predict(valid_padded)"
   ]
  },
  {
   "cell_type": "code",
   "execution_count": 14,
   "metadata": {},
   "outputs": [],
   "source": [
    "labels=[1,2,3,4,5]\n",
    "valid_pred_glove_bilstm_result_2=[]\n",
    "\n",
    "for p in valid_pred_glove_bilstm_2:\n",
    "    valid_pred_glove_bilstm_result_2.append(labels[np.argmax(p)])"
   ]
  },
  {
   "cell_type": "code",
   "execution_count": 15,
   "metadata": {
    "scrolled": true
   },
   "outputs": [
    {
     "name": "stdout",
     "output_type": "stream",
     "text": [
      "              precision    recall  f1-score   support\n",
      "\n",
      "         1.0       0.74      0.76      0.75      8637\n",
      "         2.0       0.50      0.44      0.47      6613\n",
      "         3.0       0.54      0.48      0.51      8731\n",
      "         4.0       0.59      0.47      0.52     18956\n",
      "         5.0       0.76      0.88      0.82     33920\n",
      "\n",
      "    accuracy                           0.68     76857\n",
      "   macro avg       0.63      0.61      0.61     76857\n",
      "weighted avg       0.67      0.68      0.67     76857\n",
      "\n"
     ]
    }
   ],
   "source": [
    "print(classification_report(valid['stars_review'], valid_pred_glove_bilstm_result_2))"
   ]
  },
  {
   "cell_type": "markdown",
   "metadata": {},
   "source": [
    "### Our best model is BiLSTM \n",
    "\n",
    "### Apply best model to predict Test dataset\n",
    "\n",
    "1. BiLSTM with Word2Vec embedding Model"
   ]
  },
  {
   "cell_type": "code",
   "execution_count": 79,
   "metadata": {},
   "outputs": [],
   "source": [
    "test = pd.read_csv(\"yelp_test.csv\")"
   ]
  },
  {
   "cell_type": "code",
   "execution_count": 81,
   "metadata": {},
   "outputs": [],
   "source": [
    "y_test = test[['review_stars__1.0', 'review_stars__2.0',\n",
    "       'review_stars__3.0', 'review_stars__4.0', 'review_stars__5.0']]"
   ]
  },
  {
   "cell_type": "markdown",
   "metadata": {},
   "source": [
    "#### Clean test set"
   ]
  },
  {
   "cell_type": "code",
   "execution_count": 87,
   "metadata": {},
   "outputs": [],
   "source": [
    "test = text_cleaning(test)"
   ]
  },
  {
   "cell_type": "code",
   "execution_count": 88,
   "metadata": {},
   "outputs": [
    {
     "data": {
      "text/html": [
       "<div>\n",
       "<style scoped>\n",
       "    .dataframe tbody tr th:only-of-type {\n",
       "        vertical-align: middle;\n",
       "    }\n",
       "\n",
       "    .dataframe tbody tr th {\n",
       "        vertical-align: top;\n",
       "    }\n",
       "\n",
       "    .dataframe thead th {\n",
       "        text-align: right;\n",
       "    }\n",
       "</style>\n",
       "<table border=\"1\" class=\"dataframe\">\n",
       "  <thead>\n",
       "    <tr style=\"text-align: right;\">\n",
       "      <th></th>\n",
       "      <th>stars_review</th>\n",
       "      <th>tokens</th>\n",
       "      <th>text_clean</th>\n",
       "      <th>text</th>\n",
       "    </tr>\n",
       "  </thead>\n",
       "  <tbody>\n",
       "    <tr>\n",
       "      <td>0</td>\n",
       "      <td>3.0</td>\n",
       "      <td>[finding, place, large, patio, hot, summer, da...</td>\n",
       "      <td>finding place large patio hot summer day can n...</td>\n",
       "      <td>Finding a place with a large patio on a hot su...</td>\n",
       "    </tr>\n",
       "    <tr>\n",
       "      <td>1</td>\n",
       "      <td>4.0</td>\n",
       "      <td>[just, business, dinner, tonight, private, roo...</td>\n",
       "      <td>just business dinner tonight private room shar...</td>\n",
       "      <td>Just had a business dinner here tonight. We we...</td>\n",
       "    </tr>\n",
       "    <tr>\n",
       "      <td>2</td>\n",
       "      <td>1.0</td>\n",
       "      <td>[tried, mojo, first, time, last, night, seriou...</td>\n",
       "      <td>tried mojo first time last night seriously wor...</td>\n",
       "      <td>Tried Mojo for the first time last night and i...</td>\n",
       "    </tr>\n",
       "    <tr>\n",
       "      <td>3</td>\n",
       "      <td>5.0</td>\n",
       "      <td>[celebrated, father, day, mom, ordered, grille...</td>\n",
       "      <td>celebrated father day mom ordered grilled rain...</td>\n",
       "      <td>Celebrated Fathers Day here! \\nMy mom ordered ...</td>\n",
       "    </tr>\n",
       "    <tr>\n",
       "      <td>4</td>\n",
       "      <td>3.0</td>\n",
       "      <td>[lox, bagel, sandwich, freaking, dollar, said,...</td>\n",
       "      <td>lox bagel sandwich freaking dollar said came d...</td>\n",
       "      <td>$9 for a lox and bagel sandwich, $9 freaking d...</td>\n",
       "    </tr>\n",
       "  </tbody>\n",
       "</table>\n",
       "</div>"
      ],
      "text/plain": [
       "   stars_review                                             tokens  \\\n",
       "0           3.0  [finding, place, large, patio, hot, summer, da...   \n",
       "1           4.0  [just, business, dinner, tonight, private, roo...   \n",
       "2           1.0  [tried, mojo, first, time, last, night, seriou...   \n",
       "3           5.0  [celebrated, father, day, mom, ordered, grille...   \n",
       "4           3.0  [lox, bagel, sandwich, freaking, dollar, said,...   \n",
       "\n",
       "                                          text_clean  \\\n",
       "0  finding place large patio hot summer day can n...   \n",
       "1  just business dinner tonight private room shar...   \n",
       "2  tried mojo first time last night seriously wor...   \n",
       "3  celebrated father day mom ordered grilled rain...   \n",
       "4  lox bagel sandwich freaking dollar said came d...   \n",
       "\n",
       "                                                text  \n",
       "0  Finding a place with a large patio on a hot su...  \n",
       "1  Just had a business dinner here tonight. We we...  \n",
       "2  Tried Mojo for the first time last night and i...  \n",
       "3  Celebrated Fathers Day here! \\nMy mom ordered ...  \n",
       "4  $9 for a lox and bagel sandwich, $9 freaking d...  "
      ]
     },
     "execution_count": 88,
     "metadata": {},
     "output_type": "execute_result"
    }
   ],
   "source": [
    "test.loc[:,[\"stars_review\",\"tokens\",\"text_clean\",\"text\"]].head()"
   ]
  },
  {
   "cell_type": "code",
   "execution_count": 89,
   "metadata": {},
   "outputs": [],
   "source": [
    "test.to_csv(\"test_cleaned_032520.csv\")"
   ]
  },
  {
   "cell_type": "code",
   "execution_count": 16,
   "metadata": {},
   "outputs": [],
   "source": [
    "#test = pd.read_csv(\"test_cleaned_032520.csv\")"
   ]
  },
  {
   "cell_type": "markdown",
   "metadata": {},
   "source": [
    "#### Tokenize and pad sequence on test set"
   ]
  },
  {
   "cell_type": "code",
   "execution_count": 101,
   "metadata": {},
   "outputs": [],
   "source": [
    "# Use the tokenizer and pad_sequences to transform valid dataset \n",
    "test_sequences = tokenizer.texts_to_sequences(test[\"text_clean\"].tolist())\n",
    "test_padded = pad_sequences(test_sequences, maxlen=max_sequence_len,\n",
    "                            padding=\"post\", truncating=\"post\")"
   ]
  },
  {
   "cell_type": "code",
   "execution_count": 28,
   "metadata": {},
   "outputs": [],
   "source": [
    "savetxt(\"test_padded.csv\", test_padded, delimiter=',')"
   ]
  },
  {
   "cell_type": "markdown",
   "metadata": {},
   "source": [
    "#### Use BiLSTM-Word2Vec model on test set"
   ]
  },
  {
   "cell_type": "code",
   "execution_count": 103,
   "metadata": {},
   "outputs": [
    {
     "name": "stdout",
     "output_type": "stream",
     "text": [
      "42698/42698 [==============================] - 350s 8ms/step\n"
     ]
    }
   ],
   "source": [
    "test_pred_bilstm = saved_best_bilstm_model.predict(test_padded, batch_size=2048, \n",
    "                            verbose=1)"
   ]
  },
  {
   "cell_type": "code",
   "execution_count": 104,
   "metadata": {},
   "outputs": [],
   "source": [
    "labels = [1,2,3,4,5]\n",
    "test_pred_bilstm_result=[]\n",
    "\n",
    "for p in test_pred_bilstm:\n",
    "    test_pred_bilstm_result.append(labels[np.argmax(p)])"
   ]
  },
  {
   "cell_type": "code",
   "execution_count": 105,
   "metadata": {
    "scrolled": true
   },
   "outputs": [
    {
     "name": "stdout",
     "output_type": "stream",
     "text": [
      "              precision    recall  f1-score   support\n",
      "\n",
      "         1.0       0.74      0.76      0.75      4800\n",
      "         2.0       0.51      0.32      0.39      3676\n",
      "         3.0       0.49      0.43      0.46      4852\n",
      "         4.0       0.54      0.53      0.54     10529\n",
      "         5.0       0.77      0.85      0.81     18841\n",
      "\n",
      "    accuracy                           0.67     42698\n",
      "   macro avg       0.61      0.58      0.59     42698\n",
      "weighted avg       0.66      0.67      0.66     42698\n",
      "\n"
     ]
    }
   ],
   "source": [
    "print(classification_report(test['stars_review'], test_pred_bilstm_result))"
   ]
  },
  {
   "cell_type": "code",
   "execution_count": 17,
   "metadata": {},
   "outputs": [
    {
     "data": {
      "text/html": [
       "<div>\n",
       "<style scoped>\n",
       "    .dataframe tbody tr th:only-of-type {\n",
       "        vertical-align: middle;\n",
       "    }\n",
       "\n",
       "    .dataframe tbody tr th {\n",
       "        vertical-align: top;\n",
       "    }\n",
       "\n",
       "    .dataframe thead th {\n",
       "        text-align: right;\n",
       "    }\n",
       "</style>\n",
       "<table border=\"1\" class=\"dataframe\">\n",
       "  <thead>\n",
       "    <tr style=\"text-align: right;\">\n",
       "      <th></th>\n",
       "      <th>stars_review</th>\n",
       "      <th>tokens</th>\n",
       "      <th>text_clean</th>\n",
       "      <th>text</th>\n",
       "    </tr>\n",
       "  </thead>\n",
       "  <tbody>\n",
       "    <tr>\n",
       "      <td>0</td>\n",
       "      <td>3.0</td>\n",
       "      <td>['finding', 'place', 'large', 'patio', 'hot', ...</td>\n",
       "      <td>finding place large patio hot summer day can n...</td>\n",
       "      <td>Finding a place with a large patio on a hot su...</td>\n",
       "    </tr>\n",
       "    <tr>\n",
       "      <td>1</td>\n",
       "      <td>4.0</td>\n",
       "      <td>['just', 'business', 'dinner', 'tonight', 'pri...</td>\n",
       "      <td>just business dinner tonight private room shar...</td>\n",
       "      <td>Just had a business dinner here tonight. We we...</td>\n",
       "    </tr>\n",
       "    <tr>\n",
       "      <td>2</td>\n",
       "      <td>1.0</td>\n",
       "      <td>['tried', 'mojo', 'first', 'time', 'last', 'ni...</td>\n",
       "      <td>tried mojo first time last night seriously wor...</td>\n",
       "      <td>Tried Mojo for the first time last night and i...</td>\n",
       "    </tr>\n",
       "    <tr>\n",
       "      <td>3</td>\n",
       "      <td>5.0</td>\n",
       "      <td>['celebrated', 'father', 'day', 'mom', 'ordere...</td>\n",
       "      <td>celebrated father day mom ordered grilled rain...</td>\n",
       "      <td>Celebrated Fathers Day here! \\nMy mom ordered ...</td>\n",
       "    </tr>\n",
       "    <tr>\n",
       "      <td>4</td>\n",
       "      <td>3.0</td>\n",
       "      <td>['lox', 'bagel', 'sandwich', 'freaking', 'doll...</td>\n",
       "      <td>lox bagel sandwich freaking dollar said came d...</td>\n",
       "      <td>$9 for a lox and bagel sandwich, $9 freaking d...</td>\n",
       "    </tr>\n",
       "  </tbody>\n",
       "</table>\n",
       "</div>"
      ],
      "text/plain": [
       "   stars_review                                             tokens  \\\n",
       "0           3.0  ['finding', 'place', 'large', 'patio', 'hot', ...   \n",
       "1           4.0  ['just', 'business', 'dinner', 'tonight', 'pri...   \n",
       "2           1.0  ['tried', 'mojo', 'first', 'time', 'last', 'ni...   \n",
       "3           5.0  ['celebrated', 'father', 'day', 'mom', 'ordere...   \n",
       "4           3.0  ['lox', 'bagel', 'sandwich', 'freaking', 'doll...   \n",
       "\n",
       "                                          text_clean  \\\n",
       "0  finding place large patio hot summer day can n...   \n",
       "1  just business dinner tonight private room shar...   \n",
       "2  tried mojo first time last night seriously wor...   \n",
       "3  celebrated father day mom ordered grilled rain...   \n",
       "4  lox bagel sandwich freaking dollar said came d...   \n",
       "\n",
       "                                                text  \n",
       "0  Finding a place with a large patio on a hot su...  \n",
       "1  Just had a business dinner here tonight. We we...  \n",
       "2  Tried Mojo for the first time last night and i...  \n",
       "3  Celebrated Fathers Day here! \\nMy mom ordered ...  \n",
       "4  $9 for a lox and bagel sandwich, $9 freaking d...  "
      ]
     },
     "execution_count": 17,
     "metadata": {},
     "output_type": "execute_result"
    }
   ],
   "source": [
    "test.loc[:,[\"stars_review\",\"tokens\",\"text_clean\",\"text\"]].head()"
   ]
  },
  {
   "cell_type": "markdown",
   "metadata": {},
   "source": [
    "2. BiLSTM with GloVe embedding"
   ]
  },
  {
   "cell_type": "code",
   "execution_count": 23,
   "metadata": {},
   "outputs": [],
   "source": [
    "# Use the tokenizer and pad_sequences to transform valid dataset \n",
    "test_sequences = tokenizer.texts_to_sequences(test[\"text_clean\"].tolist())\n",
    "test_padded = pad_sequences(test_sequences, maxlen=max_sequence_len,\n",
    "                            padding=\"post\", truncating=\"post\")"
   ]
  },
  {
   "cell_type": "code",
   "execution_count": 25,
   "metadata": {},
   "outputs": [
    {
     "name": "stdout",
     "output_type": "stream",
     "text": [
      "42698/42698 [==============================] - 333s 8ms/step\n"
     ]
    }
   ],
   "source": [
    "test_pred_glove_bilstm = saved_best_glove_bilstm_model_2.predict(test_padded, batch_size=2048,  \n",
    "                            verbose=1)\n",
    " "
   ]
  },
  {
   "cell_type": "code",
   "execution_count": 26,
   "metadata": {},
   "outputs": [],
   "source": [
    "labels = [1,2,3,4,5]\n",
    "test_pred_glove_bilstm_result=[]\n",
    "\n",
    "for p in test_pred_glove_bilstm:\n",
    "    test_pred_glove_bilstm_result.append(labels[np.argmax(p)])"
   ]
  },
  {
   "cell_type": "code",
   "execution_count": 27,
   "metadata": {
    "scrolled": true
   },
   "outputs": [
    {
     "name": "stdout",
     "output_type": "stream",
     "text": [
      "              precision    recall  f1-score   support\n",
      "\n",
      "         1.0       0.74      0.76      0.75      4800\n",
      "         2.0       0.50      0.46      0.48      3676\n",
      "         3.0       0.54      0.47      0.50      4852\n",
      "         4.0       0.59      0.47      0.52     10529\n",
      "         5.0       0.77      0.88      0.82     18841\n",
      "\n",
      "    accuracy                           0.68     42698\n",
      "   macro avg       0.63      0.61      0.61     42698\n",
      "weighted avg       0.67      0.68      0.67     42698\n",
      "\n"
     ]
    }
   ],
   "source": [
    "print(classification_report(test['stars_review'], test_pred_glove_bilstm_result))"
   ]
  },
  {
   "cell_type": "markdown",
   "metadata": {},
   "source": [
    "The BiLSTM model with GloVe embedding is slightly better than the Word2Vec model as overall accuracy score of GloVe model is 68% and 67% for the Word2Vec model. \n",
    "\n",
    "If we look at the recall score for each class (stars), the model is really good at differentiating between 1-star and 5-star reviews, moderate at 4-star and slightly poor on 2- and 3- stars. This make sense as the 1-star and 5-star reviews are more likely to present stronger sentiment, either strong positive or strong negative, the model can pick up the differences between 1-star and 5-star reviews and predict more correctly than middle ratings(star 2,3,4)"
   ]
  },
  {
   "cell_type": "markdown",
   "metadata": {},
   "source": [
    "## Future Work:\n",
    "\n",
    "\n",
    "- Train with more data\n",
    "- Continue improve text cleaning (e.g., spelling auto-correction)\n",
    "- Fine tuning word vectors in the embedding layers\n",
    "- Fine tune structures and parameters of neural network models\n",
    "    - Changing the complexity of the network\n",
    "    - Use grid search or random search to tune a suitable number of nodes and/or layers \n",
    "    - Add additional regularizations(penalization, dropout, early stopping, weight constraint)\n",
    "    - Try different layering combinations\n",
    "\n",
    "\n",
    "    \n",
    "    "
   ]
  },
  {
   "cell_type": "code",
   "execution_count": null,
   "metadata": {},
   "outputs": [],
   "source": []
  }
 ],
 "metadata": {
  "kernelspec": {
   "display_name": "Python 3",
   "language": "python",
   "name": "python3"
  },
  "language_info": {
   "codemirror_mode": {
    "name": "ipython",
    "version": 3
   },
   "file_extension": ".py",
   "mimetype": "text/x-python",
   "name": "python",
   "nbconvert_exporter": "python",
   "pygments_lexer": "ipython3",
   "version": "3.7.4"
  }
 },
 "nbformat": 4,
 "nbformat_minor": 2
}
